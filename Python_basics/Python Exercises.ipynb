{
 "cells": [
  {
   "cell_type": "markdown",
   "metadata": {},
   "source": [
    "# 15 Ejercicios cortos"
   ]
  },
  {
   "cell_type": "markdown",
   "metadata": {},
   "source": [
    "Cada ejercicio es independiente y no tiene relación con los anteriores (como norma general). Siéntete libre de importar las bibliotecas que quieras.\n",
    "\n",
    "En cada ejercicio deberás escribir la función/clase requerida, y probar a llamarla (o a crear una instancia) con valores de prueba."
   ]
  },
  {
   "cell_type": "markdown",
   "metadata": {},
   "source": [
    "#### 1. Escribe una función `hipotenusa` que tome como argumentos posicionales los dos catetos de un triángulo rectángulo y devuelva la hipotenusa de dicho triángulo."
   ]
  },
  {
   "cell_type": "code",
   "execution_count": 9,
   "metadata": {
    "collapsed": false
   },
   "outputs": [],
   "source": [
    "import math\n",
    "def hipotenusa(a,b):\n",
    "    if not(a==0 or b==0):\n",
    "        return(math.sqrt(a**2+b**2))\n",
    "    else:\n",
    "        print(\"error:a y b no pueden ser nulos\")"
   ]
  },
  {
   "cell_type": "markdown",
   "metadata": {},
   "source": [
    "#### 2. Define una clase que tenga al menos dos métodos: `setString`, que fija un string pasado como argumento como *instance variable*; y `getString`, que devuelve dicho string:"
   ]
  },
  {
   "cell_type": "code",
   "execution_count": 75,
   "metadata": {
    "collapsed": false
   },
   "outputs": [
    {
     "name": "stdout",
     "output_type": "stream",
     "text": [
      "otra string\n"
     ]
    }
   ],
   "source": [
    "class miclase:\n",
    "    def __init__ (self,string):\n",
    "        self.string=string\n",
    "    def setString(self,string):\n",
    "        self.string = string\n",
    "        return\n",
    "    def getString(self):\n",
    "        return(self.string)\n",
    "\n",
    "string=\"hola\"\n",
    "unaclase=miclase(string)\n",
    "unaclase.setString(\"otra string\")\n",
    "print(unaclase.getString())"
   ]
  },
  {
   "cell_type": "markdown",
   "metadata": {},
   "source": [
    "#### 3. Escribe una función llamada `wordcount` que tome como argumento un solo string con varias palabras (separadas por espacios en blanco) y devuelva el número de palabras del string pasado:"
   ]
  },
  {
   "cell_type": "code",
   "execution_count": 14,
   "metadata": {
    "collapsed": false
   },
   "outputs": [
    {
     "name": "stdout",
     "output_type": "stream",
     "text": [
      "['vamos', 'a', 'ver', 'que', 'dice', 'de', 'esta', 'string']\n",
      "8\n"
     ]
    }
   ],
   "source": [
    "def wordcount(string):\n",
    "    stringlist=string.split(\" \")\n",
    "    return(len(stringlist))\n",
    "\n",
    "string=\"vamos a ver que dice de esta string\"\n",
    "print(wordcount(string))"
   ]
  },
  {
   "cell_type": "markdown",
   "metadata": {},
   "source": [
    "#### 4. Escribe una función llamada `divisibles_por_7` que tome como argumentos un número arbitrario de números enteros y devuelva una lista con solo aquellos que sean divisibles por 7 (sin dar decimales):"
   ]
  },
  {
   "cell_type": "code",
   "execution_count": 15,
   "metadata": {
    "collapsed": false
   },
   "outputs": [
    {
     "name": "stdout",
     "output_type": "stream",
     "text": [
      "[14, 21]\n"
     ]
    }
   ],
   "source": [
    "def divisibles_por_siete(vector):\n",
    "    result=[]\n",
    "    for elem in vector:\n",
    "        if elem%7==0:\n",
    "            result.append(elem)\n",
    "    return ( result )\n",
    "\n",
    "vector=[12,14,15,21]\n",
    "print(divisibles_por_siete(vector))"
   ]
  },
  {
   "cell_type": "markdown",
   "metadata": {},
   "source": [
    "#### 5. Escribe una función `factorial` que devuelva el factorial de un número entero."
   ]
  },
  {
   "cell_type": "code",
   "execution_count": 21,
   "metadata": {
    "collapsed": false
   },
   "outputs": [
    {
     "name": "stdout",
     "output_type": "stream",
     "text": [
      "3628800\n"
     ]
    }
   ],
   "source": [
    "def factorial(num):\n",
    "    factorial = 1\n",
    "    while num > 1:\n",
    "        factorial=factorial*num\n",
    "        num=num-1\n",
    "    return (factorial)\n",
    "\n",
    "a=factorial(10)\n",
    "print(a)"
   ]
  },
  {
   "cell_type": "markdown",
   "metadata": {},
   "source": [
    "####  6. Escribe una función `manhattan` que compute la distancia de Manhattan entre dos puntos bidimensionales (donde cada uno de estos puntos tiene coordenadas de la forma `(x,y)`):"
   ]
  },
  {
   "cell_type": "code",
   "execution_count": 85,
   "metadata": {
    "collapsed": false
   },
   "outputs": [
    {
     "name": "stdout",
     "output_type": "stream",
     "text": [
      "2\n"
     ]
    }
   ],
   "source": [
    "import math\n",
    "def manhattan(x,y):\n",
    "    return (abs(x[0]-y[0])+abs(x[1]-y[1]))\n"
   ]
  },
  {
   "cell_type": "markdown",
   "metadata": {},
   "source": [
    "#### 7. Define una función `overlapping` que tome como argumento dos colecciones. Si ambas colecciones tienen al menos un elemento en común, debe devolver `True`. Si no es así, debe devolver `False`:"
   ]
  },
  {
   "cell_type": "code",
   "execution_count": 23,
   "metadata": {
    "collapsed": false
   },
   "outputs": [
    {
     "name": "stdout",
     "output_type": "stream",
     "text": [
      "True\n",
      "False\n"
     ]
    }
   ],
   "source": [
    "def intersect(a,b):\n",
    "    return (len(set(a)&set(b))>0)\n",
    "a=[2,3,4]\n",
    "b=[2,2,2]\n",
    "print(intersect(a,b))\n",
    "a=[2,3,4]\n",
    "b=[]\n",
    "print(intersect(a,b))"
   ]
  },
  {
   "cell_type": "markdown",
   "metadata": {},
   "source": [
    "#### 8. Define una función `filtrar_palabras_largas` que tome como argumento una lista de palabras (strings), y una longitud máxima `n`. Esta función debe devolver una lista solo con las palabras que son más cortas que `n`:"
   ]
  },
  {
   "cell_type": "code",
   "execution_count": 25,
   "metadata": {
    "collapsed": false
   },
   "outputs": [
    {
     "name": "stdout",
     "output_type": "stream",
     "text": [
      "['hola']\n"
     ]
    }
   ],
   "source": [
    "def filtrar_palabras_largas(lista,n):\n",
    "    result=[]\n",
    "    for palabra in lista:\n",
    "        if(len(palabra)<n):\n",
    "            result.append(palabra)\n",
    "    return(result)\n",
    "lista=[\"hola\",\"desayuno\",\"abecedario\"]\n",
    "print(filtrar_palabras_largas(lista,5))"
   ]
  },
  {
   "cell_type": "markdown",
   "metadata": {},
   "source": [
    "#### 9. Escribe una función `desv_tipica` que tome como argumento una distribución (lista) de números y devuelva la desviación típica. *Nota: aquí no vale utilizar Numpy ni pandas*:"
   ]
  },
  {
   "cell_type": "code",
   "execution_count": 32,
   "metadata": {
    "collapsed": false
   },
   "outputs": [
    {
     "name": "stdout",
     "output_type": "stream",
     "text": [
      "2.258448962446646\n"
     ]
    }
   ],
   "source": [
    "import math\n",
    "def desv_tipica(lista):\n",
    "    suma=0\n",
    "    for x in lista:\n",
    "        suma=suma+x\n",
    "    media=suma/len(lista)\n",
    "    error=0\n",
    "    for x in lista:\n",
    "        error=error+(x-media)**2\n",
    "    return(math.sqrt(error/len(lista)))\n",
    "lista=[1,1,1,2,3,4,5,6,6,6,6,7,1]\n",
    "print(desv_tipica(lista))\n",
    "        \n",
    "    "
   ]
  },
  {
   "cell_type": "markdown",
   "metadata": {},
   "source": [
    "#### 10. Escribe una función `suma_hasta_el_primo` que tome como argumento una lista de números y:\n",
    "+ Vaya recorriendo la lista de izquierda a derecha.\n",
    "+ Si un número no es primo, lo sumará a una `suma_acumulada`.\n",
    "+ Si un número es primo, se interrumpe la ejecución y se devuelve la `suma_acumulada` (sin sumar el número primo) hasta el momento.\n",
    "\n",
    "*Pista:* igual te resulta más sencillo escribir dos funciones: una que chequee si un número es primo o no, y luego ya `suma_hasta_el_primo`, y que utilice internamente esa función de chequear primos."
   ]
  },
  {
   "cell_type": "code",
   "execution_count": 42,
   "metadata": {
    "collapsed": false
   },
   "outputs": [
    {
     "name": "stdout",
     "output_type": "stream",
     "text": [
      "20\n"
     ]
    }
   ],
   "source": [
    "\n",
    "def es_primo(numero):\n",
    "    for i in range(2,numero-1):\n",
    "        if(numero%i==0):\n",
    "            return False\n",
    "    return True\n",
    "\n",
    "def suma_hasta_el_primo(lista):\n",
    "    suma_acumulada=0\n",
    "    for num in lista:\n",
    "        if(not es_primo(num)):\n",
    "            suma_acumulada=suma_acumulada+num\n",
    "        else:\n",
    "            return suma_acumulada\n",
    "\n",
    "\n",
    "lista=[10,10,5,4,4]\n",
    "print(suma_hasta_el_primo(lista))\n",
    "        \n",
    "    "
   ]
  },
  {
   "cell_type": "markdown",
   "metadata": {},
   "source": [
    "####  11. Escribe una función `juego_de_numero` que:\n",
    "+ Tome como argumento un número (entero).\n",
    "+ Si el número es par, divídelo por 2.\n",
    "+ Si es impar, multiplícalo por 3 y súmale 1.\n",
    "+ Continúa haciéndolo hasta que tu resultado sea 1.\n",
    "+ Devuelve el número de \"números visitados\", incluyendo el inicial y el 1.\n",
    "\n",
    "Por ejemplo: si llamamos a `juego_de_numero(3)`, la secuencia es 3-10-5-16-8-4-2-1."
   ]
  },
  {
   "cell_type": "code",
   "execution_count": 47,
   "metadata": {
    "collapsed": false
   },
   "outputs": [
    {
     "data": {
      "text/plain": [
       "8"
      ]
     },
     "execution_count": 47,
     "metadata": {},
     "output_type": "execute_result"
    }
   ],
   "source": [
    "def juego_de_numero(numero):\n",
    "    numeros_visitados=1\n",
    "    while(numero!=1):\n",
    "        numeros_visitados+=1\n",
    "        if(numero%2==0):\n",
    "            numero/=2        \n",
    "        else:\n",
    "            numero=numero*3+1     \n",
    "    return numeros_visitados\n",
    "juego_de_numero(3)"
   ]
  },
  {
   "cell_type": "markdown",
   "metadata": {},
   "source": [
    "#### 12. Si probamos `juego_de_numero` con todos los números del 1 al 100, ¿cuál es el que da más \"números visitados\"?"
   ]
  },
  {
   "cell_type": "code",
   "execution_count": 58,
   "metadata": {
    "collapsed": false
   },
   "outputs": [
    {
     "name": "stdout",
     "output_type": "stream",
     "text": [
      "el que mas numeros ha visitado es el 97 con 119 visitas\n"
     ]
    }
   ],
   "source": [
    "lista=range(1,100)\n",
    "max=(0,0)\n",
    "for numero in lista:\n",
    "    num_visitados=juego_de_numero(numero)\n",
    "    if(num_visitados>max[1]):\n",
    "        max=(numero,num_visitados)\n",
    "print(\"el que mas numeros ha visitado es el %d con %d visitas\" % (max[0],max[1]))\n"
   ]
  },
  {
   "cell_type": "markdown",
   "metadata": {},
   "source": [
    "#### 13. Consigue en una sola línea de código averiguar cuántos elementos distintos hay en la siguiente lista de 300 elementos:"
   ]
  },
  {
   "cell_type": "code",
   "execution_count": 59,
   "metadata": {
    "collapsed": false
   },
   "outputs": [
    {
     "name": "stdout",
     "output_type": "stream",
     "text": [
      "241\n"
     ]
    }
   ],
   "source": [
    "la_lista = ['da', 'e', 'e', 'eccebd', 'fdfdce', 'ad', 'dadcd', 'baadede', 'ebb', 'f', 'acbdf', 'eeccb', 'fe', \n",
    "            'fcffbcc', 'dffadd', 'cbdeca', 'ff', 'aa', 'cbfe', 'aedaaf', 'd', 'efbfd', 'efaaee', 'dae', \n",
    "            'befdeb', 'daaecd', 'b', 'dddd', 'cae', 'ac', 'fee', 'ada', 'dbae', 'adfedd', 'e', 'ddaefca', \n",
    "            'bf', 'ddeceee', 'aae', 'bedbe', 'caafddf', 'ba', 'dcdf', 'edefcbd', 'cfdcb', 'dcbf', \n",
    "            'cfccefe', 'fd', 'fdae', 'eb', 'add', 'afaa', 'cdedabf', 'fdbebe', 'dfeae', 'debcca', \n",
    "            'eae', 'bfeddec', 'ccbbbb', 'af', 'c', 'ddcea', 'dabddf', 'efcaec', 'cec', 'bdfce', \n",
    "            'bacccdd', 'af', 'dd', 'c', 'acfdea', 'bacfc', 'bedaf', 'dfc', 'cefdbc', 'ebefc', 'cee', \n",
    "            'decacef', 'cfccddb', 'c', 'ebfb', 'acfb', 'c', 'aeede', 'fed', 'fabc', 'fcfb', 'ad', 'bc', \n",
    "            'aaadcd', 'cf', 'a', 'bc', 'ecaabcc', 'eeebce', 'eba', 'dfcaf', 'f', 'bcd', 'cc', 'daecffd', \n",
    "            'f', 'def', 'ebc', 'bcbcd', 'a', 'dbae', 'a', 'dbfdd', 'bdbbff', 'bacacdc', 'd', 'acfaab', 'f', \n",
    "            'dccfeba', 'dccf', 'defcce', 'cbbfbce', 'abddf', 'aaed', 'abfc', 'acab', 'bdceae', 'fc', 'cfdb', \n",
    "            'adbdb', 'e', 'cdbabf', 'fbaae', 'eaabda', 'bcdfea', 'bdcfaeb', 'afaccb', 'aa', 'fbdd', 'bae', \n",
    "            'b', 'ccdefc', 'c', 'fcffaa', 'aadeeb', 'ea', 'fcdfbf', 'fa', 'eccf', 'dcbcee', 'cbbd', 'fedcd', \n",
    "            'eeeec', 'aaafcbb', 'fafa', 'beaab', 'ecdf', 'cceaaf', 'dafdcf', 'cbfe', 'ff', 'd', 'e', 'ebcdb', \n",
    "            'ecb', 'f', 'bafb', 'dacdbf', 'ccd', 'abcc', 'ed', 'ddcdeb', 'bcb', 'cefbec', 'e', 'cddeb', \n",
    "            'eacccea', 'f', 'faeaaef', 'ddd', 'dfb', 'bda', 'acdf', 'fcffa', 'a', 'fc', 'baffac', 'efadfca', \n",
    "            'e', 'fb', 'bedfbd', 'eb', 'ceaece', 'fdcbfea', 'fda', 'fbbebf', 'cecbffa', 'beabecc', 'eddfc', \n",
    "            'bab', 'abfe', 'ab', 'bdada', 'ccdf', 'bfeaeaa', 'ac', 'eb', 'fbbbf', 'ddab', 'baddadd', 'bcbebec', \n",
    "            'afbaca', 'aa', 'db', 'aafcff', 'eabcadb', 'fe', 'adc', 'eabacbd', 'ffccdd', 'dbfdcc', 'cff', 'fbb', \n",
    "            'fadd', 'cbcb', 'bfeacde', 'feed', 'fbae', 'debb', 'dffe', 'de', 'eaeefc', 'ccedfb', 'eefb', \n",
    "            'fdddfd', 'fdfee', 'cbecfd', 'f', 'e', 'e', 'bcfafe', 'fdfaef', 'ddbad', 'cbee', 'a', 'dec', 'fd', \n",
    "            'd', 'dee', 'daadcd', 'fbaaab', 'b', 'f', 'cabffd', 'edfd', 'fafccbc', 'cbdbad', 'ceaadae', \n",
    "            'eafdfd', 'abebfc', 'b', 'bdbeffe', 'aabcabd', 'fcbaab', 'dae', 'd', 'fdccbd', 'eaedfd', 'dbbc', \n",
    "            'fb', 'bcddb', 'abddac', 'da', 'abedf', 'fa', 'ccbaa', 'efae', 'abd', 'aebe', 'cdcd', 'd', 'abcc', \n",
    "            'edccba', 'dedd', 'a', 'b', 'a', 'd', 'fbbdefd', 'ccfdcae', 'aaabd', 'cdbffb', 'fcdfcef', 'cfbae', \n",
    "            'a', 'ebe', 'c', 'b', 'afdcacb', 'ad', 'ffaeb', 'a', 'dfffdea', 'bfa']\n",
    "\n",
    "# En una sola línea, ¿eh?:\n",
    "print(len(set(la_lista)))"
   ]
  },
  {
   "cell_type": "markdown",
   "metadata": {},
   "source": [
    "#### 14. Escribe una función `word_frequency` en la que, dada una colección (lista) de palabras (que pueden repetirse), devuelva un conjunto de pares (`palabra`, `número de veces que aparece dicha palabra en la colección`):"
   ]
  },
  {
   "cell_type": "code",
   "execution_count": 67,
   "metadata": {
    "collapsed": false
   },
   "outputs": [
    {
     "name": "stdout",
     "output_type": "stream",
     "text": [
      "{('perro', 2), ('hola', 2), ('atomo', 1)}\n"
     ]
    }
   ],
   "source": [
    "lista=[\"hola\",\"hola\",\"perro\",\"perro\",\"atomo\"]\n",
    "\n",
    "def word_frequency(lista):\n",
    "    lista_set=set(lista) #aqui obtengo un conjunto con todas la palabras distintas\n",
    "    result=set() \n",
    "    for item in lista_set:\n",
    "        result.add((item,lista.count(item)))\n",
    "    return result\n",
    "\n",
    "print(word_frequency(lista))\n",
    "       \n",
    "        \n",
    "    \n"
   ]
  },
  {
   "cell_type": "markdown",
   "metadata": {},
   "source": [
    "#### 15. Crea una clase llamada `CarritoDeLaCompra` que satisfaga las siguientes condiciones:\n",
    "+ Un carrito, nada más creado (es decir, al crear una instancia), está vacío.\n",
    "+ El carrito tiene un método llamado `anadir_producto`, que toma como argumentos un string que es el nombre de un artículo (por ejemplo: `\"plátanos\"`) y la cantidad. Este método añade dicho producto y cantidad al carrito.\n",
    "+ Asimismo, tiene otro método llamado `quitar_producto`, que toma los mismos argumentos (producto y cantidad); pero los quita del carrito en vez de añadirlos. Si se \"pide\" quitar mayor cantidad que la que hay en el carrito, o de un producto que no está en el carrito, no se hace la operación, y se imprime un string de error.\n",
    "+ En cualquier momento debe poder utilizarse el método `ver_carrito`, y debe devolver los productos presentes en el carrito, así como su cantidad. Solo debe devolver cada producto una vez, es decir: si hicimos `anadir_producto(\"tomates\", 2)` y luego `anadir_producto(\"tomates\", 3)`, `ver_carrito` solo debe devolver algo similar a `[(\"tomates\", 5)]`.\n",
    "\n",
    "Una vez definida la clase, crea una instancia de ella y prueba a ir añadiendo, quitando y mirando el carrito."
   ]
  },
  {
   "cell_type": "code",
   "execution_count": 142,
   "metadata": {
    "collapsed": false
   },
   "outputs": [
    {
     "name": "stdout",
     "output_type": "stream",
     "text": [
      "añadiendo 3 platanos...\n",
      "{'platanos': 3}\n",
      "añadiendo 5 manzanas...\n",
      "{'manzanas': 5, 'platanos': 3}\n",
      "añadiendo 5 manzanas...\n",
      "{'manzanas': 10, 'platanos': 3}\n",
      "quitando 5 peras...\n",
      "no existen peras en el carrito\n",
      "{'manzanas': 10, 'platanos': 3}\n",
      "quitando 3 manzanas...\n",
      "{'manzanas': 7, 'platanos': 3}\n",
      "quitando 3 platanos...\n",
      "{'manzanas': 7}\n",
      "quitando 20 manzanas...\n",
      "no tengo tantos manzanas\n",
      "{'manzanas': 7}\n"
     ]
    }
   ],
   "source": [
    "class CarritoDeLaCompra:\n",
    "\n",
    "    def __init__ (self):\n",
    "        self.container=dict() #mi contenedor del carrito va a ser un diccionario\n",
    "        return\n",
    "              \n",
    "    def ver(self):\n",
    "        print(str(self.container))\n",
    "        return\n",
    "        \n",
    "    def anadir_producto(self,producto,cantidad):\n",
    "        print(\"añadiendo %d %s...\" % (cantidad,producto))\n",
    "        try:\n",
    "            self.container[producto] = self.container[producto] + cantidad\n",
    "        except KeyError:\n",
    "            self.container[producto] = cantidad\n",
    "        self.ver()\n",
    "        return\n",
    "    \n",
    "    def quitar_producto(self,producto,cantidad):\n",
    "        print(\"quitando %d %s...\" % (cantidad,producto))\n",
    "        try:\n",
    "            a=self.container[producto]\n",
    "            if(cantidad==a):\n",
    "                self.container.pop(producto)\n",
    "            elif (a > cantidad):\n",
    "                self.container[producto]=a-cantidad\n",
    "            else:\n",
    "                print(\"no tengo tantos %s\" % producto)\n",
    "        except KeyError:\n",
    "            print(\"no existen %s en el carrito\" % producto)\n",
    "        self.ver()\n",
    "        return\n",
    "            \n",
    "\n",
    "\n",
    "micarro=CarritoDeLaCompra()\n",
    "micarro.anadir_producto(\"platanos\",3)\n",
    "micarro.anadir_producto(\"manzanas\",5)\n",
    "micarro.anadir_producto(\"manzanas\",5)\n",
    "micarro.quitar_producto(\"peras\",5)\n",
    "micarro.quitar_producto(\"manzanas\",3)\n",
    "micarro.quitar_producto(\"platanos\",3)\n",
    "micarro.quitar_producto(\"manzanas\",20)\n"
   ]
  },
  {
   "cell_type": "code",
   "execution_count": null,
   "metadata": {
    "collapsed": true
   },
   "outputs": [],
   "source": []
  }
 ],
 "metadata": {
  "kernelspec": {
   "display_name": "Python [Root]",
   "language": "python",
   "name": "Python [Root]"
  },
  "language_info": {
   "codemirror_mode": {
    "name": "ipython",
    "version": 3
   },
   "file_extension": ".py",
   "mimetype": "text/x-python",
   "name": "python",
   "nbconvert_exporter": "python",
   "pygments_lexer": "ipython3",
   "version": "3.5.2"
  }
 },
 "nbformat": 4,
 "nbformat_minor": 0
}
