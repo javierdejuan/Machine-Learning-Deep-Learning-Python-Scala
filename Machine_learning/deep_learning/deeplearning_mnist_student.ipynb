{
 "cells": [
  {
   "cell_type": "markdown",
   "metadata": {
    "nbgrader": {
     "grade": false,
     "locked": false,
     "solution": false
    }
   },
   "source": [
    "# Lab assignment: classifying digits with Deep Networks"
   ]
  },
  {
   "cell_type": "markdown",
   "metadata": {
    "nbgrader": {
     "grade": false,
     "locked": false,
     "solution": false
    }
   },
   "source": [
    "<img src=\"img/mnist.jpeg\" style=\"width:480px;\">"
   ]
  },
  {
   "cell_type": "markdown",
   "metadata": {
    "nbgrader": {
     "grade": false,
     "locked": false,
     "solution": false
    }
   },
   "source": [
    "In this assignment we will face the problem of recognizing handwritten digits. We will see how in order to achieve maximum effectiveness we will need to resort to several Deep Learning techniques."
   ]
  },
  {
   "cell_type": "markdown",
   "metadata": {
    "nbgrader": {
     "grade": false,
     "locked": false,
     "solution": false
    }
   },
   "source": [
    "## Guidelines"
   ]
  },
  {
   "cell_type": "markdown",
   "metadata": {
    "nbgrader": {
     "grade": false,
     "locked": false,
     "solution": false
    }
   },
   "source": [
    "Throughout this notebook you will find empty cells that you will need to fill with your own code. Follow the instructions in the notebook and pay special attention to the following symbols.\n",
    "\n",
    "<table>\n",
    " <tr><td><img src=\"img/question.png\" style=\"width:80px;height:80px;\"></td><td>You will need to solve a question by writing your own code or answer in the cell immediately below, or in a different file as instructed.</td></tr>\n",
    " <tr><td><img src=\"img/exclamation.png\" style=\"width:80px;height:80px;\"></td><td>This is a hint or useful observation that can help you solve this assignment. You are not expected to write any solution, but you should pay attention to them to understand the assignment.</td></tr>\n",
    " <tr><td><img src=\"img/pro.png\" style=\"width:80px;height:80px;\"></td><td>This is an advanced and voluntary exercise that can help you gain a deeper knowledge into the topic. Good luck!</td></tr>\n",
    "</table>\n",
    "\n",
    "During the assigment you will make use of several Python packages that might not be installed in your machine. If that is the case, you can install new Python packages with\n",
    "\n",
    "    conda install PACKAGENAME\n",
    "    \n",
    "if you are using Python Anaconda. Else you should use\n",
    "\n",
    "    pip install PACKAGENAME\n",
    "\n",
    "You will need the following packages for this particular assignment. Make sure they are available before proceeding:\n",
    "\n",
    "* **numpy**\n",
    "* **keras**\n",
    "* **matplotlib**"
   ]
  },
  {
   "cell_type": "markdown",
   "metadata": {},
   "source": [
    "The following code will embed any plots into the notebook instead of generating a new window:"
   ]
  },
  {
   "cell_type": "code",
   "execution_count": 19,
   "metadata": {
    "collapsed": false
   },
   "outputs": [],
   "source": [
    "import matplotlib.pyplot as plt\n",
    "%matplotlib inline"
   ]
  },
  {
   "cell_type": "markdown",
   "metadata": {},
   "source": [
    "Lastly, if you need any help on the usage of a Python function you can place the writing cursor over its name and press Caps+Shift to produce a pop-out with related documentation. This will only work inside code cells. \n",
    "\n",
    "Let's go!"
   ]
  },
  {
   "cell_type": "markdown",
   "metadata": {},
   "source": [
    "## The Keras library"
   ]
  },
  {
   "cell_type": "markdown",
   "metadata": {},
   "source": [
    "In this lab we will make use of the <a href=http://keras.io/>keras</a> Deep Learning library for Python. This library allows building several kinds of shallow and deep networks, following either a sequential or a graph architecture."
   ]
  },
  {
   "cell_type": "markdown",
   "metadata": {},
   "source": [
    "## Data loading"
   ]
  },
  {
   "cell_type": "markdown",
   "metadata": {},
   "source": [
    "The handwritten digits recognition problem we will face is already included as a testbed in keras. Loading it only requires invoking"
   ]
  },
  {
   "cell_type": "code",
   "execution_count": 20,
   "metadata": {
    "collapsed": false,
    "scrolled": true
   },
   "outputs": [],
   "source": [
    "from keras.datasets import mnist\n",
    "(X_train, y_train), (X_test, y_test) = mnist.load_data()"
   ]
  },
  {
   "cell_type": "markdown",
   "metadata": {},
   "source": [
    "The loaded **X** variables are made up of the handwritten digits to classify, while the **y** variables contain the labels of the corresponding X images, telling the digits such images represent. We will use the **train** data to build our neural network, while we will use the **test** data to measure the performance of such network on an independent dataset."
   ]
  },
  {
   "cell_type": "markdown",
   "metadata": {},
   "source": [
    "We can check how many images we have for training and testing as follows:"
   ]
  },
  {
   "cell_type": "code",
   "execution_count": 21,
   "metadata": {
    "collapsed": false
   },
   "outputs": [
    {
     "data": {
      "text/plain": [
       "60000"
      ]
     },
     "execution_count": 21,
     "metadata": {},
     "output_type": "execute_result"
    }
   ],
   "source": [
    "len(X_train)"
   ]
  },
  {
   "cell_type": "code",
   "execution_count": 22,
   "metadata": {
    "collapsed": false
   },
   "outputs": [
    {
     "data": {
      "text/plain": [
       "10000"
      ]
     },
     "execution_count": 22,
     "metadata": {},
     "output_type": "execute_result"
    }
   ],
   "source": [
    "len(X_test)"
   ]
  },
  {
   "cell_type": "markdown",
   "metadata": {},
   "source": [
    "Also we can take a look at the shape, width and height in pixels, of an image:"
   ]
  },
  {
   "cell_type": "code",
   "execution_count": 23,
   "metadata": {
    "collapsed": false
   },
   "outputs": [
    {
     "data": {
      "text/plain": [
       "(28, 28)"
      ]
     },
     "execution_count": 23,
     "metadata": {},
     "output_type": "execute_result"
    }
   ],
   "source": [
    "X_test[0].shape"
   ]
  },
  {
   "cell_type": "markdown",
   "metadata": {},
   "source": [
    "We can also visualize the images we are working with by means of using the matplotlib library. Here we are taking the first training image and painting it with a grayscale colormap. Also we are printing the corresponding class value, to ensure the labeling of the digit is correct."
   ]
  },
  {
   "cell_type": "code",
   "execution_count": 24,
   "metadata": {
    "collapsed": false
   },
   "outputs": [
    {
     "name": "stdout",
     "output_type": "stream",
     "text": [
      "Digit class: 5\n"
     ]
    },
    {
     "data": {
      "image/png": "[encoded data removed]",
      "text/plain": [
       "<matplotlib.figure.Figure at 0x7f9b6037ab00>"
      ]
     },
     "metadata": {},
     "output_type": "display_data"
    }
   ],
   "source": [
    "plt.imshow(X_train[0], 'gray')\n",
    "print(\"Digit class:\", y_train[0])"
   ]
  },
  {
   "cell_type": "markdown",
   "metadata": {},
   "source": [
    "<table>\n",
    " <tr><td><img src=\"img/question.png\" style=\"width:80px;height:80px;\"></td><td>\n",
    "Use the cell below to plot some other image in the training dataset, along with its corresponding digit class number. Can you find any hard to identify digit?\n",
    " </td></tr>\n",
    "</table>"
   ]
  },
  {
   "cell_type": "code",
   "execution_count": 25,
   "metadata": {
    "collapsed": false
   },
   "outputs": [
    {
     "name": "stdout",
     "output_type": "stream",
     "text": [
      "Digit class: 0\n",
      "Digit class: 4\n"
     ]
    },
    {
     "data": {
      "image/png": "[encoded data removed]",
      "text/plain": [
       "<matplotlib.figure.Figure at 0x7f9b601bf4a8>"
      ]
     },
     "metadata": {},
     "output_type": "display_data"
    }
   ],
   "source": [
    "plt.imshow(X_train[1], 'gray')\n",
    "print(\"Digit class:\", y_train[1])\n",
    "\n",
    "plt.imshow(X_train[2], 'gray')\n",
    "print(\"Digit class:\", y_train[2])\n",
    "\n"
   ]
  },
  {
   "cell_type": "markdown",
   "metadata": {},
   "source": [
    "Before starting building networks we should always normalize our data. This usually means substracting the mean from each variable and then dividing by the standard deviation. However in grayscale images like the ones we are working with all variables represent pixel intensities, and are bound to integers in the range [0, 255]. We can thus perform a simple initialization by just compressing this range to [0, 1]. We should also transform the data to real numbers (float) while performing this operation:"
   ]
  },
  {
   "cell_type": "code",
   "execution_count": 26,
   "metadata": {
    "collapsed": true
   },
   "outputs": [],
   "source": [
    "X_train = X_train.astype('float32') / 255"
   ]
  },
  {
   "cell_type": "markdown",
   "metadata": {},
   "source": [
    "<table>\n",
    " <tr><td><img src=\"img/question.png\" style=\"width:80px;height:80px;\"></td><td>\n",
    "Perform the same normalization for the test data\n",
    " </td></tr>\n",
    "</table>"
   ]
  },
  {
   "cell_type": "code",
   "execution_count": 27,
   "metadata": {
    "collapsed": true
   },
   "outputs": [],
   "source": [
    "X_test = X_test.astype('float32') / 255"
   ]
  },
  {
   "cell_type": "markdown",
   "metadata": {},
   "source": [
    "As for the outputs, normalization as such is not required, but we should change the class encoding to something more akin to neural networks. Instead of having a single integer ranging [0,9] to encode the different classes, we will use a <a href=https://en.wikipedia.org/wiki/One-hot>one-hot vector encoding</a>"
   ]
  },
  {
   "cell_type": "code",
   "execution_count": 28,
   "metadata": {
    "collapsed": false
   },
   "outputs": [],
   "source": [
    "from keras.utils import np_utils\n",
    "Y_train = np_utils.to_categorical(y_train, 10) # We have 10 classes to codify"
   ]
  },
  {
   "cell_type": "markdown",
   "metadata": {},
   "source": [
    "Let's check that the transformation was correct:"
   ]
  },
  {
   "cell_type": "code",
   "execution_count": 29,
   "metadata": {
    "collapsed": false
   },
   "outputs": [
    {
     "data": {
      "text/plain": [
       "array([[ 0.,  0.,  0., ...,  0.,  0.,  0.],\n",
       "       [ 1.,  0.,  0., ...,  0.,  0.,  0.],\n",
       "       [ 0.,  0.,  0., ...,  0.,  0.,  0.],\n",
       "       ..., \n",
       "       [ 0.,  0.,  0., ...,  0.,  0.,  0.],\n",
       "       [ 0.,  0.,  0., ...,  0.,  0.,  0.],\n",
       "       [ 0.,  0.,  0., ...,  0.,  1.,  0.]])"
      ]
     },
     "execution_count": 29,
     "metadata": {},
     "output_type": "execute_result"
    }
   ],
   "source": [
    "Y_train"
   ]
  },
  {
   "cell_type": "markdown",
   "metadata": {},
   "source": [
    "<table>\n",
    " <tr><td><img src=\"img/question.png\" style=\"width:80px;height:80px;\"></td><td>\n",
    "Repeat the same encoding for the classes of the test data\n",
    " </td></tr>\n",
    "</table>"
   ]
  },
  {
   "cell_type": "code",
   "execution_count": 30,
   "metadata": {
    "collapsed": true
   },
   "outputs": [],
   "source": [
    "Y_test= np_utils.to_categorical(y_test, 10) # We have 10 classes to codify"
   ]
  },
  {
   "cell_type": "markdown",
   "metadata": {},
   "source": [
    "## Perceptron network"
   ]
  },
  {
   "cell_type": "markdown",
   "metadata": {},
   "source": [
    "Let's start trying to solve the problem with the simplest neural network: a Perceptron. This means a neural network with no hidden layers, just some weights going from input to output."
   ]
  },
  {
   "cell_type": "markdown",
   "metadata": {},
   "source": [
    "### Defining the network"
   ]
  },
  {
   "cell_type": "markdown",
   "metadata": {},
   "source": [
    "Building a network in Keras begins by choosing the type of architecture. We can either decide to build a **Sequential** network, where each layer is followed by another one in a chain, or a **Graph** network, where divergences and loops of layers can take place. In this practice we will restrict ourselves to the Sequential architecture. We can initialize a Sequential network with"
   ]
  },
  {
   "cell_type": "code",
   "execution_count": 31,
   "metadata": {
    "collapsed": false
   },
   "outputs": [],
   "source": [
    "from keras.models import Sequential\n",
    "model = Sequential()"
   ]
  },
  {
   "cell_type": "markdown",
   "metadata": {},
   "source": [
    "Once the network has been initialized this way, we just need to iteratively add the desired layers. For the perceptron network we only require a \"classic\" layer of weights from input to output. Such layer is name **Dense** in Keras."
   ]
  },
  {
   "cell_type": "code",
   "execution_count": 32,
   "metadata": {
    "collapsed": true
   },
   "outputs": [],
   "source": [
    "from keras.layers.core import Dense"
   ]
  },
  {
   "cell_type": "markdown",
   "metadata": {},
   "source": [
    "Usually creating a dense layer only involves specifying the number of outputs units of such layer. But since this will be the first layer in the network we also need to specify the number of inputs. Our inputs are images of 28x28 pixels, which makes 784 input values. As for the outputs, we have 10 classes in our problem, so that makes 10 output units."
   ]
  },
  {
   "cell_type": "code",
   "execution_count": 33,
   "metadata": {
    "collapsed": true
   },
   "outputs": [],
   "source": [
    "denselayer = Dense(10, input_shape=(784,))"
   ]
  },
  {
   "cell_type": "markdown",
   "metadata": {},
   "source": [
    "Now we add the layer to network"
   ]
  },
  {
   "cell_type": "code",
   "execution_count": 34,
   "metadata": {
    "collapsed": true
   },
   "outputs": [],
   "source": [
    "model.add(denselayer)"
   ]
  },
  {
   "cell_type": "markdown",
   "metadata": {},
   "source": [
    "With this we have declared the layer of weights from inputs to outputs. Since we are facing a classification problem we should also add an activation function to the output units that enforces the output values to the range [0,1]. We will choose a softmax activation for doing so:"
   ]
  },
  {
   "cell_type": "code",
   "execution_count": 35,
   "metadata": {
    "collapsed": false
   },
   "outputs": [],
   "source": [
    "from keras.layers.core import Activation\n",
    "model.add(Activation('softmax'))"
   ]
  },
  {
   "cell_type": "markdown",
   "metadata": {},
   "source": [
    "With this the definition of our network is completed. We can get a text description of the network by calling"
   ]
  },
  {
   "cell_type": "code",
   "execution_count": 36,
   "metadata": {
    "collapsed": false
   },
   "outputs": [
    {
     "name": "stdout",
     "output_type": "stream",
     "text": [
      "____________________________________________________________________________________________________\n",
      "Layer (type)                     Output Shape          Param #     Connected to                     \n",
      "====================================================================================================\n",
      "dense_6 (Dense)                  (None, 10)            7850        dense_input_1[0][0]              \n",
      "____________________________________________________________________________________________________\n",
      "activation_14 (Activation)       (None, 10)            0           dense_6[0][0]                    \n",
      "====================================================================================================\n",
      "Total params: 7,850\n",
      "Trainable params: 7,850\n",
      "Non-trainable params: 0\n",
      "____________________________________________________________________________________________________\n"
     ]
    }
   ],
   "source": [
    "model.summary()"
   ]
  },
  {
   "cell_type": "markdown",
   "metadata": {},
   "source": [
    "### Compiling the network"
   ]
  },
  {
   "cell_type": "markdown",
   "metadata": {},
   "source": [
    "After defining the network architecture the next step involves compiling the network. Compilation is an automatic process that transforms the network definition into an equivalent symbolic formulation for which derivatives can be computed, thus allowing learning through backpropagation. The only input required in this process is choosing the loss function the network should minimize, and the optimizer used for learning.\n",
    "\n",
    "For our current network we will use **categorical crossentropy** as the loss function, as it is suitable for multiclass classification problems. As for the optimizer, we will use **Stochastic Gradient Descent**. We will also include the **classification accuracy** as a metric to measure the performance of our model."
   ]
  },
  {
   "cell_type": "code",
   "execution_count": 37,
   "metadata": {
    "collapsed": true
   },
   "outputs": [],
   "source": [
    "model.compile(loss='categorical_crossentropy', optimizer='sgd', metrics=['accuracy'])"
   ]
  },
  {
   "cell_type": "markdown",
   "metadata": {},
   "source": [
    "### Training the network"
   ]
  },
  {
   "cell_type": "markdown",
   "metadata": {},
   "source": [
    "We are now almost ready to adjust the network parameters through training over our data. There is only one small detail left: our data is in the form of bidimensional images, while a perceptron only understands training patterns as one-dimensional vectors of data. We should then transform the data to vector form to input it into the network, something we can do with the **reshape** method of the data:"
   ]
  },
  {
   "cell_type": "code",
   "execution_count": 38,
   "metadata": {
    "collapsed": false
   },
   "outputs": [
    {
     "data": {
      "text/plain": [
       "(60000, 28, 28)"
      ]
     },
     "execution_count": 38,
     "metadata": {},
     "output_type": "execute_result"
    }
   ],
   "source": [
    "X_train.shape"
   ]
  },
  {
   "cell_type": "code",
   "execution_count": 39,
   "metadata": {
    "collapsed": true
   },
   "outputs": [],
   "source": [
    "trainvectors = X_train.reshape(60000, 784)"
   ]
  },
  {
   "cell_type": "markdown",
   "metadata": {},
   "source": [
    "We can check now that our training data has become a matrix of 60000 training patterns (rows) and 784 variables (pixels) per pattern:"
   ]
  },
  {
   "cell_type": "code",
   "execution_count": 40,
   "metadata": {
    "collapsed": false
   },
   "outputs": [
    {
     "data": {
      "text/plain": [
       "(60000, 784)"
      ]
     },
     "execution_count": 40,
     "metadata": {},
     "output_type": "execute_result"
    }
   ],
   "source": [
    "trainvectors.shape"
   ]
  },
  {
   "cell_type": "markdown",
   "metadata": {},
   "source": [
    "<table>\n",
    " <tr><td><img src=\"img/question.png\" style=\"width:80px;height:80px;\"></td><td>\n",
    "Perform a similar transformation for the X_test data, saving the reshaped data into a variable named *testvectors*. Note that the number of pattens in the test data is different from the number of patterns in the training data.\n",
    " </td></tr>\n",
    "</table>"
   ]
  },
  {
   "cell_type": "code",
   "execution_count": 41,
   "metadata": {
    "collapsed": false
   },
   "outputs": [
    {
     "data": {
      "text/plain": [
       "(10000, 784)"
      ]
     },
     "execution_count": 41,
     "metadata": {},
     "output_type": "execute_result"
    }
   ],
   "source": [
    "testvectors= X_test.reshape(10000, 784)\n",
    "testvectors.shape\n"
   ]
  },
  {
   "cell_type": "markdown",
   "metadata": {},
   "source": [
    "Now we can invoke the **fit** method of the network, which will perform the training process. It is done as follows"
   ]
  },
  {
   "cell_type": "code",
   "execution_count": 43,
   "metadata": {
    "collapsed": false,
    "scrolled": true
   },
   "outputs": [
    {
     "name": "stdout",
     "output_type": "stream",
     "text": [
      "Epoch 1/20\n",
      "1s - loss: 0.3519 - acc: 0.9032\n",
      "Epoch 2/20\n",
      "1s - loss: 0.3492 - acc: 0.9039\n",
      "Epoch 3/20\n",
      "1s - loss: 0.3466 - acc: 0.9044\n",
      "Epoch 4/20\n",
      "1s - loss: 0.3442 - acc: 0.9046\n",
      "Epoch 5/20\n",
      "1s - loss: 0.3420 - acc: 0.9052\n",
      "Epoch 6/20\n",
      "1s - loss: 0.3398 - acc: 0.9056\n",
      "Epoch 7/20\n",
      "1s - loss: 0.3379 - acc: 0.9063\n",
      "Epoch 8/20\n",
      "1s - loss: 0.3359 - acc: 0.9069\n",
      "Epoch 9/20\n",
      "0s - loss: 0.3342 - acc: 0.9075\n",
      "Epoch 10/20\n",
      "1s - loss: 0.3325 - acc: 0.9078\n",
      "Epoch 11/20\n",
      "1s - loss: 0.3309 - acc: 0.9081\n",
      "Epoch 12/20\n",
      "1s - loss: 0.3293 - acc: 0.9086\n",
      "Epoch 13/20\n",
      "1s - loss: 0.3279 - acc: 0.9089\n",
      "Epoch 14/20\n",
      "1s - loss: 0.3264 - acc: 0.9093\n",
      "Epoch 15/20\n",
      "1s - loss: 0.3251 - acc: 0.9095\n",
      "Epoch 16/20\n",
      "1s - loss: 0.3238 - acc: 0.9102\n",
      "Epoch 17/20\n",
      "1s - loss: 0.3226 - acc: 0.9104\n",
      "Epoch 18/20\n",
      "1s - loss: 0.3214 - acc: 0.9107\n",
      "Epoch 19/20\n",
      "1s - loss: 0.3203 - acc: 0.9111\n",
      "Epoch 20/20\n",
      "1s - loss: 0.3192 - acc: 0.9114\n"
     ]
    },
    {
     "data": {
      "text/plain": [
       "<keras.callbacks.History at 0x7f9b600a0cf8>"
      ]
     },
     "execution_count": 43,
     "metadata": {},
     "output_type": "execute_result"
    }
   ],
   "source": [
    "model.fit(\n",
    "    trainvectors, # Training data\n",
    "    Y_train, # Labels of training data\n",
    "    batch_size=128, # Batch size for the optimizer algorithm\n",
    "    nb_epoch=20, # Number of epochs to run the optimizer algorithm\n",
    "    verbose=2 # Level of verbosity of the log messages\n",
    ")"
   ]
  },
  {
   "cell_type": "markdown",
   "metadata": {},
   "source": [
    "Now that our neural network model is trained, we can obtain class predictions for the test set as follows:"
   ]
  },
  {
   "cell_type": "code",
   "execution_count": 44,
   "metadata": {
    "collapsed": false
   },
   "outputs": [
    {
     "name": "stdout",
     "output_type": "stream",
     "text": [
      " 9952/10000 [============================>.] - ETA: 0s"
     ]
    }
   ],
   "source": [
    "preds = model.predict_classes(testvectors)"
   ]
  },
  {
   "cell_type": "markdown",
   "metadata": {},
   "source": [
    "So for instance, the first image in the test set and its predicted class are"
   ]
  },
  {
   "cell_type": "code",
   "execution_count": 45,
   "metadata": {
    "collapsed": false
   },
   "outputs": [
    {
     "name": "stdout",
     "output_type": "stream",
     "text": [
      "Real class 7 predicted class 7\n"
     ]
    },
    {
     "data": {
      "image/png": "[encoded data removed]",
      "text/plain": [
       "<matplotlib.figure.Figure at 0x7f9b600484a8>"
      ]
     },
     "metadata": {},
     "output_type": "display_data"
    }
   ],
   "source": [
    "plt.imshow(X_test[0], 'gray')\n",
    "print(\"Real class\", y_test[0], \"predicted class\", preds[0])"
   ]
  },
  {
   "cell_type": "markdown",
   "metadata": {},
   "source": [
    "<table>\n",
    " <tr><td><img src=\"img/question.png\" style=\"width:80px;height:80px;\"></td><td>\n",
    "Compare the predicted and real classes for other images in the test set. Can you find any error?\n",
    " </td></tr>\n",
    "</table>"
   ]
  },
  {
   "cell_type": "code",
   "execution_count": 46,
   "metadata": {
    "collapsed": false
   },
   "outputs": [
    {
     "name": "stdout",
     "output_type": "stream",
     "text": [
      "Real class 5 predicted class 6 error: 1\n",
      "Real class 4 predicted class 6 error: 2\n",
      "Real class 3 predicted class 2 error: 3\n",
      "Real class 2 predicted class 7 error: 4\n",
      "Real class 9 predicted class 4 error: 5\n",
      "Real class 7 predicted class 4 error: 6\n",
      "Real class 2 predicted class 9 error: 7\n",
      "Real class 9 predicted class 3 error: 8\n",
      "Real class 3 predicted class 5 error: 9\n",
      "Real class 6 predicted class 5 error: 10\n",
      "Real class 8 predicted class 7 error: 11\n",
      "Real class 9 predicted class 8 error: 12\n",
      "Real class 3 predicted class 6 error: 13\n",
      "Real class 4 predicted class 2 error: 14\n",
      "Real class 6 predicted class 0 error: 15\n",
      "Real class 8 predicted class 4 error: 16\n",
      "Real class 4 predicted class 1 error: 17\n",
      "Real class 7 predicted class 9 error: 18\n",
      "Real class 3 predicted class 5 error: 19\n",
      "Real class 2 predicted class 3 error: 20\n",
      "Real class 9 predicted class 7 error: 21\n",
      "Real class 2 predicted class 7 error: 22\n",
      "Real class 5 predicted class 3 error: 23\n",
      "Real class 6 predicted class 4 error: 24\n",
      "Real class 5 predicted class 0 error: 25\n",
      "Real class 9 predicted class 4 error: 26\n",
      "Real class 2 predicted class 7 error: 27\n",
      "Real class 8 predicted class 9 error: 28\n",
      "Real class 8 predicted class 7 error: 29\n",
      "Real class 2 predicted class 8 error: 30\n",
      "Real class 6 predicted class 0 error: 31\n",
      "Real class 9 predicted class 8 error: 32\n",
      "Real class 3 predicted class 5 error: 33\n",
      "Real class 3 predicted class 7 error: 34\n",
      "Real class 7 predicted class 2 error: 35\n",
      "Real class 5 predicted class 8 error: 36\n",
      "Real class 9 predicted class 3 error: 37\n",
      "Real class 8 predicted class 2 error: 38\n",
      "Real class 5 predicted class 3 error: 39\n",
      "Real class 3 predicted class 5 error: 40\n",
      "Real class 4 predicted class 8 error: 41\n",
      "Real class 3 predicted class 5 error: 42\n",
      "Real class 9 predicted class 4 error: 43\n",
      "Real class 3 predicted class 6 error: 44\n",
      "Real class 8 predicted class 3 error: 45\n",
      "Real class 7 predicted class 1 error: 46\n",
      "Real class 8 predicted class 6 error: 47\n",
      "Real class 4 predicted class 9 error: 48\n",
      "Real class 3 predicted class 5 error: 49\n",
      "Real class 3 predicted class 8 error: 50\n",
      "Real class 8 predicted class 2 error: 51\n",
      "Real class 8 predicted class 3 error: 52\n",
      "Real class 4 predicted class 6 error: 53\n",
      "Real class 2 predicted class 8 error: 54\n",
      "Real class 1 predicted class 8 error: 55\n",
      "Real class 2 predicted class 1 error: 56\n",
      "Real class 9 predicted class 4 error: 57\n",
      "Real class 3 predicted class 9 error: 58\n",
      "Real class 2 predicted class 6 error: 59\n",
      "Real class 7 predicted class 4 error: 60\n",
      "Real class 2 predicted class 9 error: 61\n",
      "Real class 7 predicted class 3 error: 62\n",
      "Real class 7 predicted class 9 error: 63\n",
      "Real class 8 predicted class 4 error: 64\n",
      "Real class 4 predicted class 9 error: 65\n",
      "Real class 0 predicted class 6 error: 66\n",
      "Real class 5 predicted class 2 error: 67\n",
      "Real class 2 predicted class 8 error: 68\n",
      "Real class 2 predicted class 8 error: 69\n",
      "Real class 4 predicted class 9 error: 70\n",
      "Real class 2 predicted class 8 error: 71\n",
      "Real class 4 predicted class 9 error: 72\n",
      "Real class 5 predicted class 9 error: 73\n",
      "Real class 8 predicted class 5 error: 74\n",
      "Real class 8 predicted class 3 error: 75\n",
      "Real class 8 predicted class 7 error: 76\n",
      "Real class 5 predicted class 3 error: 77\n",
      "Real class 4 predicted class 9 error: 78\n",
      "Real class 7 predicted class 2 error: 79\n",
      "Real class 1 predicted class 3 error: 80\n",
      "Real class 2 predicted class 7 error: 81\n",
      "Real class 3 predicted class 5 error: 82\n",
      "Real class 2 predicted class 8 error: 83\n",
      "Real class 3 predicted class 5 error: 84\n",
      "Real class 8 predicted class 9 error: 85\n",
      "Real class 7 predicted class 2 error: 86\n",
      "Real class 1 predicted class 6 error: 87\n",
      "Real class 4 predicted class 5 error: 88\n",
      "Real class 6 predicted class 0 error: 89\n",
      "Real class 2 predicted class 3 error: 90\n",
      "Real class 3 predicted class 8 error: 91\n",
      "Real class 9 predicted class 7 error: 92\n",
      "Real class 7 predicted class 9 error: 93\n",
      "Real class 6 predicted class 5 error: 94\n",
      "Real class 5 predicted class 8 error: 95\n",
      "Real class 8 predicted class 3 error: 96\n",
      "Real class 7 predicted class 9 error: 97\n",
      "Real class 6 predicted class 8 error: 98\n",
      "Real class 2 predicted class 6 error: 99\n",
      "Real class 3 predicted class 7 error: 100\n",
      "Real class 8 predicted class 4 error: 101\n",
      "Real class 5 predicted class 8 error: 102\n",
      "Real class 5 predicted class 3 error: 103\n",
      "Real class 7 predicted class 9 error: 104\n",
      "Real class 8 predicted class 2 error: 105\n",
      "Real class 9 predicted class 3 error: 106\n",
      "Real class 4 predicted class 6 error: 107\n",
      "Real class 3 predicted class 8 error: 108\n",
      "Real class 7 predicted class 2 error: 109\n",
      "Real class 7 predicted class 9 error: 110\n",
      "Real class 6 predicted class 1 error: 111\n",
      "Real class 0 predicted class 6 error: 112\n",
      "Real class 9 predicted class 4 error: 113\n",
      "Real class 7 predicted class 9 error: 114\n",
      "Real class 8 predicted class 4 error: 115\n",
      "Real class 8 predicted class 5 error: 116\n",
      "Real class 8 predicted class 5 error: 117\n",
      "Real class 3 predicted class 9 error: 118\n",
      "Real class 7 predicted class 2 error: 119\n",
      "Real class 9 predicted class 7 error: 120\n",
      "Real class 2 predicted class 6 error: 121\n",
      "Real class 7 predicted class 2 error: 122\n",
      "Real class 9 predicted class 3 error: 123\n",
      "Real class 9 predicted class 4 error: 124\n",
      "Real class 5 predicted class 6 error: 125\n",
      "Real class 8 predicted class 5 error: 126\n",
      "Real class 4 predicted class 9 error: 127\n",
      "Real class 9 predicted class 0 error: 128\n",
      "Real class 8 predicted class 5 error: 129\n",
      "Real class 2 predicted class 3 error: 130\n",
      "Real class 7 predicted class 1 error: 131\n",
      "Real class 7 predicted class 2 error: 132\n",
      "Real class 5 predicted class 9 error: 133\n",
      "Real class 3 predicted class 5 error: 134\n",
      "Real class 5 predicted class 7 error: 135\n",
      "Real class 3 predicted class 7 error: 136\n",
      "Real class 8 predicted class 3 error: 137\n",
      "Real class 8 predicted class 6 error: 138\n",
      "Real class 7 predicted class 2 error: 139\n",
      "Real class 7 predicted class 9 error: 140\n",
      "Real class 2 predicted class 6 error: 141\n",
      "Real class 2 predicted class 8 error: 142\n",
      "Real class 7 predicted class 9 error: 143\n",
      "Real class 2 predicted class 8 error: 144\n",
      "Real class 5 predicted class 8 error: 145\n",
      "Real class 5 predicted class 3 error: 146\n",
      "Real class 2 predicted class 7 error: 147\n",
      "Real class 2 predicted class 6 error: 148\n",
      "Real class 4 predicted class 9 error: 149\n",
      "Real class 9 predicted class 4 error: 150\n",
      "Real class 8 predicted class 1 error: 151\n",
      "Real class 4 predicted class 9 error: 152\n",
      "Real class 6 predicted class 7 error: 153\n",
      "Real class 4 predicted class 9 error: 154\n",
      "Real class 4 predicted class 1 error: 155\n",
      "Real class 5 predicted class 3 error: 156\n",
      "Real class 5 predicted class 9 error: 157\n",
      "Real class 7 predicted class 0 error: 158\n",
      "Real class 7 predicted class 1 error: 159\n",
      "Real class 2 predicted class 8 error: 160\n",
      "Real class 7 predicted class 9 error: 161\n",
      "Real class 5 predicted class 0 error: 162\n",
      "Real class 1 predicted class 6 error: 163\n",
      "Real class 8 predicted class 7 error: 164\n",
      "Real class 4 predicted class 6 error: 165\n",
      "Real class 9 predicted class 8 error: 166\n",
      "Real class 9 predicted class 7 error: 167\n",
      "Real class 6 predicted class 4 error: 168\n",
      "Real class 7 predicted class 9 error: 169\n",
      "Real class 6 predicted class 5 error: 170\n",
      "Real class 2 predicted class 6 error: 171\n",
      "Real class 0 predicted class 6 error: 172\n",
      "Real class 4 predicted class 7 error: 173\n",
      "Real class 9 predicted class 4 error: 174\n",
      "Real class 3 predicted class 7 error: 175\n",
      "Real class 9 predicted class 7 error: 176\n",
      "Real class 2 predicted class 1 error: 177\n",
      "Real class 9 predicted class 5 error: 178\n",
      "Real class 7 predicted class 1 error: 179\n",
      "Real class 8 predicted class 0 error: 180\n",
      "Real class 7 predicted class 3 error: 181\n",
      "Real class 2 predicted class 4 error: 182\n",
      "Real class 3 predicted class 7 error: 183\n",
      "Real class 4 predicted class 3 error: 184\n",
      "Real class 7 predicted class 2 error: 185\n",
      "Real class 8 predicted class 6 error: 186\n",
      "Real class 3 predicted class 5 error: 187\n",
      "Real class 7 predicted class 9 error: 188\n",
      "Real class 1 predicted class 8 error: 189\n",
      "Real class 8 predicted class 5 error: 190\n",
      "Real class 8 predicted class 2 error: 191\n",
      "Real class 2 predicted class 7 error: 192\n",
      "Real class 6 predicted class 4 error: 193\n",
      "Real class 8 predicted class 5 error: 194\n",
      "Real class 3 predicted class 7 error: 195\n",
      "Real class 2 predicted class 8 error: 196\n",
      "Real class 8 predicted class 7 error: 197\n",
      "Real class 6 predicted class 4 error: 198\n",
      "Real class 4 predicted class 9 error: 199\n",
      "Real class 1 predicted class 4 error: 200\n",
      "Real class 5 predicted class 8 error: 201\n",
      "Real class 8 predicted class 3 error: 202\n",
      "Real class 7 predicted class 9 error: 203\n",
      "Real class 8 predicted class 3 error: 204\n",
      "Real class 9 predicted class 4 error: 205\n",
      "Real class 7 predicted class 4 error: 206\n",
      "Real class 5 predicted class 0 error: 207\n",
      "Real class 5 predicted class 8 error: 208\n",
      "Real class 3 predicted class 5 error: 209\n",
      "Real class 2 predicted class 4 error: 210\n",
      "Real class 4 predicted class 6 error: 211\n",
      "Real class 5 predicted class 0 error: 212\n",
      "Real class 9 predicted class 5 error: 213\n",
      "Real class 4 predicted class 9 error: 214\n",
      "Real class 8 predicted class 1 error: 215\n",
      "Real class 5 predicted class 3 error: 216\n",
      "Real class 8 predicted class 5 error: 217\n",
      "Real class 6 predicted class 4 error: 218\n",
      "Real class 2 predicted class 0 error: 219\n",
      "Real class 7 predicted class 2 error: 220\n",
      "Real class 7 predicted class 9 error: 221\n",
      "Real class 5 predicted class 3 error: 222\n",
      "Real class 5 predicted class 4 error: 223\n",
      "Real class 4 predicted class 8 error: 224\n",
      "Real class 2 predicted class 7 error: 225\n",
      "Real class 4 predicted class 9 error: 226\n",
      "Real class 9 predicted class 4 error: 227\n",
      "Real class 7 predicted class 9 error: 228\n",
      "Real class 8 predicted class 1 error: 229\n",
      "Real class 2 predicted class 0 error: 230\n",
      "Real class 8 predicted class 9 error: 231\n",
      "Real class 3 predicted class 7 error: 232\n",
      "Real class 2 predicted class 8 error: 233\n",
      "Real class 7 predicted class 0 error: 234\n",
      "Real class 6 predicted class 5 error: 235\n",
      "Real class 9 predicted class 2 error: 236\n",
      "Real class 4 predicted class 9 error: 237\n",
      "Real class 6 predicted class 1 error: 238\n",
      "Real class 2 predicted class 8 error: 239\n",
      "Real class 4 predicted class 9 error: 240\n",
      "Real class 8 predicted class 3 error: 241\n",
      "Real class 8 predicted class 2 error: 242\n",
      "Real class 1 predicted class 2 error: 243\n",
      "Real class 0 predicted class 5 error: 244\n",
      "Real class 2 predicted class 3 error: 245\n",
      "Real class 9 predicted class 1 error: 246\n",
      "Real class 5 predicted class 3 error: 247\n",
      "Real class 6 predicted class 5 error: 248\n",
      "Real class 5 predicted class 6 error: 249\n",
      "Real class 1 predicted class 6 error: 250\n",
      "Real class 8 predicted class 0 error: 251\n",
      "Real class 9 predicted class 2 error: 252\n",
      "Real class 2 predicted class 7 error: 253\n",
      "Real class 3 predicted class 8 error: 254\n",
      "Real class 7 predicted class 2 error: 255\n",
      "Real class 3 predicted class 0 error: 256\n",
      "Real class 8 predicted class 1 error: 257\n",
      "Real class 5 predicted class 9 error: 258\n",
      "Real class 4 predicted class 9 error: 259\n",
      "Real class 0 predicted class 2 error: 260\n",
      "Real class 9 predicted class 0 error: 261\n",
      "Real class 8 predicted class 9 error: 262\n",
      "Real class 9 predicted class 1 error: 263\n",
      "Real class 8 predicted class 5 error: 264\n",
      "Real class 4 predicted class 9 error: 265\n",
      "Real class 8 predicted class 3 error: 266\n",
      "Real class 2 predicted class 8 error: 267\n",
      "Real class 9 predicted class 1 error: 268\n",
      "Real class 3 predicted class 7 error: 269\n",
      "Real class 6 predicted class 4 error: 270\n",
      "Real class 8 predicted class 3 error: 271\n",
      "Real class 2 predicted class 1 error: 272\n",
      "Real class 5 predicted class 8 error: 273\n",
      "Real class 1 predicted class 8 error: 274\n",
      "Real class 2 predicted class 4 error: 275\n",
      "Real class 4 predicted class 9 error: 276\n",
      "Real class 5 predicted class 3 error: 277\n",
      "Real class 5 predicted class 3 error: 278\n",
      "Real class 3 predicted class 5 error: 279\n",
      "Real class 5 predicted class 8 error: 280\n",
      "Real class 5 predicted class 3 error: 281\n",
      "Real class 3 predicted class 2 error: 282\n",
      "Real class 5 predicted class 8 error: 283\n",
      "Real class 5 predicted class 7 error: 284\n",
      "Real class 7 predicted class 2 error: 285\n",
      "Real class 5 predicted class 3 error: 286\n",
      "Real class 8 predicted class 2 error: 287\n",
      "Real class 5 predicted class 3 error: 288\n",
      "Real class 7 predicted class 8 error: 289\n",
      "Real class 2 predicted class 8 error: 290\n",
      "Real class 0 predicted class 6 error: 291\n",
      "Real class 2 predicted class 8 error: 292\n",
      "Real class 9 predicted class 0 error: 293\n",
      "Real class 6 predicted class 1 error: 294\n",
      "Real class 5 predicted class 8 error: 295\n",
      "Real class 5 predicted class 8 error: 296\n",
      "Real class 7 predicted class 4 error: 297\n",
      "Real class 0 predicted class 8 error: 298\n",
      "Real class 7 predicted class 4 error: 299\n",
      "Real class 9 predicted class 7 error: 300\n",
      "Real class 6 predicted class 0 error: 301\n",
      "Real class 9 predicted class 4 error: 302\n",
      "Real class 3 predicted class 6 error: 303\n",
      "Real class 4 predicted class 9 error: 304\n",
      "Real class 2 predicted class 3 error: 305\n",
      "Real class 5 predicted class 0 error: 306\n",
      "Real class 9 predicted class 4 error: 307\n",
      "Real class 5 predicted class 3 error: 308\n",
      "Real class 5 predicted class 3 error: 309\n",
      "Real class 7 predicted class 9 error: 310\n",
      "Real class 9 predicted class 4 error: 311\n",
      "Real class 6 predicted class 4 error: 312\n",
      "Real class 8 predicted class 0 error: 313\n",
      "Real class 3 predicted class 5 error: 314\n",
      "Real class 4 predicted class 9 error: 315\n",
      "Real class 5 predicted class 9 error: 316\n",
      "Real class 5 predicted class 0 error: 317\n",
      "Real class 3 predicted class 2 error: 318\n",
      "Real class 3 predicted class 7 error: 319\n",
      "Real class 3 predicted class 5 error: 320\n",
      "Real class 5 predicted class 7 error: 321\n",
      "Real class 8 predicted class 9 error: 322\n",
      "Real class 6 predicted class 5 error: 323\n",
      "Real class 9 predicted class 1 error: 324\n",
      "Real class 9 predicted class 7 error: 325\n",
      "Real class 1 predicted class 2 error: 326\n",
      "Real class 5 predicted class 3 error: 327\n",
      "Real class 5 predicted class 3 error: 328\n",
      "Real class 3 predicted class 5 error: 329\n",
      "Real class 5 predicted class 9 error: 330\n",
      "Real class 6 predicted class 0 error: 331\n",
      "Real class 4 predicted class 9 error: 332\n",
      "Real class 7 predicted class 1 error: 333\n",
      "Real class 5 predicted class 9 error: 334\n",
      "Real class 5 predicted class 7 error: 335\n",
      "Real class 9 predicted class 4 error: 336\n",
      "Real class 7 predicted class 9 error: 337\n",
      "Real class 7 predicted class 4 error: 338\n",
      "Real class 3 predicted class 2 error: 339\n",
      "Real class 8 predicted class 3 error: 340\n",
      "Real class 7 predicted class 1 error: 341\n",
      "Real class 9 predicted class 3 error: 342\n",
      "Real class 8 predicted class 3 error: 343\n",
      "Real class 6 predicted class 2 error: 344\n",
      "Real class 2 predicted class 8 error: 345\n",
      "Real class 8 predicted class 7 error: 346\n",
      "Real class 4 predicted class 9 error: 347\n",
      "Real class 7 predicted class 4 error: 348\n",
      "Real class 7 predicted class 2 error: 349\n",
      "Real class 2 predicted class 3 error: 350\n",
      "Real class 7 predicted class 9 error: 351\n",
      "Real class 9 predicted class 7 error: 352\n",
      "Real class 3 predicted class 2 error: 353\n",
      "Real class 9 predicted class 2 error: 354\n",
      "Real class 2 predicted class 7 error: 355\n",
      "Real class 5 predicted class 4 error: 356\n",
      "Real class 3 predicted class 9 error: 357\n",
      "Real class 4 predicted class 9 error: 358\n",
      "Real class 9 predicted class 5 error: 359\n",
      "Real class 6 predicted class 4 error: 360\n",
      "Real class 7 predicted class 2 error: 361\n",
      "Real class 3 predicted class 2 error: 362\n",
      "Real class 5 predicted class 0 error: 363\n",
      "Real class 5 predicted class 8 error: 364\n",
      "Real class 8 predicted class 5 error: 365\n",
      "Real class 7 predicted class 4 error: 366\n",
      "Real class 2 predicted class 7 error: 367\n",
      "Real class 7 predicted class 1 error: 368\n",
      "Real class 9 predicted class 3 error: 369\n",
      "Real class 1 predicted class 5 error: 370\n",
      "Real class 7 predicted class 0 error: 371\n",
      "Real class 8 predicted class 3 error: 372\n",
      "Real class 5 predicted class 7 error: 373\n",
      "Real class 8 predicted class 5 error: 374\n",
      "Real class 9 predicted class 4 error: 375\n",
      "Real class 2 predicted class 5 error: 376\n",
      "Real class 9 predicted class 4 error: 377\n",
      "Real class 6 predicted class 8 error: 378\n",
      "Real class 9 predicted class 3 error: 379\n",
      "Real class 4 predicted class 9 error: 380\n",
      "Real class 6 predicted class 4 error: 381\n",
      "Real class 4 predicted class 9 error: 382\n",
      "Real class 7 predicted class 9 error: 383\n",
      "Real class 8 predicted class 1 error: 384\n",
      "Real class 7 predicted class 1 error: 385\n",
      "Real class 4 predicted class 2 error: 386\n",
      "Real class 8 predicted class 3 error: 387\n",
      "Real class 5 predicted class 4 error: 388\n",
      "Real class 7 predicted class 2 error: 389\n",
      "Real class 3 predicted class 9 error: 390\n",
      "Real class 5 predicted class 8 error: 391\n",
      "Real class 4 predicted class 6 error: 392\n",
      "Real class 8 predicted class 3 error: 393\n",
      "Real class 2 predicted class 8 error: 394\n",
      "Real class 6 predicted class 0 error: 395\n",
      "Real class 5 predicted class 8 error: 396\n",
      "Real class 7 predicted class 3 error: 397\n",
      "Real class 2 predicted class 3 error: 398\n",
      "Real class 2 predicted class 8 error: 399\n",
      "Real class 0 predicted class 6 error: 400\n",
      "Real class 9 predicted class 0 error: 401\n",
      "Real class 9 predicted class 4 error: 402\n",
      "Real class 8 predicted class 3 error: 403\n",
      "Real class 7 predicted class 9 error: 404\n",
      "Real class 7 predicted class 1 error: 405\n",
      "Real class 2 predicted class 8 error: 406\n",
      "Real class 6 predicted class 2 error: 407\n",
      "Real class 7 predicted class 3 error: 408\n",
      "Real class 6 predicted class 5 error: 409\n",
      "Real class 5 predicted class 0 error: 410\n",
      "Real class 2 predicted class 3 error: 411\n",
      "Real class 9 predicted class 4 error: 412\n",
      "Real class 2 predicted class 8 error: 413\n",
      "Real class 5 predicted class 6 error: 414\n",
      "Real class 5 predicted class 3 error: 415\n",
      "Real class 1 predicted class 3 error: 416\n",
      "Real class 9 predicted class 3 error: 417\n",
      "Real class 5 predicted class 8 error: 418\n",
      "Real class 4 predicted class 6 error: 419\n",
      "Real class 3 predicted class 5 error: 420\n",
      "Real class 2 predicted class 8 error: 421\n",
      "Real class 8 predicted class 5 error: 422\n",
      "Real class 5 predicted class 3 error: 423\n",
      "Real class 8 predicted class 9 error: 424\n",
      "Real class 3 predicted class 2 error: 425\n",
      "Real class 7 predicted class 1 error: 426\n",
      "Real class 9 predicted class 4 error: 427\n",
      "Real class 2 predicted class 1 error: 428\n",
      "Real class 9 predicted class 4 error: 429\n",
      "Real class 3 predicted class 5 error: 430\n",
      "Real class 4 predicted class 9 error: 431\n",
      "Real class 6 predicted class 5 error: 432\n",
      "Real class 0 predicted class 6 error: 433\n",
      "Real class 5 predicted class 3 error: 434\n",
      "Real class 8 predicted class 5 error: 435\n",
      "Real class 5 predicted class 9 error: 436\n",
      "Real class 9 predicted class 7 error: 437\n",
      "Real class 9 predicted class 4 error: 438\n",
      "Real class 9 predicted class 2 error: 439\n",
      "Real class 5 predicted class 1 error: 440\n",
      "Real class 8 predicted class 2 error: 441\n",
      "Real class 8 predicted class 3 error: 442\n",
      "Real class 5 predicted class 1 error: 443\n",
      "Real class 9 predicted class 4 error: 444\n",
      "Real class 2 predicted class 8 error: 445\n",
      "Real class 8 predicted class 3 error: 446\n",
      "Real class 9 predicted class 0 error: 447\n",
      "Real class 2 predicted class 4 error: 448\n",
      "Real class 2 predicted class 4 error: 449\n",
      "Real class 5 predicted class 4 error: 450\n",
      "Real class 7 predicted class 9 error: 451\n",
      "Real class 1 predicted class 5 error: 452\n",
      "Real class 2 predicted class 6 error: 453\n",
      "Real class 6 predicted class 5 error: 454\n",
      "Real class 1 predicted class 3 error: 455\n",
      "Real class 9 predicted class 7 error: 456\n",
      "Real class 7 predicted class 9 error: 457\n",
      "Real class 6 predicted class 5 error: 458\n",
      "Real class 2 predicted class 4 error: 459\n",
      "Real class 5 predicted class 3 error: 460\n",
      "Real class 3 predicted class 2 error: 461\n",
      "Real class 4 predicted class 8 error: 462\n",
      "Real class 5 predicted class 3 error: 463\n",
      "Real class 9 predicted class 5 error: 464\n",
      "Real class 2 predicted class 7 error: 465\n",
      "Real class 7 predicted class 1 error: 466\n",
      "Real class 5 predicted class 8 error: 467\n",
      "Real class 5 predicted class 1 error: 468\n",
      "Real class 3 predicted class 7 error: 469\n",
      "Real class 4 predicted class 9 error: 470\n",
      "Real class 5 predicted class 4 error: 471\n",
      "Real class 3 predicted class 7 error: 472\n",
      "Real class 5 predicted class 8 error: 473\n",
      "Real class 2 predicted class 3 error: 474\n",
      "Real class 9 predicted class 4 error: 475\n",
      "Real class 5 predicted class 9 error: 476\n",
      "Real class 5 predicted class 8 error: 477\n",
      "Real class 5 predicted class 7 error: 478\n",
      "Real class 9 predicted class 4 error: 479\n",
      "Real class 5 predicted class 6 error: 480\n",
      "Real class 9 predicted class 4 error: 481\n",
      "Real class 7 predicted class 9 error: 482\n",
      "Real class 2 predicted class 8 error: 483\n",
      "Real class 7 predicted class 3 error: 484\n",
      "Real class 3 predicted class 7 error: 485\n",
      "Real class 6 predicted class 0 error: 486\n",
      "Real class 2 predicted class 8 error: 487\n",
      "Real class 9 predicted class 7 error: 488\n",
      "Real class 8 predicted class 0 error: 489\n",
      "Real class 5 predicted class 7 error: 490\n",
      "Real class 5 predicted class 8 error: 491\n",
      "Real class 0 predicted class 3 error: 492\n",
      "Real class 8 predicted class 7 error: 493\n",
      "Real class 7 predicted class 8 error: 494\n",
      "Real class 9 predicted class 1 error: 495\n",
      "Real class 2 predicted class 7 error: 496\n",
      "Real class 8 predicted class 3 error: 497\n",
      "Real class 7 predicted class 9 error: 498\n",
      "Real class 6 predicted class 2 error: 499\n",
      "Real class 4 predicted class 2 error: 500\n",
      "Real class 7 predicted class 9 error: 501\n",
      "Real class 5 predicted class 8 error: 502\n",
      "Real class 8 predicted class 4 error: 503\n",
      "Real class 2 predicted class 4 error: 504\n",
      "Real class 8 predicted class 9 error: 505\n",
      "Real class 8 predicted class 7 error: 506\n",
      "Real class 8 predicted class 3 error: 507\n",
      "Real class 5 predicted class 7 error: 508\n",
      "Real class 8 predicted class 5 error: 509\n",
      "Real class 8 predicted class 7 error: 510\n",
      "Real class 9 predicted class 4 error: 511\n",
      "Real class 3 predicted class 5 error: 512\n",
      "Real class 4 predicted class 6 error: 513\n",
      "Real class 9 predicted class 1 error: 514\n",
      "Real class 3 predicted class 8 error: 515\n",
      "Real class 8 predicted class 0 error: 516\n",
      "Real class 3 predicted class 5 error: 517\n",
      "Real class 2 predicted class 1 error: 518\n",
      "Real class 6 predicted class 0 error: 519\n",
      "Real class 9 predicted class 4 error: 520\n",
      "Real class 4 predicted class 9 error: 521\n",
      "Real class 8 predicted class 3 error: 522\n",
      "Real class 7 predicted class 2 error: 523\n",
      "Real class 8 predicted class 6 error: 524\n",
      "Real class 8 predicted class 9 error: 525\n",
      "Real class 9 predicted class 0 error: 526\n",
      "Real class 2 predicted class 4 error: 527\n",
      "Real class 8 predicted class 4 error: 528\n",
      "Real class 0 predicted class 8 error: 529\n",
      "Real class 7 predicted class 1 error: 530\n",
      "Real class 8 predicted class 6 error: 531\n",
      "Real class 9 predicted class 4 error: 532\n",
      "Real class 5 predicted class 8 error: 533\n",
      "Real class 2 predicted class 3 error: 534\n",
      "Real class 2 predicted class 8 error: 535\n",
      "Real class 2 predicted class 3 error: 536\n",
      "Real class 6 predicted class 5 error: 537\n",
      "Real class 8 predicted class 4 error: 538\n",
      "Real class 7 predicted class 1 error: 539\n",
      "Real class 8 predicted class 7 error: 540\n",
      "Real class 3 predicted class 8 error: 541\n",
      "Real class 9 predicted class 4 error: 542\n",
      "Real class 9 predicted class 4 error: 543\n",
      "Real class 9 predicted class 4 error: 544\n",
      "Real class 3 predicted class 2 error: 545\n",
      "Real class 3 predicted class 2 error: 546\n",
      "Real class 3 predicted class 5 error: 547\n",
      "Real class 8 predicted class 1 error: 548\n",
      "Real class 3 predicted class 2 error: 549\n",
      "Real class 4 predicted class 1 error: 550\n",
      "Real class 3 predicted class 2 error: 551\n",
      "Real class 2 predicted class 9 error: 552\n",
      "Real class 9 predicted class 4 error: 553\n",
      "Real class 3 predicted class 2 error: 554\n",
      "Real class 8 predicted class 5 error: 555\n",
      "Real class 7 predicted class 9 error: 556\n",
      "Real class 8 predicted class 4 error: 557\n",
      "Real class 9 predicted class 7 error: 558\n",
      "Real class 2 predicted class 8 error: 559\n",
      "Real class 7 predicted class 2 error: 560\n",
      "Real class 8 predicted class 0 error: 561\n",
      "Real class 8 predicted class 0 error: 562\n",
      "Real class 1 predicted class 6 error: 563\n",
      "Real class 8 predicted class 7 error: 564\n",
      "Real class 1 predicted class 8 error: 565\n",
      "Real class 9 predicted class 7 error: 566\n",
      "Real class 2 predicted class 8 error: 567\n",
      "Real class 7 predicted class 9 error: 568\n",
      "Real class 8 predicted class 1 error: 569\n",
      "Real class 4 predicted class 9 error: 570\n",
      "Real class 7 predicted class 9 error: 571\n",
      "Real class 2 predicted class 0 error: 572\n",
      "Real class 1 predicted class 5 error: 573\n",
      "Real class 7 predicted class 9 error: 574\n",
      "Real class 0 predicted class 6 error: 575\n",
      "Real class 4 predicted class 6 error: 576\n",
      "Real class 7 predicted class 9 error: 577\n",
      "Real class 0 predicted class 5 error: 578\n",
      "Real class 7 predicted class 9 error: 579\n",
      "Real class 0 predicted class 8 error: 580\n",
      "Real class 3 predicted class 7 error: 581\n",
      "Real class 5 predicted class 6 error: 582\n",
      "Real class 8 predicted class 6 error: 583\n",
      "Real class 9 predicted class 7 error: 584\n",
      "Real class 9 predicted class 7 error: 585\n",
      "Real class 5 predicted class 3 error: 586\n",
      "Real class 7 predicted class 9 error: 587\n",
      "Real class 4 predicted class 7 error: 588\n",
      "Real class 5 predicted class 3 error: 589\n",
      "Real class 5 predicted class 3 error: 590\n",
      "Real class 5 predicted class 3 error: 591\n",
      "Real class 7 predicted class 3 error: 592\n",
      "Real class 4 predicted class 0 error: 593\n",
      "Real class 5 predicted class 6 error: 594\n",
      "Real class 3 predicted class 0 error: 595\n",
      "Real class 5 predicted class 3 error: 596\n",
      "Real class 5 predicted class 3 error: 597\n",
      "Real class 4 predicted class 9 error: 598\n",
      "Real class 5 predicted class 3 error: 599\n",
      "Real class 3 predicted class 8 error: 600\n",
      "Real class 3 predicted class 8 error: 601\n",
      "Real class 4 predicted class 9 error: 602\n",
      "Real class 5 predicted class 8 error: 603\n",
      "Real class 4 predicted class 9 error: 604\n",
      "Real class 3 predicted class 5 error: 605\n",
      "Real class 2 predicted class 0 error: 606\n",
      "Real class 4 predicted class 9 error: 607\n",
      "Real class 5 predicted class 3 error: 608\n",
      "Real class 5 predicted class 3 error: 609\n",
      "Real class 3 predicted class 8 error: 610\n",
      "Real class 3 predicted class 8 error: 611\n",
      "Real class 9 predicted class 3 error: 612\n",
      "Real class 9 predicted class 5 error: 613\n",
      "Real class 9 predicted class 5 error: 614\n",
      "Real class 2 predicted class 1 error: 615\n",
      "Real class 9 predicted class 5 error: 616\n",
      "Real class 9 predicted class 8 error: 617\n",
      "Real class 9 predicted class 0 error: 618\n",
      "Real class 9 predicted class 3 error: 619\n",
      "Real class 9 predicted class 5 error: 620\n",
      "Real class 9 predicted class 0 error: 621\n",
      "Real class 9 predicted class 0 error: 622\n",
      "Real class 8 predicted class 3 error: 623\n",
      "Real class 5 predicted class 6 error: 624\n",
      "Real class 8 predicted class 6 error: 625\n",
      "Real class 5 predicted class 2 error: 626\n",
      "Real class 2 predicted class 6 error: 627\n",
      "Real class 0 predicted class 6 error: 628\n",
      "Real class 3 predicted class 2 error: 629\n",
      "Real class 6 predicted class 2 error: 630\n",
      "Real class 0 predicted class 6 error: 631\n",
      "Real class 0 predicted class 6 error: 632\n",
      "Real class 3 predicted class 8 error: 633\n",
      "Real class 2 predicted class 6 error: 634\n",
      "Real class 3 predicted class 5 error: 635\n",
      "Real class 3 predicted class 5 error: 636\n",
      "Real class 9 predicted class 0 error: 637\n",
      "Real class 3 predicted class 0 error: 638\n",
      "Real class 8 predicted class 7 error: 639\n",
      "Real class 9 predicted class 3 error: 640\n",
      "Real class 9 predicted class 4 error: 641\n",
      "Real class 3 predicted class 9 error: 642\n",
      "Real class 9 predicted class 7 error: 643\n",
      "Real class 2 predicted class 6 error: 644\n",
      "Real class 7 predicted class 2 error: 645\n",
      "Real class 0 predicted class 7 error: 646\n",
      "Real class 5 predicted class 6 error: 647\n",
      "Real class 8 predicted class 7 error: 648\n",
      "Real class 8 predicted class 4 error: 649\n",
      "Real class 9 predicted class 5 error: 650\n",
      "Real class 8 predicted class 5 error: 651\n",
      "Real class 9 predicted class 4 error: 652\n",
      "Real class 0 predicted class 5 error: 653\n",
      "Real class 8 predicted class 5 error: 654\n",
      "Real class 1 predicted class 8 error: 655\n",
      "Real class 1 predicted class 8 error: 656\n",
      "Real class 5 predicted class 7 error: 657\n",
      "Real class 2 predicted class 4 error: 658\n",
      "Real class 9 predicted class 0 error: 659\n",
      "Real class 2 predicted class 8 error: 660\n",
      "Real class 5 predicted class 4 error: 661\n",
      "Real class 7 predicted class 2 error: 662\n",
      "Real class 4 predicted class 8 error: 663\n",
      "Real class 5 predicted class 1 error: 664\n",
      "Real class 9 predicted class 4 error: 665\n",
      "Real class 2 predicted class 4 error: 666\n",
      "Real class 2 predicted class 7 error: 667\n",
      "Real class 6 predicted class 4 error: 668\n",
      "Real class 2 predicted class 6 error: 669\n",
      "Real class 2 predicted class 6 error: 670\n",
      "Real class 9 predicted class 7 error: 671\n",
      "Real class 6 predicted class 4 error: 672\n",
      "Real class 8 predicted class 5 error: 673\n",
      "Real class 8 predicted class 9 error: 674\n",
      "Real class 9 predicted class 7 error: 675\n",
      "Real class 8 predicted class 9 error: 676\n",
      "Real class 3 predicted class 9 error: 677\n",
      "Real class 2 predicted class 4 error: 678\n",
      "Real class 8 predicted class 3 error: 679\n",
      "Real class 5 predicted class 8 error: 680\n",
      "Real class 8 predicted class 3 error: 681\n",
      "Real class 4 predicted class 9 error: 682\n",
      "Real class 7 predicted class 2 error: 683\n",
      "Real class 8 predicted class 2 error: 684\n",
      "Real class 4 predicted class 8 error: 685\n",
      "Real class 5 predicted class 6 error: 686\n",
      "Real class 9 predicted class 5 error: 687\n",
      "Real class 2 predicted class 9 error: 688\n",
      "Real class 4 predicted class 8 error: 689\n",
      "Real class 2 predicted class 7 error: 690\n",
      "Real class 5 predicted class 3 error: 691\n",
      "Real class 5 predicted class 8 error: 692\n",
      "Real class 8 predicted class 9 error: 693\n",
      "Real class 9 predicted class 4 error: 694\n",
      "Real class 8 predicted class 5 error: 695\n",
      "Real class 2 predicted class 3 error: 696\n",
      "Real class 9 predicted class 4 error: 697\n",
      "Real class 5 predicted class 8 error: 698\n",
      "Real class 2 predicted class 6 error: 699\n",
      "Real class 5 predicted class 6 error: 700\n",
      "Real class 3 predicted class 2 error: 701\n",
      "Real class 1 predicted class 8 error: 702\n",
      "Real class 3 predicted class 2 error: 703\n",
      "Real class 5 predicted class 8 error: 704\n",
      "Real class 1 predicted class 8 error: 705\n",
      "Real class 5 predicted class 8 error: 706\n",
      "Real class 1 predicted class 8 error: 707\n",
      "Real class 3 predicted class 9 error: 708\n",
      "Real class 5 predicted class 8 error: 709\n",
      "Real class 1 predicted class 8 error: 710\n",
      "Real class 2 predicted class 9 error: 711\n",
      "Real class 3 predicted class 2 error: 712\n",
      "Real class 5 predicted class 8 error: 713\n",
      "Real class 5 predicted class 4 error: 714\n",
      "Real class 2 predicted class 9 error: 715\n",
      "Real class 2 predicted class 9 error: 716\n",
      "Real class 5 predicted class 4 error: 717\n",
      "Real class 1 predicted class 8 error: 718\n",
      "Real class 1 predicted class 8 error: 719\n",
      "Real class 3 predicted class 2 error: 720\n",
      "Real class 2 predicted class 9 error: 721\n",
      "Real class 5 predicted class 8 error: 722\n",
      "Real class 1 predicted class 8 error: 723\n",
      "Real class 2 predicted class 6 error: 724\n",
      "Real class 1 predicted class 8 error: 725\n",
      "Real class 1 predicted class 8 error: 726\n",
      "Real class 2 predicted class 9 error: 727\n",
      "Real class 5 predicted class 8 error: 728\n",
      "Real class 5 predicted class 3 error: 729\n",
      "Real class 4 predicted class 6 error: 730\n",
      "Real class 2 predicted class 8 error: 731\n",
      "Real class 2 predicted class 8 error: 732\n",
      "Real class 4 predicted class 8 error: 733\n",
      "Real class 2 predicted class 4 error: 734\n",
      "Real class 8 predicted class 5 error: 735\n",
      "Real class 6 predicted class 0 error: 736\n",
      "Real class 3 predicted class 8 error: 737\n",
      "Real class 3 predicted class 5 error: 738\n",
      "Real class 3 predicted class 5 error: 739\n",
      "Real class 8 predicted class 5 error: 740\n",
      "Real class 8 predicted class 5 error: 741\n",
      "Real class 8 predicted class 5 error: 742\n",
      "Real class 3 predicted class 5 error: 743\n",
      "Real class 9 predicted class 7 error: 744\n",
      "Real class 8 predicted class 6 error: 745\n",
      "Real class 2 predicted class 4 error: 746\n",
      "Real class 8 predicted class 6 error: 747\n",
      "Real class 8 predicted class 6 error: 748\n",
      "Real class 9 predicted class 7 error: 749\n",
      "Real class 5 predicted class 4 error: 750\n",
      "Real class 4 predicted class 9 error: 751\n",
      "Real class 8 predicted class 6 error: 752\n",
      "Real class 5 predicted class 3 error: 753\n",
      "Real class 2 predicted class 3 error: 754\n",
      "Real class 3 predicted class 8 error: 755\n",
      "Real class 7 predicted class 2 error: 756\n",
      "Real class 2 predicted class 8 error: 757\n",
      "Real class 5 predicted class 6 error: 758\n",
      "Real class 7 predicted class 2 error: 759\n",
      "Real class 0 predicted class 5 error: 760\n",
      "Real class 1 predicted class 8 error: 761\n",
      "Real class 7 predicted class 2 error: 762\n",
      "Real class 7 predicted class 2 error: 763\n",
      "Real class 9 predicted class 4 error: 764\n",
      "Real class 7 predicted class 2 error: 765\n",
      "Real class 7 predicted class 2 error: 766\n",
      "Real class 1 predicted class 8 error: 767\n",
      "Real class 7 predicted class 4 error: 768\n",
      "Real class 2 predicted class 1 error: 769\n",
      "Real class 3 predicted class 9 error: 770\n",
      "Real class 2 predicted class 8 error: 771\n",
      "Real class 9 predicted class 4 error: 772\n",
      "Real class 9 predicted class 7 error: 773\n",
      "Real class 8 predicted class 5 error: 774\n",
      "Real class 8 predicted class 3 error: 775\n",
      "Real class 6 predicted class 4 error: 776\n",
      "Real class 5 predicted class 3 error: 777\n",
      "Real class 2 predicted class 6 error: 778\n",
      "Real class 5 predicted class 3 error: 779\n",
      "Real class 5 predicted class 3 error: 780\n",
      "Real class 7 predicted class 9 error: 781\n",
      "Real class 4 predicted class 9 error: 782\n",
      "Real class 9 predicted class 7 error: 783\n",
      "Real class 9 predicted class 7 error: 784\n",
      "Real class 7 predicted class 3 error: 785\n",
      "Real class 9 predicted class 4 error: 786\n",
      "Real class 2 predicted class 8 error: 787\n",
      "Real class 3 predicted class 5 error: 788\n",
      "Real class 3 predicted class 8 error: 789\n",
      "Real class 0 predicted class 3 error: 790\n",
      "Real class 9 predicted class 7 error: 791\n",
      "Real class 1 predicted class 7 error: 792\n",
      "Real class 3 predicted class 2 error: 793\n",
      "Real class 6 predicted class 5 error: 794\n",
      "Real class 6 predicted class 5 error: 795\n",
      "Real class 2 predicted class 8 error: 796\n",
      "Real class 2 predicted class 0 error: 797\n",
      "Real class 5 predicted class 0 error: 798\n",
      "Real class 2 predicted class 0 error: 799\n",
      "Real class 5 predicted class 6 error: 800\n",
      "Real class 8 predicted class 5 error: 801\n",
      "Real class 9 predicted class 8 error: 802\n",
      "Real class 9 predicted class 4 error: 803\n",
      "Real class 9 predicted class 7 error: 804\n",
      "Real class 8 predicted class 1 error: 805\n",
      "Real class 4 predicted class 2 error: 806\n",
      "Real class 5 predicted class 6 error: 807\n",
      "Real class 2 predicted class 0 error: 808\n",
      "Real class 2 predicted class 0 error: 809\n",
      "Real class 4 predicted class 8 error: 810\n",
      "Real class 2 predicted class 0 error: 811\n",
      "Real class 5 predicted class 0 error: 812\n",
      "Real class 5 predicted class 0 error: 813\n",
      "Real class 2 predicted class 0 error: 814\n",
      "Real class 8 predicted class 1 error: 815\n",
      "Real class 4 predicted class 8 error: 816\n",
      "Real class 9 predicted class 4 error: 817\n",
      "Real class 2 predicted class 8 error: 818\n",
      "Real class 2 predicted class 8 error: 819\n",
      "Real class 2 predicted class 7 error: 820\n",
      "Real class 3 predicted class 0 error: 821\n",
      "Real class 2 predicted class 8 error: 822\n",
      "Real class 9 predicted class 4 error: 823\n",
      "Real class 6 predicted class 3 error: 824\n",
      "Real class 2 predicted class 8 error: 825\n",
      "Real class 2 predicted class 8 error: 826\n",
      "Real class 0 predicted class 2 error: 827\n",
      "Real class 5 predicted class 6 error: 828\n",
      "Real class 6 predicted class 0 error: 829\n",
      "Real class 9 predicted class 4 error: 830\n",
      "Real class 8 predicted class 6 error: 831\n",
      "Real class 2 predicted class 8 error: 832\n",
      "Real class 9 predicted class 4 error: 833\n",
      "Real class 3 predicted class 9 error: 834\n",
      "Real class 3 predicted class 2 error: 835\n",
      "Real class 5 predicted class 6 error: 836\n",
      "Real class 3 predicted class 5 error: 837\n",
      "Real class 3 predicted class 8 error: 838\n",
      "Real class 8 predicted class 7 error: 839\n",
      "Real class 5 predicted class 3 error: 840\n",
      "Real class 3 predicted class 2 error: 841\n",
      "Real class 2 predicted class 3 error: 842\n",
      "Real class 5 predicted class 6 error: 843\n",
      "Real class 3 predicted class 8 error: 844\n"
     ]
    }
   ],
   "source": [
    "cnt=0\n",
    "for i in range(10000):\n",
    "    if(preds[i] != y_test[i]):      \n",
    "        cnt+=1\n",
    "        print(\"Real class\", y_test[i], \"predicted class\", preds[i],\"error:\",cnt)"
   ]
  },
  {
   "cell_type": "markdown",
   "metadata": {},
   "source": [
    "<table>\n",
    " <tr><td><img src=\"img/exclamation.png\" style=\"width:80px;height:80px;\"></td><td>\n",
    "You can spot all the errors in an automated way by comparing *y_test* against *preds* and getting the indexes of the mismatching elements. The function <a href=http://docs.scipy.org/doc/numpy-1.10.1/reference/generated/numpy.where.html>np.where</a> might also help.\n",
    " </td></tr>\n",
    "</table>"
   ]
  },
  {
   "cell_type": "markdown",
   "metadata": {},
   "source": [
    "An overall accuracy measure can also be obtained by means of the **evaluate** method of the model"
   ]
  },
  {
   "cell_type": "code",
   "execution_count": 47,
   "metadata": {
    "collapsed": false
   },
   "outputs": [
    {
     "name": "stdout",
     "output_type": "stream",
     "text": [
      " 9824/10000 [============================>.] - ETA: 0sTest loss 0.306337327284\n",
      "Test accuracy 0.9156\n"
     ]
    }
   ],
   "source": [
    "score = model.evaluate(testvectors, Y_test)\n",
    "print(\"Test loss\", score[0])\n",
    "print(\"Test accuracy\", score[1])"
   ]
  },
  {
   "cell_type": "markdown",
   "metadata": {},
   "source": [
    "<table>\n",
    " <tr><td><img src=\"img/question.png\" style=\"width:80px;height:80px;\"></td><td>\n",
    "Do you think the level of accuracy obtained is good enough for a real application? Consider that every time a digit is misclasified a package might be sent to the wrong address and, ZIP codes in the USA include up to 9 digits.\n",
    " </td></tr>\n",
    "</table>"
   ]
  },
  {
   "cell_type": "markdown",
   "metadata": {},
   "source": [
    "## Multilayer Perceptron"
   ]
  },
  {
   "cell_type": "markdown",
   "metadata": {},
   "source": [
    "A potential way to attain further improvements might be to create a deeper network, by adding layers of hidden units. This is easy to do in Keras, just by defining a new architecture with several Dense layers. For example, to build a network with a hidden layer of 10 units with sigmoid activation we would write:"
   ]
  },
  {
   "cell_type": "code",
   "execution_count": 48,
   "metadata": {
    "collapsed": true
   },
   "outputs": [],
   "source": [
    "model = Sequential()\n",
    "model.add(Dense(10, input_shape=(784,)))\n",
    "model.add(Activation('sigmoid'))\n",
    "model.add(Dense(10))\n",
    "model.add(Activation('softmax'))"
   ]
  },
  {
   "cell_type": "markdown",
   "metadata": {},
   "source": [
    "So we have the model"
   ]
  },
  {
   "cell_type": "code",
   "execution_count": 49,
   "metadata": {
    "collapsed": false
   },
   "outputs": [
    {
     "name": "stdout",
     "output_type": "stream",
     "text": [
      "____________________________________________________________________________________________________\n",
      "Layer (type)                     Output Shape          Param #     Connected to                     \n",
      "====================================================================================================\n",
      "dense_7 (Dense)                  (None, 10)            7850        dense_input_2[0][0]              \n",
      "____________________________________________________________________________________________________\n",
      "activation_15 (Activation)       (None, 10)            0           dense_7[0][0]                    \n",
      "____________________________________________________________________________________________________\n",
      "dense_8 (Dense)                  (None, 10)            110         activation_15[0][0]              \n",
      "____________________________________________________________________________________________________\n",
      "activation_16 (Activation)       (None, 10)            0           dense_8[0][0]                    \n",
      "====================================================================================================\n",
      "Total params: 7,960\n",
      "Trainable params: 7,960\n",
      "Non-trainable params: 0\n",
      "____________________________________________________________________________________________________\n"
     ]
    }
   ],
   "source": [
    "model.summary()"
   ]
  },
  {
   "cell_type": "markdown",
   "metadata": {},
   "source": [
    "<table>\n",
    " <tr><td><img src=\"img/question.png\" style=\"width:80px;height:80px;\"></td><td>\n",
    "Compile the defined network and train it with the data. Then measure the accuracy over the test data. Have you managed to get any improvement over the previous Perceptron model?\n",
    " </td></tr>\n",
    "</table>"
   ]
  },
  {
   "cell_type": "code",
   "execution_count": 50,
   "metadata": {
    "collapsed": false,
    "scrolled": true
   },
   "outputs": [
    {
     "name": "stdout",
     "output_type": "stream",
     "text": [
      "Epoch 1/20\n",
      "1s - loss: 1.5208 - acc: 0.6793\n",
      "Epoch 2/20\n",
      "1s - loss: 0.8414 - acc: 0.8404\n",
      "Epoch 3/20\n",
      "1s - loss: 0.5836 - acc: 0.8754\n",
      "Epoch 4/20\n",
      "1s - loss: 0.4669 - acc: 0.8915\n",
      "Epoch 5/20\n",
      "1s - loss: 0.4037 - acc: 0.9005\n",
      "Epoch 6/20\n",
      "1s - loss: 0.3645 - acc: 0.9070\n",
      "Epoch 7/20\n",
      "1s - loss: 0.3376 - acc: 0.9110\n",
      "Epoch 8/20\n",
      "1s - loss: 0.3174 - acc: 0.9147\n",
      "Epoch 9/20\n",
      "1s - loss: 0.3016 - acc: 0.9177\n",
      "Epoch 10/20\n",
      "1s - loss: 0.2895 - acc: 0.9208\n",
      "Epoch 11/20\n",
      "1s - loss: 0.2792 - acc: 0.9232\n",
      "Epoch 12/20\n",
      "1s - loss: 0.2707 - acc: 0.9253\n",
      "Epoch 13/20\n",
      "1s - loss: 0.2630 - acc: 0.9271\n",
      "Epoch 14/20\n",
      "1s - loss: 0.2569 - acc: 0.9282\n",
      "Epoch 15/20\n",
      "1s - loss: 0.2515 - acc: 0.9300\n",
      "Epoch 16/20\n",
      "1s - loss: 0.2464 - acc: 0.9309\n",
      "Epoch 17/20\n",
      "1s - loss: 0.2424 - acc: 0.9319\n",
      "Epoch 18/20\n",
      "1s - loss: 0.2384 - acc: 0.9329\n",
      "Epoch 19/20\n",
      "1s - loss: 0.2347 - acc: 0.9338\n",
      "Epoch 20/20\n",
      "1s - loss: 0.2313 - acc: 0.9345\n",
      " 9696/10000 [============================>.] - ETA: 0s"
     ]
    },
    {
     "data": {
      "text/plain": [
       "array([7, 2, 1, ..., 4, 5, 6])"
      ]
     },
     "execution_count": 50,
     "metadata": {},
     "output_type": "execute_result"
    }
   ],
   "source": [
    "model.compile(loss='categorical_crossentropy', optimizer='adam', metrics=['accuracy'])\n",
    "\n",
    "model.fit(\n",
    "    trainvectors, # Training data\n",
    "    Y_train, # Labels of training data\n",
    "    batch_size=128, # Batch size for the optimizer algorithm\n",
    "    nb_epoch=20, # Number of epochs to run the optimizer algorithm\n",
    "    verbose=2 # Level of verbosity of the log messages\n",
    ")\n",
    "\n",
    "model.predict_classes(testvectors)"
   ]
  },
  {
   "cell_type": "markdown",
   "metadata": {},
   "source": [
    "### Fine tuning the network design"
   ]
  },
  {
   "cell_type": "markdown",
   "metadata": {},
   "source": [
    "To improve the performance of the multilayer perceptron we will use the following:\n",
    "* Increase the number of hidden units\n",
    "* Use a better activation function: rectified linear\n",
    "* Use a better optimizer: adam"
   ]
  },
  {
   "cell_type": "markdown",
   "metadata": {},
   "source": [
    "This boils down to defining the network as"
   ]
  },
  {
   "cell_type": "code",
   "execution_count": 51,
   "metadata": {
    "collapsed": true
   },
   "outputs": [],
   "source": [
    "model = Sequential()\n",
    "model.add(Dense(100, input_shape=(784,)))\n",
    "model.add(Activation('relu'))\n",
    "model.add(Dense(10))\n",
    "model.add(Activation('softmax'))"
   ]
  },
  {
   "cell_type": "markdown",
   "metadata": {},
   "source": [
    "<table>\n",
    " <tr><td><img src=\"img/question.png\" style=\"width:80px;height:80px;\"></td><td>\n",
    "Compile the defined network, choosing \"adam\" as the optimization algorithm, and train it with the data. Then measure the accuracy over the test data. Did these changes give rise to better results?\n",
    " </td></tr>\n",
    "</table>"
   ]
  },
  {
   "cell_type": "code",
   "execution_count": 52,
   "metadata": {
    "collapsed": false,
    "scrolled": true
   },
   "outputs": [
    {
     "name": "stdout",
     "output_type": "stream",
     "text": [
      "Epoch 1/20\n",
      "2s - loss: 0.3725 - acc: 0.8983\n",
      "Epoch 2/20\n",
      "1s - loss: 0.1721 - acc: 0.9506\n",
      "Epoch 3/20\n",
      "1s - loss: 0.1264 - acc: 0.9641\n",
      "Epoch 4/20\n",
      "1s - loss: 0.0992 - acc: 0.9721\n",
      "Epoch 5/20\n",
      "1s - loss: 0.0823 - acc: 0.9765\n",
      "Epoch 6/20\n",
      "1s - loss: 0.0693 - acc: 0.9801\n",
      "Epoch 7/20\n",
      "2s - loss: 0.0590 - acc: 0.9827\n",
      "Epoch 8/20\n",
      "2s - loss: 0.0514 - acc: 0.9857\n",
      "Epoch 9/20\n",
      "2s - loss: 0.0443 - acc: 0.9874\n",
      "Epoch 10/20\n",
      "1s - loss: 0.0387 - acc: 0.9890\n",
      "Epoch 11/20\n",
      "2s - loss: 0.0343 - acc: 0.9901\n",
      "Epoch 12/20\n",
      "2s - loss: 0.0290 - acc: 0.9922\n",
      "Epoch 13/20\n",
      "2s - loss: 0.0254 - acc: 0.9932\n",
      "Epoch 14/20\n",
      "2s - loss: 0.0226 - acc: 0.9941\n",
      "Epoch 15/20\n",
      "2s - loss: 0.0198 - acc: 0.9950\n",
      "Epoch 16/20\n",
      "2s - loss: 0.0171 - acc: 0.9958\n",
      "Epoch 17/20\n",
      "2s - loss: 0.0149 - acc: 0.9967\n",
      "Epoch 18/20\n",
      "1s - loss: 0.0135 - acc: 0.9969\n",
      "Epoch 19/20\n",
      "1s - loss: 0.0111 - acc: 0.9978\n",
      "Epoch 20/20\n",
      "1s - loss: 0.0099 - acc: 0.9981\n"
     ]
    },
    {
     "data": {
      "text/plain": [
       "<keras.callbacks.History at 0x7f9b589f7eb8>"
      ]
     },
     "execution_count": 52,
     "metadata": {},
     "output_type": "execute_result"
    }
   ],
   "source": [
    "model.compile(loss='categorical_crossentropy', optimizer='adam', metrics=['accuracy'])\n",
    "\n",
    "model.fit(\n",
    "    trainvectors, # Training data\n",
    "    Y_train, # Labels of training data\n",
    "    batch_size=128, # Batch size for the optimizer algorithm\n",
    "    nb_epoch=20, # Number of epochs to run the optimizer algorithm\n",
    "    verbose=2 # Level of verbosity of the log messages\n",
    ")"
   ]
  },
  {
   "cell_type": "code",
   "execution_count": 53,
   "metadata": {
    "collapsed": false
   },
   "outputs": [
    {
     "name": "stdout",
     "output_type": "stream",
     "text": [
      "10000/10000 [==============================] - 0s     \n",
      "Test loss 0.0840964106696\n",
      "Test accuracy 0.9771\n",
      "Real class 8 predicted class 2 error: 1\n",
      "Real class 9 predicted class 8 error: 2\n",
      "Real class 4 predicted class 2 error: 3\n",
      "Real class 9 predicted class 3 error: 4\n",
      "Real class 2 predicted class 7 error: 5\n",
      "Real class 5 predicted class 3 error: 6\n",
      "Real class 6 predicted class 0 error: 7\n",
      "Real class 8 predicted class 2 error: 8\n",
      "Real class 8 predicted class 2 error: 9\n",
      "Real class 1 predicted class 8 error: 10\n",
      "Real class 7 predicted class 3 error: 11\n",
      "Real class 5 predicted class 8 error: 12\n",
      "Real class 7 predicted class 2 error: 13\n",
      "Real class 1 predicted class 3 error: 14\n",
      "Real class 5 predicted class 4 error: 15\n",
      "Real class 1 predicted class 2 error: 16\n",
      "Real class 6 predicted class 0 error: 17\n",
      "Real class 5 predicted class 3 error: 18\n",
      "Real class 6 predicted class 5 error: 19\n",
      "Real class 7 predicted class 8 error: 20\n",
      "Real class 2 predicted class 3 error: 21\n",
      "Real class 9 predicted class 3 error: 22\n",
      "Real class 4 predicted class 6 error: 23\n",
      "Real class 6 predicted class 8 error: 24\n",
      "Real class 7 predicted class 2 error: 25\n",
      "Real class 9 predicted class 4 error: 26\n",
      "Real class 4 predicted class 9 error: 27\n",
      "Real class 9 predicted class 5 error: 28\n",
      "Real class 5 predicted class 3 error: 29\n",
      "Real class 8 predicted class 3 error: 30\n",
      "Real class 7 predicted class 2 error: 31\n",
      "Real class 7 predicted class 9 error: 32\n",
      "Real class 5 predicted class 3 error: 33\n",
      "Real class 2 predicted class 3 error: 34\n",
      "Real class 9 predicted class 2 error: 35\n",
      "Real class 5 predicted class 3 error: 36\n",
      "Real class 7 predicted class 1 error: 37\n",
      "Real class 7 predicted class 9 error: 38\n",
      "Real class 8 predicted class 7 error: 39\n",
      "Real class 4 predicted class 6 error: 40\n",
      "Real class 9 predicted class 3 error: 41\n",
      "Real class 2 predicted class 6 error: 42\n",
      "Real class 0 predicted class 6 error: 43\n",
      "Real class 3 predicted class 7 error: 44\n",
      "Real class 9 predicted class 3 error: 45\n",
      "Real class 8 predicted class 0 error: 46\n",
      "Real class 7 predicted class 4 error: 47\n",
      "Real class 4 predicted class 2 error: 48\n",
      "Real class 7 predicted class 2 error: 49\n",
      "Real class 6 predicted class 4 error: 50\n",
      "Real class 9 predicted class 4 error: 51\n",
      "Real class 7 predicted class 8 error: 52\n",
      "Real class 2 predicted class 0 error: 53\n",
      "Real class 0 predicted class 9 error: 54\n",
      "Real class 5 predicted class 8 error: 55\n",
      "Real class 8 predicted class 3 error: 56\n",
      "Real class 7 predicted class 9 error: 57\n",
      "Real class 0 predicted class 4 error: 58\n",
      "Real class 5 predicted class 3 error: 59\n",
      "Real class 4 predicted class 9 error: 60\n",
      "Real class 7 predicted class 9 error: 61\n",
      "Real class 3 predicted class 2 error: 62\n",
      "Real class 6 predicted class 0 error: 63\n",
      "Real class 6 predicted class 1 error: 64\n",
      "Real class 1 predicted class 2 error: 65\n",
      "Real class 5 predicted class 8 error: 66\n",
      "Real class 8 predicted class 0 error: 67\n",
      "Real class 9 predicted class 0 error: 68\n",
      "Real class 5 predicted class 3 error: 69\n",
      "Real class 9 predicted class 1 error: 70\n",
      "Real class 8 predicted class 3 error: 71\n",
      "Real class 9 predicted class 7 error: 72\n",
      "Real class 9 predicted class 4 error: 73\n",
      "Real class 2 predicted class 4 error: 74\n",
      "Real class 4 predicted class 9 error: 75\n",
      "Real class 7 predicted class 1 error: 76\n",
      "Real class 9 predicted class 0 error: 77\n",
      "Real class 6 predicted class 1 error: 78\n",
      "Real class 9 predicted class 4 error: 79\n",
      "Real class 7 predicted class 4 error: 80\n",
      "Real class 4 predicted class 7 error: 81\n",
      "Real class 5 predicted class 3 error: 82\n",
      "Real class 8 predicted class 0 error: 83\n",
      "Real class 7 predicted class 3 error: 84\n",
      "Real class 3 predicted class 2 error: 85\n",
      "Real class 3 predicted class 2 error: 86\n",
      "Real class 9 predicted class 5 error: 87\n",
      "Real class 3 predicted class 5 error: 88\n",
      "Real class 5 predicted class 3 error: 89\n",
      "Real class 6 predicted class 8 error: 90\n",
      "Real class 1 predicted class 2 error: 91\n",
      "Real class 5 predicted class 9 error: 92\n",
      "Real class 6 predicted class 0 error: 93\n",
      "Real class 8 predicted class 9 error: 94\n",
      "Real class 6 predicted class 0 error: 95\n",
      "Real class 9 predicted class 1 error: 96\n",
      "Real class 6 predicted class 4 error: 97\n",
      "Real class 3 predicted class 2 error: 98\n",
      "Real class 6 predicted class 5 error: 99\n",
      "Real class 5 predicted class 0 error: 100\n",
      "Real class 8 predicted class 5 error: 101\n",
      "Real class 9 predicted class 3 error: 102\n",
      "Real class 8 predicted class 4 error: 103\n",
      "Real class 6 predicted class 0 error: 104\n",
      "Real class 7 predicted class 2 error: 105\n",
      "Real class 8 predicted class 3 error: 106\n",
      "Real class 5 predicted class 8 error: 107\n",
      "Real class 2 predicted class 8 error: 108\n",
      "Real class 7 predicted class 8 error: 109\n",
      "Real class 0 predicted class 4 error: 110\n",
      "Real class 7 predicted class 1 error: 111\n",
      "Real class 6 predicted class 2 error: 112\n",
      "Real class 5 predicted class 3 error: 113\n",
      "Real class 1 predicted class 2 error: 114\n",
      "Real class 3 predicted class 5 error: 115\n",
      "Real class 8 predicted class 2 error: 116\n",
      "Real class 9 predicted class 8 error: 117\n",
      "Real class 7 predicted class 4 error: 118\n",
      "Real class 7 predicted class 1 error: 119\n",
      "Real class 0 predicted class 2 error: 120\n",
      "Real class 8 predicted class 0 error: 121\n",
      "Real class 9 predicted class 3 error: 122\n",
      "Real class 8 predicted class 3 error: 123\n",
      "Real class 2 predicted class 7 error: 124\n",
      "Real class 6 predicted class 4 error: 125\n",
      "Real class 7 predicted class 9 error: 126\n",
      "Real class 1 predicted class 7 error: 127\n",
      "Real class 8 predicted class 2 error: 128\n",
      "Real class 9 predicted class 7 error: 129\n",
      "Real class 2 predicted class 8 error: 130\n",
      "Real class 4 predicted class 6 error: 131\n",
      "Real class 2 predicted class 7 error: 132\n",
      "Real class 9 predicted class 5 error: 133\n",
      "Real class 5 predicted class 3 error: 134\n",
      "Real class 8 predicted class 4 error: 135\n",
      "Real class 7 predicted class 2 error: 136\n",
      "Real class 3 predicted class 2 error: 137\n",
      "Real class 3 predicted class 2 error: 138\n",
      "Real class 8 predicted class 7 error: 139\n",
      "Real class 9 predicted class 8 error: 140\n",
      "Real class 6 predicted class 5 error: 141\n",
      "Real class 6 predicted class 2 error: 142\n",
      "Real class 5 predicted class 6 error: 143\n",
      "Real class 4 predicted class 9 error: 144\n",
      "Real class 8 predicted class 4 error: 145\n",
      "Real class 8 predicted class 3 error: 146\n",
      "Real class 7 predicted class 2 error: 147\n",
      "Real class 8 predicted class 7 error: 148\n",
      "Real class 3 predicted class 5 error: 149\n",
      "Real class 8 predicted class 3 error: 150\n",
      "Real class 6 predicted class 7 error: 151\n",
      "Real class 9 predicted class 4 error: 152\n",
      "Real class 2 predicted class 4 error: 153\n",
      "Real class 0 predicted class 8 error: 154\n",
      "Real class 8 predicted class 3 error: 155\n",
      "Real class 8 predicted class 4 error: 156\n",
      "Real class 7 predicted class 4 error: 157\n",
      "Real class 8 predicted class 3 error: 158\n",
      "Real class 9 predicted class 7 error: 159\n",
      "Real class 6 predicted class 4 error: 160\n",
      "Real class 1 predicted class 6 error: 161\n",
      "Real class 1 predicted class 8 error: 162\n",
      "Real class 4 predicted class 2 error: 163\n",
      "Real class 2 predicted class 3 error: 164\n",
      "Real class 1 predicted class 8 error: 165\n",
      "Real class 7 predicted class 2 error: 166\n",
      "Real class 4 predicted class 2 error: 167\n",
      "Real class 3 predicted class 2 error: 168\n",
      "Real class 8 predicted class 6 error: 169\n",
      "Real class 9 predicted class 7 error: 170\n",
      "Real class 7 predicted class 0 error: 171\n",
      "Real class 5 predicted class 3 error: 172\n",
      "Real class 4 predicted class 9 error: 173\n",
      "Real class 5 predicted class 3 error: 174\n",
      "Real class 3 predicted class 8 error: 175\n",
      "Real class 3 predicted class 8 error: 176\n",
      "Real class 5 predicted class 3 error: 177\n",
      "Real class 3 predicted class 9 error: 178\n",
      "Real class 3 predicted class 9 error: 179\n",
      "Real class 8 predicted class 9 error: 180\n",
      "Real class 6 predicted class 2 error: 181\n",
      "Real class 9 predicted class 3 error: 182\n",
      "Real class 1 predicted class 8 error: 183\n",
      "Real class 2 predicted class 6 error: 184\n",
      "Real class 7 predicted class 1 error: 185\n",
      "Real class 0 predicted class 7 error: 186\n",
      "Real class 7 predicted class 9 error: 187\n",
      "Real class 9 predicted class 5 error: 188\n",
      "Real class 8 predicted class 2 error: 189\n",
      "Real class 0 predicted class 5 error: 190\n",
      "Real class 8 predicted class 9 error: 191\n",
      "Real class 1 predicted class 6 error: 192\n",
      "Real class 6 predicted class 4 error: 193\n",
      "Real class 0 predicted class 6 error: 194\n",
      "Real class 4 predicted class 8 error: 195\n",
      "Real class 8 predicted class 9 error: 196\n",
      "Real class 3 predicted class 2 error: 197\n",
      "Real class 8 predicted class 3 error: 198\n",
      "Real class 8 predicted class 2 error: 199\n",
      "Real class 1 predicted class 2 error: 200\n",
      "Real class 1 predicted class 8 error: 201\n",
      "Real class 2 predicted class 8 error: 202\n",
      "Real class 3 predicted class 9 error: 203\n",
      "Real class 3 predicted class 9 error: 204\n",
      "Real class 6 predicted class 4 error: 205\n",
      "Real class 0 predicted class 3 error: 206\n",
      "Real class 7 predicted class 3 error: 207\n",
      "Real class 8 predicted class 6 error: 208\n",
      "Real class 7 predicted class 2 error: 209\n",
      "Real class 7 predicted class 2 error: 210\n",
      "Real class 7 predicted class 2 error: 211\n",
      "Real class 7 predicted class 2 error: 212\n",
      "Real class 5 predicted class 3 error: 213\n",
      "Real class 9 predicted class 4 error: 214\n",
      "Real class 0 predicted class 3 error: 215\n",
      "Real class 2 predicted class 7 error: 216\n",
      "Real class 6 predicted class 3 error: 217\n",
      "Real class 2 predicted class 8 error: 218\n",
      "Real class 5 predicted class 6 error: 219\n",
      "Real class 4 predicted class 2 error: 220\n",
      "Real class 5 predicted class 6 error: 221\n",
      "Real class 2 predicted class 0 error: 222\n",
      "Real class 5 predicted class 0 error: 223\n",
      "Real class 5 predicted class 0 error: 224\n",
      "Real class 2 predicted class 0 error: 225\n",
      "Real class 0 predicted class 2 error: 226\n",
      "Real class 8 predicted class 4 error: 227\n",
      "Real class 6 predicted class 4 error: 228\n",
      "Real class 3 predicted class 8 error: 229\n"
     ]
    },
    {
     "data": {
      "image/png": "[encoded data removed]",
      "text/plain": [
       "<matplotlib.figure.Figure at 0x7f9b58948358>"
      ]
     },
     "metadata": {},
     "output_type": "display_data"
    }
   ],
   "source": [
    "preds = model.predict_classes(testvectors)\n",
    "\n",
    "score = model.evaluate(testvectors, Y_test)\n",
    "print(\"Test loss\", score[0])\n",
    "print(\"Test accuracy\", score[1])\n",
    "\n",
    "cnt=0\n",
    "for i in range(10000):\n",
    "    if(preds[i] != y_test[i]):\n",
    "        plt.imshow(X_test[i], 'gray')\n",
    "        cnt+=1\n",
    "        print(\"Real class\", y_test[i], \"predicted class\", preds[i],\"error:\",cnt)"
   ]
  },
  {
   "cell_type": "code",
   "execution_count": 54,
   "metadata": {
    "collapsed": false
   },
   "outputs": [
    {
     "name": "stdout",
     "output_type": "stream",
     "text": [
      "____________________________________________________________________________________________________\n",
      "Layer (type)                     Output Shape          Param #     Connected to                     \n",
      "====================================================================================================\n",
      "dense_9 (Dense)                  (None, 100)           78500       dense_input_3[0][0]              \n",
      "____________________________________________________________________________________________________\n",
      "activation_17 (Activation)       (None, 100)           0           dense_9[0][0]                    \n",
      "____________________________________________________________________________________________________\n",
      "dense_10 (Dense)                 (None, 10)            1010        activation_17[0][0]              \n",
      "____________________________________________________________________________________________________\n",
      "activation_18 (Activation)       (None, 10)            0           dense_10[0][0]                   \n",
      "====================================================================================================\n",
      "Total params: 79,510\n",
      "Trainable params: 79,510\n",
      "Non-trainable params: 0\n",
      "____________________________________________________________________________________________________\n"
     ]
    }
   ],
   "source": [
    "model.summary()"
   ]
  },
  {
   "cell_type": "markdown",
   "metadata": {},
   "source": [
    "### More layers"
   ]
  },
  {
   "cell_type": "markdown",
   "metadata": {},
   "source": [
    "<table>\n",
    " <tr><td><img src=\"img/question.png\" style=\"width:80px;height:80px;\"></td><td>\n",
    "Define a new network with two hidden layers, each of 512 hidden units with rectified linear activation. For the output use the softmax activation. Compile the defined network, choosing \"adam\" as the optimization algorithm, and train it with the data. Then measure the accuracy over the test data. How are you doing now?\n",
    " </td></tr>\n",
    "</table>"
   ]
  },
  {
   "cell_type": "code",
   "execution_count": 55,
   "metadata": {
    "collapsed": false,
    "scrolled": true
   },
   "outputs": [
    {
     "name": "stdout",
     "output_type": "stream",
     "text": [
      "Epoch 1/20\n",
      "10s - loss: 0.2136 - acc: 0.9377\n",
      "Epoch 2/20\n",
      "10s - loss: 0.0807 - acc: 0.9754\n",
      "Epoch 3/20\n",
      "10s - loss: 0.0491 - acc: 0.9848\n",
      "Epoch 4/20\n",
      "11s - loss: 0.0360 - acc: 0.9886\n",
      "Epoch 5/20\n",
      "10s - loss: 0.0281 - acc: 0.9905\n",
      "Epoch 6/20\n",
      "10s - loss: 0.0234 - acc: 0.9923\n",
      "Epoch 7/20\n",
      "10s - loss: 0.0184 - acc: 0.9937\n",
      "Epoch 8/20\n",
      "10s - loss: 0.0160 - acc: 0.9945\n",
      "Epoch 9/20\n",
      "10s - loss: 0.0131 - acc: 0.9954\n",
      "Epoch 10/20\n",
      "9s - loss: 0.0137 - acc: 0.9955\n",
      "Epoch 11/20\n",
      "9s - loss: 0.0121 - acc: 0.9960\n",
      "Epoch 12/20\n",
      "9s - loss: 0.0123 - acc: 0.9961\n",
      "Epoch 13/20\n",
      "9s - loss: 0.0108 - acc: 0.9963\n",
      "Epoch 14/20\n",
      "9s - loss: 0.0091 - acc: 0.9969\n",
      "Epoch 15/20\n",
      "9s - loss: 0.0108 - acc: 0.9965\n",
      "Epoch 16/20\n",
      "9s - loss: 0.0070 - acc: 0.9978\n",
      "Epoch 17/20\n",
      "10s - loss: 0.0108 - acc: 0.9966\n",
      "Epoch 18/20\n",
      "9s - loss: 0.0076 - acc: 0.9976\n",
      "Epoch 19/20\n",
      "9s - loss: 0.0079 - acc: 0.9975\n",
      "Epoch 20/20\n",
      "10s - loss: 0.0068 - acc: 0.9978\n"
     ]
    },
    {
     "data": {
      "text/plain": [
       "<keras.callbacks.History at 0x7f9b584992e8>"
      ]
     },
     "execution_count": 55,
     "metadata": {},
     "output_type": "execute_result"
    }
   ],
   "source": [
    "model = Sequential()\n",
    "model.add(Dense(512, input_shape=(784,)))\n",
    "model.add(Activation('relu'))\n",
    "model.add(Dense(512))\n",
    "model.add(Activation('relu'))\n",
    "model.add(Dense(10))\n",
    "model.add(Activation('softmax'))\n",
    "\n",
    "model.compile(loss='categorical_crossentropy', optimizer='adam', metrics=['accuracy'])\n",
    "\n",
    "model.fit(\n",
    "    trainvectors, # Training data\n",
    "    Y_train, # Labels of training data\n",
    "    batch_size=128, # Batch size for the optimizer algorithm\n",
    "    nb_epoch=20, # Number of epochs to run the optimizer algorithm\n",
    "    verbose=2 # Level of verbosity of the log messages\n",
    ")\n",
    "\n"
   ]
  },
  {
   "cell_type": "code",
   "execution_count": 56,
   "metadata": {
    "collapsed": false
   },
   "outputs": [
    {
     "name": "stdout",
     "output_type": "stream",
     "text": [
      "10000/10000 [==============================] - 1s     \n",
      "Test loss 0.0887954511859\n",
      "Test accuracy 0.9819\n",
      "Real class 4 predicted class 9 error: 1\n",
      "Real class 4 predicted class 6 error: 2\n",
      "Real class 2 predicted class 7 error: 3\n",
      "Real class 5 predicted class 3 error: 4\n",
      "Real class 6 predicted class 0 error: 5\n",
      "Real class 9 predicted class 8 error: 6\n",
      "Real class 8 predicted class 2 error: 7\n",
      "Real class 3 predicted class 8 error: 8\n",
      "Real class 8 predicted class 2 error: 9\n",
      "Real class 2 predicted class 8 error: 10\n",
      "Real class 1 predicted class 8 error: 11\n",
      "Real class 2 predicted class 6 error: 12\n",
      "Real class 8 predicted class 2 error: 13\n",
      "Real class 5 predicted class 3 error: 14\n",
      "Real class 5 predicted class 8 error: 15\n",
      "Real class 4 predicted class 9 error: 16\n",
      "Real class 7 predicted class 9 error: 17\n",
      "Real class 8 predicted class 6 error: 18\n",
      "Real class 3 predicted class 5 error: 19\n",
      "Real class 8 predicted class 9 error: 20\n",
      "Real class 5 predicted class 4 error: 21\n",
      "Real class 6 predicted class 9 error: 22\n",
      "Real class 7 predicted class 8 error: 23\n",
      "Real class 4 predicted class 6 error: 24\n",
      "Real class 4 predicted class 0 error: 25\n",
      "Real class 6 predicted class 1 error: 26\n",
      "Real class 2 predicted class 4 error: 27\n",
      "Real class 7 predicted class 2 error: 28\n",
      "Real class 9 predicted class 4 error: 29\n",
      "Real class 4 predicted class 9 error: 30\n",
      "Real class 9 predicted class 3 error: 31\n",
      "Real class 5 predicted class 9 error: 32\n",
      "Real class 5 predicted class 7 error: 33\n",
      "Real class 8 predicted class 3 error: 34\n",
      "Real class 2 predicted class 8 error: 35\n",
      "Real class 5 predicted class 3 error: 36\n",
      "Real class 2 predicted class 3 error: 37\n",
      "Real class 9 predicted class 7 error: 38\n",
      "Real class 5 predicted class 6 error: 39\n",
      "Real class 5 predicted class 3 error: 40\n",
      "Real class 8 predicted class 7 error: 41\n",
      "Real class 4 predicted class 6 error: 42\n",
      "Real class 2 predicted class 3 error: 43\n",
      "Real class 3 predicted class 7 error: 44\n",
      "Real class 9 predicted class 4 error: 45\n",
      "Real class 5 predicted class 6 error: 46\n",
      "Real class 5 predicted class 6 error: 47\n",
      "Real class 4 predicted class 8 error: 48\n",
      "Real class 4 predicted class 9 error: 49\n",
      "Real class 7 predicted class 0 error: 50\n",
      "Real class 2 predicted class 0 error: 51\n",
      "Real class 3 predicted class 7 error: 52\n",
      "Real class 6 predicted class 1 error: 53\n",
      "Real class 4 predicted class 9 error: 54\n",
      "Real class 6 predicted class 1 error: 55\n",
      "Real class 5 predicted class 3 error: 56\n",
      "Real class 9 predicted class 0 error: 57\n",
      "Real class 9 predicted class 1 error: 58\n",
      "Real class 9 predicted class 8 error: 59\n",
      "Real class 3 predicted class 9 error: 60\n",
      "Real class 9 predicted class 4 error: 61\n",
      "Real class 9 predicted class 4 error: 62\n",
      "Real class 2 predicted class 4 error: 63\n",
      "Real class 5 predicted class 8 error: 64\n",
      "Real class 5 predicted class 3 error: 65\n",
      "Real class 6 predicted class 1 error: 66\n",
      "Real class 9 predicted class 4 error: 67\n",
      "Real class 5 predicted class 3 error: 68\n",
      "Real class 9 predicted class 4 error: 69\n",
      "Real class 4 predicted class 7 error: 70\n",
      "Real class 8 predicted class 0 error: 71\n",
      "Real class 3 predicted class 8 error: 72\n",
      "Real class 9 predicted class 7 error: 73\n",
      "Real class 3 predicted class 5 error: 74\n",
      "Real class 5 predicted class 3 error: 75\n",
      "Real class 1 predicted class 2 error: 76\n",
      "Real class 5 predicted class 9 error: 77\n",
      "Real class 5 predicted class 4 error: 78\n",
      "Real class 4 predicted class 9 error: 79\n",
      "Real class 7 predicted class 8 error: 80\n",
      "Real class 8 predicted class 9 error: 81\n",
      "Real class 6 predicted class 0 error: 82\n",
      "Real class 2 predicted class 7 error: 83\n",
      "Real class 4 predicted class 9 error: 84\n",
      "Real class 6 predicted class 4 error: 85\n",
      "Real class 5 predicted class 8 error: 86\n",
      "Real class 5 predicted class 0 error: 87\n",
      "Real class 9 predicted class 3 error: 88\n",
      "Real class 7 predicted class 0 error: 89\n",
      "Real class 8 predicted class 9 error: 90\n",
      "Real class 4 predicted class 6 error: 91\n",
      "Real class 2 predicted class 3 error: 92\n",
      "Real class 9 predicted class 4 error: 93\n",
      "Real class 5 predicted class 6 error: 94\n",
      "Real class 5 predicted class 3 error: 95\n",
      "Real class 1 predicted class 3 error: 96\n",
      "Real class 4 predicted class 6 error: 97\n",
      "Real class 8 predicted class 2 error: 98\n",
      "Real class 9 predicted class 4 error: 99\n",
      "Real class 8 predicted class 3 error: 100\n",
      "Real class 8 predicted class 2 error: 101\n",
      "Real class 9 predicted class 0 error: 102\n",
      "Real class 2 predicted class 8 error: 103\n",
      "Real class 7 predicted class 9 error: 104\n",
      "Real class 1 predicted class 7 error: 105\n",
      "Real class 2 predicted class 8 error: 106\n",
      "Real class 2 predicted class 7 error: 107\n",
      "Real class 3 predicted class 9 error: 108\n",
      "Real class 9 predicted class 4 error: 109\n",
      "Real class 8 predicted class 7 error: 110\n",
      "Real class 2 predicted class 7 error: 111\n",
      "Real class 5 predicted class 6 error: 112\n",
      "Real class 6 predicted class 8 error: 113\n",
      "Real class 8 predicted class 7 error: 114\n",
      "Real class 9 predicted class 4 error: 115\n",
      "Real class 8 predicted class 3 error: 116\n",
      "Real class 6 predicted class 4 error: 117\n",
      "Real class 9 predicted class 4 error: 118\n",
      "Real class 4 predicted class 9 error: 119\n",
      "Real class 8 predicted class 6 error: 120\n",
      "Real class 0 predicted class 8 error: 121\n",
      "Real class 8 predicted class 4 error: 122\n",
      "Real class 7 predicted class 8 error: 123\n",
      "Real class 3 predicted class 2 error: 124\n",
      "Real class 5 predicted class 6 error: 125\n",
      "Real class 6 predicted class 4 error: 126\n",
      "Real class 1 predicted class 6 error: 127\n",
      "Real class 1 predicted class 8 error: 128\n",
      "Real class 1 predicted class 8 error: 129\n",
      "Real class 4 predicted class 7 error: 130\n",
      "Real class 3 predicted class 7 error: 131\n",
      "Real class 9 predicted class 7 error: 132\n",
      "Real class 5 predicted class 3 error: 133\n",
      "Real class 5 predicted class 3 error: 134\n",
      "Real class 4 predicted class 9 error: 135\n",
      "Real class 5 predicted class 3 error: 136\n",
      "Real class 3 predicted class 9 error: 137\n",
      "Real class 5 predicted class 3 error: 138\n",
      "Real class 8 predicted class 3 error: 139\n",
      "Real class 3 predicted class 9 error: 140\n",
      "Real class 0 predicted class 7 error: 141\n",
      "Real class 5 predicted class 3 error: 142\n",
      "Real class 8 predicted class 7 error: 143\n",
      "Real class 8 predicted class 2 error: 144\n",
      "Real class 8 predicted class 5 error: 145\n",
      "Real class 0 predicted class 4 error: 146\n",
      "Real class 7 predicted class 2 error: 147\n",
      "Real class 8 predicted class 9 error: 148\n",
      "Real class 6 predicted class 4 error: 149\n",
      "Real class 0 predicted class 6 error: 150\n",
      "Real class 3 predicted class 7 error: 151\n",
      "Real class 7 predicted class 4 error: 152\n",
      "Real class 4 predicted class 9 error: 153\n",
      "Real class 9 predicted class 8 error: 154\n",
      "Real class 5 predicted class 8 error: 155\n",
      "Real class 2 predicted class 8 error: 156\n",
      "Real class 3 predicted class 9 error: 157\n",
      "Real class 3 predicted class 9 error: 158\n",
      "Real class 6 predicted class 4 error: 159\n",
      "Real class 7 predicted class 2 error: 160\n",
      "Real class 0 predicted class 6 error: 161\n",
      "Real class 8 predicted class 6 error: 162\n",
      "Real class 8 predicted class 6 error: 163\n",
      "Real class 4 predicted class 9 error: 164\n",
      "Real class 7 predicted class 2 error: 165\n",
      "Real class 7 predicted class 2 error: 166\n",
      "Real class 9 predicted class 8 error: 167\n",
      "Real class 9 predicted class 4 error: 168\n",
      "Real class 0 predicted class 1 error: 169\n",
      "Real class 2 predicted class 7 error: 170\n",
      "Real class 2 predicted class 8 error: 171\n",
      "Real class 5 predicted class 6 error: 172\n",
      "Real class 3 predicted class 8 error: 173\n",
      "Real class 5 predicted class 6 error: 174\n",
      "Real class 5 predicted class 0 error: 175\n",
      "Real class 2 predicted class 8 error: 176\n",
      "Real class 2 predicted class 7 error: 177\n",
      "Real class 6 predicted class 8 error: 178\n",
      "Real class 2 predicted class 8 error: 179\n",
      "Real class 5 predicted class 8 error: 180\n",
      "Real class 5 predicted class 6 error: 181\n"
     ]
    },
    {
     "data": {
      "image/png": "[encoded data removed]",
      "text/plain": [
       "<matplotlib.figure.Figure at 0x7f9b58395c50>"
      ]
     },
     "metadata": {},
     "output_type": "display_data"
    }
   ],
   "source": [
    "preds = model.predict_classes(testvectors)\n",
    "\n",
    "score = model.evaluate(testvectors, Y_test)\n",
    "print(\"Test loss\", score[0])\n",
    "print(\"Test accuracy\", score[1])\n",
    "\n",
    "cnt=0\n",
    "for i in range(10000):\n",
    "    if(preds[i] != y_test[i]):\n",
    "        plt.imshow(X_test[i], 'gray')\n",
    "        cnt+=1\n",
    "        print(\"Real class\", y_test[i], \"predicted class\", preds[i],\"error:\",cnt)"
   ]
  },
  {
   "cell_type": "markdown",
   "metadata": {},
   "source": [
    "### Introducing regularization"
   ]
  },
  {
   "cell_type": "markdown",
   "metadata": {},
   "source": [
    "Regularization can help improve the performance of a network, specially when the number of network parameters becomes large and this leads to better performance in training data than in test data, which is to say, overfitting. One of the most simple and effective ways of doing so is by using **dropout**. In Keras dropout is imposed on a layer by adding a **Dropout** layer just after the activation layer in which we wish to impose regularization. For instance, to create a dropout layer of a 30% probability of dropping an input unit we write"
   ]
  },
  {
   "cell_type": "code",
   "execution_count": 57,
   "metadata": {
    "collapsed": false
   },
   "outputs": [
    {
     "data": {
      "text/plain": [
       "<keras.layers.core.Dropout at 0x7f9b5893dfd0>"
      ]
     },
     "execution_count": 57,
     "metadata": {},
     "output_type": "execute_result"
    }
   ],
   "source": [
    "from keras.layers.core import Dropout\n",
    "Dropout(0.3)"
   ]
  },
  {
   "cell_type": "markdown",
   "metadata": {},
   "source": [
    "We would just need to add this layer to the model to produce the dropout effect."
   ]
  },
  {
   "cell_type": "markdown",
   "metadata": {},
   "source": [
    "<table>\n",
    " <tr><td><img src=\"img/question.png\" style=\"width:80px;height:80px;\"></td><td>\n",
    "Define a new network with two hidden layers, each of 512 hidden units with rectified linear activation. Both hidden layers should have a Dropout of 40%. For the output use the softmax activation. Compile the defined network, choosing \"adam\" as the optimization algorithm, and train it with the data. Then measure the accuracy over the test data. Has dropout helped?\n",
    " </td></tr>\n",
    "</table>"
   ]
  },
  {
   "cell_type": "code",
   "execution_count": 58,
   "metadata": {
    "collapsed": false,
    "scrolled": true
   },
   "outputs": [
    {
     "name": "stdout",
     "output_type": "stream",
     "text": [
      "Epoch 1/20\n",
      "11s - loss: 0.2728 - acc: 0.9172\n",
      "Epoch 2/20\n",
      "10s - loss: 0.1172 - acc: 0.9640\n",
      "Epoch 3/20\n",
      "10s - loss: 0.0861 - acc: 0.9726\n",
      "Epoch 4/20\n",
      "10s - loss: 0.0702 - acc: 0.9773\n",
      "Epoch 5/20\n",
      "10s - loss: 0.0584 - acc: 0.9811\n",
      "Epoch 6/20\n",
      "11s - loss: 0.0486 - acc: 0.9844\n",
      "Epoch 7/20\n",
      "10s - loss: 0.0445 - acc: 0.9854\n",
      "Epoch 8/20\n",
      "10s - loss: 0.0402 - acc: 0.9865\n",
      "Epoch 9/20\n",
      "10s - loss: 0.0367 - acc: 0.9877\n",
      "Epoch 10/20\n",
      "10s - loss: 0.0352 - acc: 0.9885\n",
      "Epoch 11/20\n",
      "10s - loss: 0.0308 - acc: 0.9898\n",
      "Epoch 12/20\n",
      "11s - loss: 0.0309 - acc: 0.9900\n",
      "Epoch 13/20\n",
      "11s - loss: 0.0281 - acc: 0.9907\n",
      "Epoch 14/20\n",
      "10s - loss: 0.0254 - acc: 0.9918\n",
      "Epoch 15/20\n",
      "12s - loss: 0.0263 - acc: 0.9914\n",
      "Epoch 16/20\n",
      "10s - loss: 0.0263 - acc: 0.9911\n",
      "Epoch 17/20\n",
      "10s - loss: 0.0234 - acc: 0.9927\n",
      "Epoch 18/20\n",
      "10s - loss: 0.0233 - acc: 0.9921\n",
      "Epoch 19/20\n",
      "10s - loss: 0.0225 - acc: 0.9924\n",
      "Epoch 20/20\n",
      "10s - loss: 0.0219 - acc: 0.9927\n"
     ]
    },
    {
     "data": {
      "text/plain": [
       "<keras.callbacks.History at 0x7f9b5879da58>"
      ]
     },
     "execution_count": 58,
     "metadata": {},
     "output_type": "execute_result"
    }
   ],
   "source": [
    "model = Sequential()\n",
    "model.add(Dense(512, input_shape=(784,)))\n",
    "model.add(Activation('relu'))\n",
    "model.add(Dropout(0.3))\n",
    "model.add(Dense(512))\n",
    "model.add(Activation('relu'))\n",
    "model.add(Dropout(0.3))\n",
    "model.add(Dense(10))\n",
    "model.add(Activation('softmax'))\n",
    "\n",
    "model.compile(loss='categorical_crossentropy', optimizer='adam', metrics=['accuracy'])\n",
    "\n",
    "model.fit(\n",
    "    trainvectors, # Training data\n",
    "    Y_train, # Labels of training data\n",
    "    batch_size=128, # Batch size for the optimizer algorithm\n",
    "    nb_epoch=20, # Number of epochs to run the optimizer algorithm\n",
    "    verbose=2 # Level of verbosity of the log messages\n",
    ")\n",
    "\n"
   ]
  },
  {
   "cell_type": "code",
   "execution_count": 59,
   "metadata": {
    "collapsed": false
   },
   "outputs": [
    {
     "name": "stdout",
     "output_type": "stream",
     "text": [
      "10000/10000 [==============================] - 1s     \n",
      "10000/10000 [==============================] - 1s     \n",
      "Test loss 0.0705254249118\n",
      "Test accuracy 0.9831\n",
      "Real class 4 predicted class 9 error: 1\n",
      "Real class 2 predicted class 9 error: 2\n",
      "Real class 4 predicted class 2 error: 3\n",
      "Real class 2 predicted class 7 error: 4\n",
      "Real class 5 predicted class 3 error: 5\n",
      "Real class 6 predicted class 0 error: 6\n",
      "Real class 4 predicted class 9 error: 7\n",
      "Real class 3 predicted class 5 error: 8\n",
      "Real class 8 predicted class 0 error: 9\n",
      "Real class 8 predicted class 2 error: 10\n",
      "Real class 1 predicted class 8 error: 11\n",
      "Real class 5 predicted class 8 error: 12\n",
      "Real class 4 predicted class 9 error: 13\n",
      "Real class 8 predicted class 6 error: 14\n",
      "Real class 8 predicted class 9 error: 15\n",
      "Real class 5 predicted class 4 error: 16\n",
      "Real class 6 predicted class 5 error: 17\n",
      "Real class 7 predicted class 2 error: 18\n",
      "Real class 4 predicted class 6 error: 19\n",
      "Real class 7 predicted class 8 error: 20\n",
      "Real class 7 predicted class 2 error: 21\n",
      "Real class 4 predicted class 9 error: 22\n",
      "Real class 9 predicted class 5 error: 23\n",
      "Real class 7 predicted class 1 error: 24\n",
      "Real class 4 predicted class 9 error: 25\n",
      "Real class 8 predicted class 0 error: 26\n",
      "Real class 7 predicted class 9 error: 27\n",
      "Real class 5 predicted class 3 error: 28\n",
      "Real class 8 predicted class 4 error: 29\n",
      "Real class 5 predicted class 3 error: 30\n",
      "Real class 8 predicted class 7 error: 31\n",
      "Real class 4 predicted class 6 error: 32\n",
      "Real class 9 predicted class 3 error: 33\n",
      "Real class 2 predicted class 6 error: 34\n",
      "Real class 3 predicted class 7 error: 35\n",
      "Real class 8 predicted class 0 error: 36\n",
      "Real class 4 predicted class 2 error: 37\n",
      "Real class 2 predicted class 8 error: 38\n",
      "Real class 9 predicted class 4 error: 39\n",
      "Real class 7 predicted class 2 error: 40\n",
      "Real class 8 predicted class 2 error: 41\n",
      "Real class 8 predicted class 3 error: 42\n",
      "Real class 5 predicted class 3 error: 43\n",
      "Real class 4 predicted class 9 error: 44\n",
      "Real class 5 predicted class 0 error: 45\n",
      "Real class 3 predicted class 7 error: 46\n",
      "Real class 4 predicted class 9 error: 47\n",
      "Real class 6 predicted class 1 error: 48\n",
      "Real class 1 predicted class 2 error: 49\n",
      "Real class 5 predicted class 6 error: 50\n",
      "Real class 8 predicted class 0 error: 51\n",
      "Real class 5 predicted class 3 error: 52\n",
      "Real class 9 predicted class 6 error: 53\n",
      "Real class 9 predicted class 1 error: 54\n",
      "Real class 8 predicted class 3 error: 55\n",
      "Real class 3 predicted class 2 error: 56\n",
      "Real class 4 predicted class 9 error: 57\n",
      "Real class 2 predicted class 4 error: 58\n",
      "Real class 5 predicted class 3 error: 59\n",
      "Real class 7 predicted class 2 error: 60\n",
      "Real class 9 predicted class 0 error: 61\n",
      "Real class 6 predicted class 1 error: 62\n",
      "Real class 5 predicted class 3 error: 63\n",
      "Real class 8 predicted class 0 error: 64\n",
      "Real class 3 predicted class 2 error: 65\n",
      "Real class 3 predicted class 2 error: 66\n",
      "Real class 9 predicted class 7 error: 67\n",
      "Real class 3 predicted class 5 error: 68\n",
      "Real class 8 predicted class 5 error: 69\n",
      "Real class 1 predicted class 2 error: 70\n",
      "Real class 5 predicted class 9 error: 71\n",
      "Real class 8 predicted class 3 error: 72\n",
      "Real class 7 predicted class 9 error: 73\n",
      "Real class 8 predicted class 2 error: 74\n",
      "Real class 8 predicted class 9 error: 75\n",
      "Real class 4 predicted class 9 error: 76\n",
      "Real class 6 predicted class 0 error: 77\n",
      "Real class 4 predicted class 9 error: 78\n",
      "Real class 9 predicted class 1 error: 79\n",
      "Real class 6 predicted class 4 error: 80\n",
      "Real class 3 predicted class 2 error: 81\n",
      "Real class 5 predicted class 0 error: 82\n",
      "Real class 5 predicted class 6 error: 83\n",
      "Real class 8 predicted class 5 error: 84\n",
      "Real class 9 predicted class 3 error: 85\n",
      "Real class 8 predicted class 3 error: 86\n",
      "Real class 7 predicted class 2 error: 87\n",
      "Real class 5 predicted class 8 error: 88\n",
      "Real class 4 predicted class 6 error: 89\n",
      "Real class 7 predicted class 3 error: 90\n",
      "Real class 8 predicted class 3 error: 91\n",
      "Real class 1 predicted class 2 error: 92\n",
      "Real class 4 predicted class 6 error: 93\n",
      "Real class 3 predicted class 5 error: 94\n",
      "Real class 7 predicted class 1 error: 95\n",
      "Real class 0 predicted class 2 error: 96\n",
      "Real class 8 predicted class 6 error: 97\n",
      "Real class 8 predicted class 2 error: 98\n",
      "Real class 9 predicted class 0 error: 99\n",
      "Real class 2 predicted class 7 error: 100\n",
      "Real class 7 predicted class 9 error: 101\n",
      "Real class 1 predicted class 7 error: 102\n",
      "Real class 2 predicted class 6 error: 103\n",
      "Real class 9 predicted class 7 error: 104\n",
      "Real class 2 predicted class 8 error: 105\n",
      "Real class 5 predicted class 3 error: 106\n",
      "Real class 2 predicted class 7 error: 107\n",
      "Real class 9 predicted class 5 error: 108\n",
      "Real class 5 predicted class 3 error: 109\n",
      "Real class 4 predicted class 9 error: 110\n",
      "Real class 3 predicted class 2 error: 111\n",
      "Real class 8 predicted class 7 error: 112\n",
      "Real class 8 predicted class 9 error: 113\n",
      "Real class 8 predicted class 3 error: 114\n",
      "Real class 8 predicted class 0 error: 115\n",
      "Real class 9 predicted class 4 error: 116\n",
      "Real class 8 predicted class 6 error: 117\n",
      "Real class 8 predicted class 3 error: 118\n",
      "Real class 8 predicted class 5 error: 119\n",
      "Real class 1 predicted class 6 error: 120\n",
      "Real class 8 predicted class 0 error: 121\n",
      "Real class 4 predicted class 1 error: 122\n",
      "Real class 8 predicted class 5 error: 123\n",
      "Real class 7 predicted class 0 error: 124\n",
      "Real class 5 predicted class 3 error: 125\n",
      "Real class 4 predicted class 9 error: 126\n",
      "Real class 5 predicted class 3 error: 127\n",
      "Real class 3 predicted class 8 error: 128\n",
      "Real class 3 predicted class 8 error: 129\n",
      "Real class 5 predicted class 9 error: 130\n",
      "Real class 8 predicted class 3 error: 131\n",
      "Real class 3 predicted class 9 error: 132\n",
      "Real class 9 predicted class 3 error: 133\n",
      "Real class 8 predicted class 9 error: 134\n",
      "Real class 0 predicted class 7 error: 135\n",
      "Real class 5 predicted class 3 error: 136\n",
      "Real class 8 predicted class 4 error: 137\n",
      "Real class 8 predicted class 5 error: 138\n",
      "Real class 0 predicted class 5 error: 139\n",
      "Real class 8 predicted class 9 error: 140\n",
      "Real class 1 predicted class 6 error: 141\n",
      "Real class 8 predicted class 9 error: 142\n",
      "Real class 8 predicted class 3 error: 143\n",
      "Real class 8 predicted class 3 error: 144\n",
      "Real class 1 predicted class 0 error: 145\n",
      "Real class 3 predicted class 9 error: 146\n",
      "Real class 4 predicted class 7 error: 147\n",
      "Real class 6 predicted class 4 error: 148\n",
      "Real class 0 predicted class 6 error: 149\n",
      "Real class 8 predicted class 6 error: 150\n",
      "Real class 5 predicted class 3 error: 151\n",
      "Real class 4 predicted class 9 error: 152\n",
      "Real class 7 predicted class 2 error: 153\n",
      "Real class 7 predicted class 2 error: 154\n",
      "Real class 7 predicted class 2 error: 155\n",
      "Real class 8 predicted class 5 error: 156\n",
      "Real class 5 predicted class 3 error: 157\n",
      "Real class 9 predicted class 4 error: 158\n",
      "Real class 2 predicted class 7 error: 159\n",
      "Real class 4 predicted class 7 error: 160\n",
      "Real class 6 predicted class 3 error: 161\n",
      "Real class 5 predicted class 6 error: 162\n",
      "Real class 4 predicted class 2 error: 163\n",
      "Real class 8 predicted class 5 error: 164\n",
      "Real class 2 predicted class 0 error: 165\n",
      "Real class 5 predicted class 0 error: 166\n",
      "Real class 2 predicted class 3 error: 167\n",
      "Real class 6 predicted class 0 error: 168\n",
      "Real class 3 predicted class 8 error: 169\n"
     ]
    },
    {
     "data": {
      "image/png": "[encoded data removed]",
      "text/plain": [
       "<matplotlib.figure.Figure at 0x7f9b581e9240>"
      ]
     },
     "metadata": {},
     "output_type": "display_data"
    }
   ],
   "source": [
    "preds = model.predict_classes(testvectors)\n",
    "\n",
    "score = model.evaluate(testvectors, Y_test)\n",
    "print(\"Test loss\", score[0])\n",
    "print(\"Test accuracy\", score[1])\n",
    "\n",
    "cnt=0\n",
    "for i in range(10000):\n",
    "    if(preds[i] != y_test[i]):\n",
    "        plt.imshow(X_test[i], 'gray')\n",
    "        cnt+=1\n",
    "        print(\"Real class\", y_test[i], \"predicted class\", preds[i],\"error:\",cnt)"
   ]
  },
  {
   "cell_type": "markdown",
   "metadata": {},
   "source": [
    "<table>\n",
    " <tr><td><img src=\"img/question.png\" style=\"width:80px;height:80px;\"></td><td>\n",
    "Try training a network with more hidden layers. Does the performance improve in any way by doing this?\n",
    " </td></tr>\n",
    "</table>"
   ]
  },
  {
   "cell_type": "code",
   "execution_count": 60,
   "metadata": {
    "collapsed": false,
    "scrolled": true
   },
   "outputs": [
    {
     "name": "stdout",
     "output_type": "stream",
     "text": [
      "Epoch 1/20\n",
      "20s - loss: 0.4952 - acc: 0.8420\n",
      "Epoch 2/20\n",
      "18s - loss: 0.2144 - acc: 0.9398\n",
      "Epoch 3/20\n",
      "18s - loss: 0.1755 - acc: 0.9510\n",
      "Epoch 4/20\n",
      "19s - loss: 0.1539 - acc: 0.9570\n",
      "Epoch 5/20\n",
      "19s - loss: 0.1359 - acc: 0.9621\n",
      "Epoch 6/20\n",
      "19s - loss: 0.1230 - acc: 0.9656\n",
      "Epoch 7/20\n",
      "19s - loss: 0.1203 - acc: 0.9670\n",
      "Epoch 8/20\n",
      "18s - loss: 0.1096 - acc: 0.9693\n",
      "Epoch 9/20\n",
      "19s - loss: 0.1067 - acc: 0.9701\n",
      "Epoch 10/20\n",
      "18s - loss: 0.0999 - acc: 0.9723\n",
      "Epoch 11/20\n",
      "19s - loss: 0.0981 - acc: 0.9723\n",
      "Epoch 12/20\n",
      "19s - loss: 0.0923 - acc: 0.9748\n",
      "Epoch 13/20\n",
      "19s - loss: 0.0883 - acc: 0.9749\n",
      "Epoch 14/20\n",
      "19s - loss: 0.0849 - acc: 0.9766\n",
      "Epoch 15/20\n",
      "19s - loss: 0.0861 - acc: 0.9755\n",
      "Epoch 16/20\n",
      "19s - loss: 0.0825 - acc: 0.9771\n",
      "Epoch 17/20\n",
      "19s - loss: 0.0805 - acc: 0.9782\n",
      "Epoch 18/20\n",
      "18s - loss: 0.0802 - acc: 0.9785\n",
      "Epoch 19/20\n",
      "19s - loss: 0.0785 - acc: 0.9787\n",
      "Epoch 20/20\n",
      "20s - loss: 0.0782 - acc: 0.9797\n",
      " 9984/10000 [============================>.] - ETA: 0sTest loss 0.0700607856973\n",
      "Test accuracy 0.9837\n",
      "Real class 4 predicted class 2 error: 1\n",
      "Real class 2 predicted class 7 error: 2\n",
      "Real class 3 predicted class 7 error: 3\n",
      "Real class 6 predicted class 0 error: 4\n",
      "Real class 3 predicted class 5 error: 5\n",
      "Real class 8 predicted class 2 error: 6\n",
      "Real class 8 predicted class 2 error: 7\n",
      "Real class 8 predicted class 4 error: 8\n",
      "Real class 4 predicted class 9 error: 9\n",
      "Real class 5 predicted class 8 error: 10\n",
      "Real class 4 predicted class 9 error: 11\n",
      "Real class 8 predicted class 7 error: 12\n",
      "Real class 2 predicted class 7 error: 13\n",
      "Real class 8 predicted class 9 error: 14\n",
      "Real class 5 predicted class 4 error: 15\n",
      "Real class 6 predicted class 5 error: 16\n",
      "Real class 4 predicted class 6 error: 17\n",
      "Real class 7 predicted class 8 error: 18\n",
      "Real class 3 predicted class 5 error: 19\n",
      "Real class 6 predicted class 5 error: 20\n",
      "Real class 7 predicted class 2 error: 21\n",
      "Real class 9 predicted class 4 error: 22\n",
      "Real class 4 predicted class 9 error: 23\n",
      "Real class 9 predicted class 5 error: 24\n",
      "Real class 7 predicted class 1 error: 25\n",
      "Real class 8 predicted class 3 error: 26\n",
      "Real class 7 predicted class 9 error: 27\n",
      "Real class 8 predicted class 1 error: 28\n",
      "Real class 0 predicted class 6 error: 29\n",
      "Real class 7 predicted class 9 error: 30\n",
      "Real class 8 predicted class 7 error: 31\n",
      "Real class 4 predicted class 6 error: 32\n",
      "Real class 9 predicted class 5 error: 33\n",
      "Real class 0 predicted class 6 error: 34\n",
      "Real class 3 predicted class 7 error: 35\n",
      "Real class 7 predicted class 2 error: 36\n",
      "Real class 2 predicted class 8 error: 37\n",
      "Real class 3 predicted class 7 error: 38\n",
      "Real class 9 predicted class 4 error: 39\n",
      "Real class 8 predicted class 9 error: 40\n",
      "Real class 4 predicted class 9 error: 41\n",
      "Real class 2 predicted class 0 error: 42\n",
      "Real class 3 predicted class 7 error: 43\n",
      "Real class 4 predicted class 9 error: 44\n",
      "Real class 6 predicted class 1 error: 45\n",
      "Real class 5 predicted class 6 error: 46\n",
      "Real class 1 predicted class 2 error: 47\n",
      "Real class 5 predicted class 6 error: 48\n",
      "Real class 9 predicted class 6 error: 49\n",
      "Real class 9 predicted class 1 error: 50\n",
      "Real class 2 predicted class 4 error: 51\n",
      "Real class 9 predicted class 0 error: 52\n",
      "Real class 6 predicted class 1 error: 53\n",
      "Real class 9 predicted class 4 error: 54\n",
      "Real class 3 predicted class 7 error: 55\n",
      "Real class 4 predicted class 7 error: 56\n",
      "Real class 3 predicted class 2 error: 57\n",
      "Real class 3 predicted class 2 error: 58\n",
      "Real class 9 predicted class 7 error: 59\n",
      "Real class 3 predicted class 5 error: 60\n",
      "Real class 8 predicted class 5 error: 61\n",
      "Real class 6 predicted class 8 error: 62\n",
      "Real class 1 predicted class 2 error: 63\n",
      "Real class 5 predicted class 9 error: 64\n",
      "Real class 7 predicted class 9 error: 65\n",
      "Real class 6 predicted class 0 error: 66\n",
      "Real class 3 predicted class 7 error: 67\n",
      "Real class 4 predicted class 9 error: 68\n",
      "Real class 9 predicted class 1 error: 69\n",
      "Real class 6 predicted class 4 error: 70\n",
      "Real class 3 predicted class 2 error: 71\n",
      "Real class 5 predicted class 0 error: 72\n",
      "Real class 8 predicted class 5 error: 73\n",
      "Real class 9 predicted class 3 error: 74\n",
      "Real class 4 predicted class 9 error: 75\n",
      "Real class 7 predicted class 2 error: 76\n",
      "Real class 5 predicted class 8 error: 77\n",
      "Real class 4 predicted class 6 error: 78\n",
      "Real class 7 predicted class 8 error: 79\n",
      "Real class 0 predicted class 6 error: 80\n",
      "Real class 6 predicted class 0 error: 81\n",
      "Real class 9 predicted class 4 error: 82\n",
      "Real class 1 predicted class 2 error: 83\n",
      "Real class 4 predicted class 6 error: 84\n",
      "Real class 9 predicted class 4 error: 85\n",
      "Real class 9 predicted class 4 error: 86\n",
      "Real class 0 predicted class 2 error: 87\n",
      "Real class 8 predicted class 3 error: 88\n",
      "Real class 9 predicted class 8 error: 89\n",
      "Real class 2 predicted class 7 error: 90\n",
      "Real class 9 predicted class 7 error: 91\n",
      "Real class 2 predicted class 8 error: 92\n",
      "Real class 2 predicted class 7 error: 93\n",
      "Real class 9 predicted class 7 error: 94\n",
      "Real class 5 predicted class 3 error: 95\n",
      "Real class 8 predicted class 7 error: 96\n",
      "Real class 6 predicted class 5 error: 97\n",
      "Real class 4 predicted class 9 error: 98\n",
      "Real class 8 predicted class 4 error: 99\n",
      "Real class 8 predicted class 9 error: 100\n",
      "Real class 8 predicted class 7 error: 101\n",
      "Real class 3 predicted class 5 error: 102\n",
      "Real class 8 predicted class 3 error: 103\n",
      "Real class 9 predicted class 4 error: 104\n",
      "Real class 2 predicted class 4 error: 105\n",
      "Real class 8 predicted class 6 error: 106\n",
      "Real class 0 predicted class 8 error: 107\n",
      "Real class 8 predicted class 2 error: 108\n",
      "Real class 8 predicted class 4 error: 109\n",
      "Real class 7 predicted class 9 error: 110\n",
      "Real class 3 predicted class 5 error: 111\n",
      "Real class 3 predicted class 5 error: 112\n",
      "Real class 1 predicted class 6 error: 113\n",
      "Real class 1 predicted class 8 error: 114\n",
      "Real class 3 predicted class 5 error: 115\n",
      "Real class 1 predicted class 5 error: 116\n",
      "Real class 4 predicted class 7 error: 117\n",
      "Real class 3 predicted class 7 error: 118\n",
      "Real class 4 predicted class 9 error: 119\n",
      "Real class 5 predicted class 3 error: 120\n",
      "Real class 3 predicted class 8 error: 121\n",
      "Real class 3 predicted class 8 error: 122\n",
      "Real class 3 predicted class 5 error: 123\n",
      "Real class 3 predicted class 9 error: 124\n",
      "Real class 3 predicted class 8 error: 125\n",
      "Real class 9 predicted class 3 error: 126\n",
      "Real class 8 predicted class 9 error: 127\n",
      "Real class 9 predicted class 8 error: 128\n",
      "Real class 9 predicted class 7 error: 129\n",
      "Real class 2 predicted class 6 error: 130\n",
      "Real class 0 predicted class 7 error: 131\n",
      "Real class 8 predicted class 4 error: 132\n",
      "Real class 0 predicted class 5 error: 133\n",
      "Real class 8 predicted class 7 error: 134\n",
      "Real class 1 predicted class 6 error: 135\n",
      "Real class 6 predicted class 4 error: 136\n",
      "Real class 0 predicted class 5 error: 137\n",
      "Real class 4 predicted class 8 error: 138\n",
      "Real class 2 predicted class 7 error: 139\n",
      "Real class 8 predicted class 2 error: 140\n",
      "Real class 2 predicted class 8 error: 141\n",
      "Real class 1 predicted class 6 error: 142\n",
      "Real class 3 predicted class 9 error: 143\n",
      "Real class 3 predicted class 9 error: 144\n",
      "Real class 0 predicted class 6 error: 145\n",
      "Real class 8 predicted class 5 error: 146\n",
      "Real class 4 predicted class 9 error: 147\n",
      "Real class 7 predicted class 2 error: 148\n",
      "Real class 7 predicted class 2 error: 149\n",
      "Real class 7 predicted class 2 error: 150\n",
      "Real class 8 predicted class 5 error: 151\n",
      "Real class 9 predicted class 4 error: 152\n",
      "Real class 0 predicted class 1 error: 153\n",
      "Real class 2 predicted class 7 error: 154\n",
      "Real class 6 predicted class 5 error: 155\n",
      "Real class 2 predicted class 8 error: 156\n",
      "Real class 5 predicted class 6 error: 157\n",
      "Real class 5 predicted class 6 error: 158\n",
      "Real class 8 predicted class 5 error: 159\n",
      "Real class 2 predicted class 0 error: 160\n",
      "Real class 5 predicted class 0 error: 161\n",
      "Real class 9 predicted class 4 error: 162\n",
      "Real class 2 predicted class 3 error: 163\n"
     ]
    },
    {
     "data": {
      "image/png": "[encoded data removed]",
      "text/plain": [
       "<matplotlib.figure.Figure at 0x7f9b379a2e48>"
      ]
     },
     "metadata": {},
     "output_type": "display_data"
    }
   ],
   "source": [
    "model=Sequential()\n",
    "\n",
    "model.add(Dense(512, input_shape=(784,)))\n",
    "\n",
    "model.add(Activation('relu'))\n",
    "model.add(Dropout(0.5))\n",
    "\n",
    "model.add(Dense(512))\n",
    "model.add(Activation('relu'))\n",
    "model.add(Dropout(0.5))\n",
    "\n",
    "model.add(Dense(512))\n",
    "model.add(Activation('relu'))\n",
    "model.add(Dropout(0.5))\n",
    "\n",
    "model.add(Dense(512))\n",
    "model.add(Activation('relu'))\n",
    "model.add(Dropout(0.5))\n",
    "\n",
    "model.add(Dense(10))\n",
    "model.add(Activation('softmax'))\n",
    "\n",
    "model.compile(loss='categorical_crossentropy', optimizer='adam', metrics=['accuracy'])\n",
    "\n",
    "model.fit(\n",
    "    trainvectors, # Training data\n",
    "    Y_train, # Labels of training data\n",
    "    batch_size=128, # Batch size for the optimizer algorithm\n",
    "    nb_epoch=20, # Number of epochs to run the optimizer algorithm\n",
    "    verbose=2 # Level of verbosity of the log messages\n",
    ")\n",
    "\n",
    "preds = model.predict_classes(testvectors)\n",
    "\n",
    "score = model.evaluate(testvectors, Y_test)\n",
    "print(\"Test loss\", score[0])\n",
    "print(\"Test accuracy\", score[1])\n",
    "\n",
    "cnt=0\n",
    "for i in range(10000):\n",
    "    if(preds[i] != y_test[i]):\n",
    "        plt.imshow(X_test[i], 'gray')\n",
    "        cnt+=1\n",
    "        print(\"Real class\", y_test[i], \"predicted class\", preds[i],\"error:\",cnt)"
   ]
  },
  {
   "cell_type": "code",
   "execution_count": null,
   "metadata": {
    "collapsed": true
   },
   "outputs": [],
   "source": []
  },
  {
   "cell_type": "markdown",
   "metadata": {},
   "source": [
    "## Convolutional Neural Networks"
   ]
  },
  {
   "cell_type": "markdown",
   "metadata": {},
   "source": [
    "To further improve on this image recognition problem we need network layers that do consider the data as images, and take into account closeness of pixels to make decisions instead of just throwing all pixel data into a fully connected network and expect intelligence to emerge from chaos. **Convolutional** and **Pooling** layers are the best way to do so."
   ]
  },
  {
   "cell_type": "markdown",
   "metadata": {},
   "source": [
    "### Formatting the data as tensors"
   ]
  },
  {
   "cell_type": "markdown",
   "metadata": {},
   "source": [
    "While for the perceptrons above we vectorized the data to fit into the perceptron framework, for convolutional networks we will need to shape the data in the form of a **4-dimensional tensor**. The dimensions of such tensor represent the following:\n",
    "* Image index (e.g. 3th image in the dataset)\n",
    "* Row index\n",
    "* Column index\n",
    "* Channel index (e.g. colour channel in colored images)"
   ]
  },
  {
   "cell_type": "markdown",
   "metadata": {},
   "source": [
    "We again make use of the reshape function to perform this transformation. We have 60000 images in our training set, and those images have 28 rows x 28 columns. Since these images are grayscale, the channel dimension only contains one channel:"
   ]
  },
  {
   "cell_type": "code",
   "execution_count": 61,
   "metadata": {
    "collapsed": false
   },
   "outputs": [],
   "source": [
    "traintensor = X_train.reshape(60000, 28, 28, 1)"
   ]
  },
  {
   "cell_type": "markdown",
   "metadata": {},
   "source": [
    "<table>\n",
    " <tr><td><img src=\"img/question.png\" style=\"width:80px;height:80px;\"></td><td>\n",
    "Repeat the transformation for the test data. Save the resulting tensor in a variable named *testtensor*.\n",
    " </td></tr>\n",
    "</table>"
   ]
  },
  {
   "cell_type": "code",
   "execution_count": 62,
   "metadata": {
    "collapsed": false
   },
   "outputs": [],
   "source": [
    "testtensor = X_test.reshape(10000, 28, 28, 1)"
   ]
  },
  {
   "cell_type": "markdown",
   "metadata": {},
   "source": [
    "### Convolution and pooling layers"
   ]
  },
  {
   "cell_type": "markdown",
   "metadata": {},
   "source": [
    "When defining a convolutional network, Convolution and Pooling layers work together. The most popular way of using these layers is in the following pattern:\n",
    "* A Convolution layer with rectified linear activations\n",
    "* A Pooling layer\n",
    "* Dropout (if regularization wants to be enforced)"
   ]
  },
  {
   "cell_type": "markdown",
   "metadata": {},
   "source": [
    "We can thus define a minimal convolutional network as"
   ]
  },
  {
   "cell_type": "code",
   "execution_count": 63,
   "metadata": {
    "collapsed": false
   },
   "outputs": [],
   "source": [
    "from keras.layers.convolutional import Convolution2D, MaxPooling2D\n",
    "\n",
    "img_rows = 28\n",
    "img_cols = 28\n",
    "kernel_size = 3 # Size of the kernel for the convolution layers\n",
    "pool_size = 2 # Size of the pooling region for the pooling layers\n",
    "\n",
    "model = Sequential()\n",
    "\n",
    "model.add(Convolution2D(32, # Number convolution channels to generate\n",
    "                        kernel_size, kernel_size, # Size of convolution kernels\n",
    "                        border_mode='valid', # Strategy to deal with borders\n",
    "                        input_shape=(img_rows, img_cols, 1))) # Size = image rows x image columns x channels\n",
    "model.add(Activation('relu'))\n",
    "model.add(MaxPooling2D(pool_size=(pool_size, pool_size)))\n",
    "model.add(Dropout(0.25))"
   ]
  },
  {
   "cell_type": "markdown",
   "metadata": {},
   "source": [
    "There is an issue, though: at some point we need to transform the tensor data into a vector, as the output of the network should be a vector of 10 values, representing class probabilities. We can do this by using a **Flatten** layer. Then we can add a standard Dense layer to produce the outputs:"
   ]
  },
  {
   "cell_type": "code",
   "execution_count": 64,
   "metadata": {
    "collapsed": false
   },
   "outputs": [],
   "source": [
    "from keras.layers.core import Flatten\n",
    "model.add(Flatten())\n",
    "model.add(Dense(10))\n",
    "model.add(Activation('softmax'))"
   ]
  },
  {
   "cell_type": "markdown",
   "metadata": {},
   "source": [
    "<table>\n",
    " <tr><td><img src=\"img/question.png\" style=\"width:80px;height:80px;\"></td><td>\n",
    "Compile the defined network, choosing \"adam\" as the optimization algorithm, and train it with the data. Use the tensor data you prepared above, not the vectorized data. Then measure the accuracy over the test data. Have the Convolution and MaxPooling helped?\n",
    " </td></tr>\n",
    "</table>"
   ]
  },
  {
   "cell_type": "code",
   "execution_count": 65,
   "metadata": {
    "collapsed": false,
    "scrolled": true
   },
   "outputs": [],
   "source": [
    "model.compile(loss='categorical_crossentropy', optimizer='adam', metrics=['accuracy'])\n",
    "\n"
   ]
  },
  {
   "cell_type": "code",
   "execution_count": 66,
   "metadata": {
    "collapsed": false
   },
   "outputs": [
    {
     "data": {
      "text/plain": [
       "(60000, 28, 28, 1)"
      ]
     },
     "execution_count": 66,
     "metadata": {},
     "output_type": "execute_result"
    }
   ],
   "source": [
    "traintensor.shape"
   ]
  },
  {
   "cell_type": "code",
   "execution_count": 68,
   "metadata": {
    "collapsed": false,
    "scrolled": true
   },
   "outputs": [
    {
     "name": "stdout",
     "output_type": "stream",
     "text": [
      "Epoch 1/20\n",
      "23s - loss: 0.0520 - acc: 0.9846\n",
      "Epoch 2/20\n",
      "24s - loss: 0.0497 - acc: 0.9846\n",
      "Epoch 3/20\n",
      "22s - loss: 0.0473 - acc: 0.9852\n",
      "Epoch 4/20\n",
      "22s - loss: 0.0446 - acc: 0.9860\n",
      "Epoch 5/20\n",
      "22s - loss: 0.0436 - acc: 0.9867\n",
      "Epoch 6/20\n",
      "23s - loss: 0.0414 - acc: 0.9869\n",
      "Epoch 7/20\n",
      "22s - loss: 0.0394 - acc: 0.9873\n",
      "Epoch 8/20\n",
      "22s - loss: 0.0382 - acc: 0.9880\n",
      "Epoch 9/20\n",
      "22s - loss: 0.0368 - acc: 0.9878\n",
      "Epoch 10/20\n",
      "24s - loss: 0.0339 - acc: 0.9888\n",
      "Epoch 11/20\n",
      "25s - loss: 0.0338 - acc: 0.9891\n",
      "Epoch 12/20\n",
      "22s - loss: 0.0313 - acc: 0.9897\n",
      "Epoch 13/20\n",
      "22s - loss: 0.0311 - acc: 0.9897\n",
      "Epoch 14/20\n",
      "22s - loss: 0.0297 - acc: 0.9905\n",
      "Epoch 15/20\n",
      "22s - loss: 0.0289 - acc: 0.9905\n",
      "Epoch 16/20\n",
      "22s - loss: 0.0280 - acc: 0.9908\n",
      "Epoch 17/20\n",
      "24s - loss: 0.0263 - acc: 0.9913\n",
      "Epoch 18/20\n",
      "25s - loss: 0.0254 - acc: 0.9915\n",
      "Epoch 19/20\n",
      "23s - loss: 0.0249 - acc: 0.9916\n",
      "Epoch 20/20\n",
      "24s - loss: 0.0239 - acc: 0.9922\n"
     ]
    },
    {
     "data": {
      "text/plain": [
       "<keras.callbacks.History at 0x7f9b3772bd68>"
      ]
     },
     "execution_count": 68,
     "metadata": {},
     "output_type": "execute_result"
    }
   ],
   "source": [
    "\n",
    "model.fit(\n",
    "    traintensor, # Training data\n",
    "    Y_train, # Labels of training data\n",
    "    batch_size=128, # Batch size for the optimizer algorithm\n",
    "    nb_epoch=20, # Number of epochs to run the optimizer algorithm\n",
    "    verbose=2 # Level of verbosity of the log messages\n",
    ")\n"
   ]
  },
  {
   "cell_type": "code",
   "execution_count": 69,
   "metadata": {
    "collapsed": false,
    "scrolled": false
   },
   "outputs": [
    {
     "name": "stdout",
     "output_type": "stream",
     "text": [
      " 9984/10000 [============================>.] - ETA: 0s"
     ]
    }
   ],
   "source": [
    "score=model.evaluate(testtensor,Y_test)"
   ]
  },
  {
   "cell_type": "code",
   "execution_count": 70,
   "metadata": {
    "collapsed": false
   },
   "outputs": [
    {
     "name": "stdout",
     "output_type": "stream",
     "text": [
      "Test loss 0.0499135800039\n",
      "Test accuracy 0.9851\n"
     ]
    }
   ],
   "source": [
    "print(\"Test loss\", score[0])\n",
    "print(\"Test accuracy\", score[1])\n"
   ]
  },
  {
   "cell_type": "markdown",
   "metadata": {},
   "source": [
    "<table>\n",
    " <tr><td><img src=\"img/question.png\" style=\"width:80px;height:80px;\"></td><td>\n",
    "Build and train a convolutional network with the following layers:\n",
    "<ul>\n",
    "     <li>A Convolution layer of 32 channels, kernel size 3 and rectified linear activation</li>\n",
    "     <li>Another Convolution layer of 32 channels, kernel size 3 and rectified linear activation</li>\n",
    "     <li>A MaxPooling layer of size 2</li>\n",
    "     <li>A 25% Dropout</li>\n",
    "     <li>A Flatten layer</li>\n",
    "     <li>A Dense layer with 128 units and rectified linear activation</li>\n",
    "     <li>A 50% Dropout</li>\n",
    "     <li>An output Dense layer with softmax activation</li>\n",
    "</ul>\n",
    "Has the added complexity improved the accuracy results?    \n",
    " </td></tr>\n",
    "</table>"
   ]
  },
  {
   "cell_type": "code",
   "execution_count": 71,
   "metadata": {
    "collapsed": false,
    "scrolled": true
   },
   "outputs": [],
   "source": [
    "img_rows = 28\n",
    "img_cols = 28\n",
    "kernel_size = 3 # Size of the kernel for the convolution layers\n",
    "pool_size = 2 # Size of the pooling region for the pooling layers\n",
    "\n",
    "model = Sequential()\n",
    "\n",
    "model.add(Convolution2D(32, # Number convolution channels to generate\n",
    "                        kernel_size, kernel_size, # Size of convolution kernels\n",
    "                        border_mode='valid', # Strategy to deal with borders\n",
    "                        input_shape=(img_rows, img_cols, 1))) # Size = image rows x image columns x channels\n",
    "model.add(Activation('relu'))\n",
    "\n",
    "model.add(Convolution2D(32, # Number convolution channels to generate\n",
    "                        kernel_size, kernel_size, # Size of convolution kernels\n",
    "                        border_mode='valid', # Strategy to deal with borders\n",
    "                        input_shape=(img_rows, img_cols, 1))) # Size = image rows x image columns x channels\n",
    "model.add(Activation('relu'))\n",
    "model.add(MaxPooling2D(pool_size=(pool_size, pool_size)))\n",
    "model.add(Dropout(0.25))\n",
    "model.add(Flatten())\n",
    "model.add(Dense(128))\n",
    "model.add(Activation('relu'))\n",
    "model.add(Dropout(0.5))\n",
    "model.add(Dense(10))\n",
    "model.add(Activation('softmax'))\n",
    "\n"
   ]
  },
  {
   "cell_type": "code",
   "execution_count": 72,
   "metadata": {
    "collapsed": true
   },
   "outputs": [],
   "source": [
    "model.compile(loss='categorical_crossentropy', optimizer='adam', metrics=['accuracy'])\n",
    "\n"
   ]
  },
  {
   "cell_type": "code",
   "execution_count": 73,
   "metadata": {
    "collapsed": false
   },
   "outputs": [
    {
     "name": "stdout",
     "output_type": "stream",
     "text": [
      "Epoch 1/20\n",
      "106s - loss: 0.2775 - acc: 0.9155\n",
      "Epoch 2/20\n",
      "103s - loss: 0.0972 - acc: 0.9710\n",
      "Epoch 3/20\n",
      "112s - loss: 0.0726 - acc: 0.9778\n",
      "Epoch 4/20\n",
      "111s - loss: 0.0603 - acc: 0.9819\n",
      "Epoch 5/20\n",
      "118s - loss: 0.0504 - acc: 0.9842\n",
      "Epoch 6/20\n",
      "107s - loss: 0.0445 - acc: 0.9864\n",
      "Epoch 7/20\n",
      "108s - loss: 0.0400 - acc: 0.9873\n",
      "Epoch 8/20\n",
      "108s - loss: 0.0359 - acc: 0.9890\n",
      "Epoch 9/20\n",
      "104s - loss: 0.0330 - acc: 0.9893\n",
      "Epoch 10/20\n",
      "105s - loss: 0.0323 - acc: 0.9893\n",
      "Epoch 11/20\n",
      "106s - loss: 0.0285 - acc: 0.9907\n",
      "Epoch 12/20\n",
      "103s - loss: 0.0262 - acc: 0.9915\n",
      "Epoch 13/20\n",
      "102s - loss: 0.0254 - acc: 0.9918\n",
      "Epoch 14/20\n",
      "103s - loss: 0.0230 - acc: 0.9925\n",
      "Epoch 15/20\n",
      "104s - loss: 0.0226 - acc: 0.9924\n",
      "Epoch 16/20\n",
      "103s - loss: 0.0219 - acc: 0.9923\n",
      "Epoch 17/20\n",
      "106s - loss: 0.0207 - acc: 0.9933\n",
      "Epoch 18/20\n",
      "107s - loss: 0.0187 - acc: 0.9939\n",
      "Epoch 19/20\n",
      "124s - loss: 0.0200 - acc: 0.9933\n",
      "Epoch 20/20\n",
      "130s - loss: 0.0186 - acc: 0.9939\n"
     ]
    },
    {
     "data": {
      "text/plain": [
       "<keras.callbacks.History at 0x7f9b5a4ed240>"
      ]
     },
     "execution_count": 73,
     "metadata": {},
     "output_type": "execute_result"
    }
   ],
   "source": [
    "model.fit(\n",
    "    traintensor, # Training data\n",
    "    Y_train, # Labels of training data\n",
    "    batch_size=128, # Batch size for the optimizer algorithm\n",
    "    nb_epoch=20, # Number of epochs to run the optimizer algorithm\n",
    "    verbose=2 # Level of verbosity of the log messages\n",
    ")\n",
    "\n"
   ]
  },
  {
   "cell_type": "markdown",
   "metadata": {},
   "source": [
    "## Final exercise: LeNet"
   ]
  },
  {
   "cell_type": "markdown",
   "metadata": {},
   "source": [
    "<a href=http://yann.lecun.com/exdb/lenet/>LeNet</a> is a particular convolutional neural network definition that has proven to be quite effective. As a final excercise we will build this network and try it on our digits problem."
   ]
  },
  {
   "cell_type": "markdown",
   "metadata": {},
   "source": [
    "<table>\n",
    " <tr><td><img src=\"img/question.png\" style=\"width:80px;height:80px;\"></td><td>\n",
    "Build and train a LeNet network, which is defined by the following layers:\n",
    "<ul>\n",
    "     <li>A Convolution layer of 20 channels, kernel size 5 and rectified linear activation</li>\n",
    "     <li>A MaxPooling layer of size 2 and stride 2 (check <a href=http://keras.io/layers/convolutional/>the docs</a>)</li>\n",
    "     <li>A 25% Dropout</li>\n",
    "     <li>A Convolution layer of 50 channels, kernel size 5 and rectified linear activation</li>\n",
    "     <li>A MaxPooling layer of size 2 and stride 2 (check <a href=http://keras.io/layers/convolutional/>the docs</a>)</li>\n",
    "     <li>A 25% Dropout</li>\n",
    "     <li>A Flatten layer</li>\n",
    "     <li>A Dense layer with 500 units and rectified linear activation</li>\n",
    "     <li>A 50% Dropout</li>\n",
    "     <li>An output Dense layer with softmax activation</li>\n",
    "</ul>\n",
    "Is this the best network so far for the problem?\n",
    " </td></tr>\n",
    "</table>"
   ]
  },
  {
   "cell_type": "code",
   "execution_count": null,
   "metadata": {
    "collapsed": false
   },
   "outputs": [],
   "source": [
    "Y_train.shape"
   ]
  },
  {
   "cell_type": "code",
   "execution_count": 74,
   "metadata": {
    "collapsed": false,
    "scrolled": true
   },
   "outputs": [
    {
     "name": "stdout",
     "output_type": "stream",
     "text": [
      "Epoch 1/20\n",
      "278s - loss: 0.2729 - acc: 0.9130\n",
      "Epoch 2/20\n",
      "47s - loss: 0.0846 - acc: 0.9745\n",
      "Epoch 3/20\n",
      "47s - loss: 0.0618 - acc: 0.9810\n",
      "Epoch 4/20\n",
      "47s - loss: 0.0512 - acc: 0.9845\n",
      "Epoch 5/20\n",
      "48s - loss: 0.0435 - acc: 0.9865\n",
      "Epoch 6/20\n",
      "46s - loss: 0.0391 - acc: 0.9879\n",
      "Epoch 7/20\n",
      "46s - loss: 0.0341 - acc: 0.9890\n",
      "Epoch 8/20\n",
      "46s - loss: 0.0319 - acc: 0.9896\n",
      "Epoch 9/20\n",
      "46s - loss: 0.0296 - acc: 0.9903\n",
      "Epoch 10/20\n",
      "46s - loss: 0.0288 - acc: 0.9913\n",
      "Epoch 11/20\n",
      "46s - loss: 0.0269 - acc: 0.9911\n",
      "Epoch 12/20\n",
      "47s - loss: 0.0249 - acc: 0.9919\n",
      "Epoch 13/20\n",
      "46s - loss: 0.0231 - acc: 0.9923\n",
      "Epoch 14/20\n",
      "46s - loss: 0.0221 - acc: 0.9926\n",
      "Epoch 15/20\n",
      "46s - loss: 0.0209 - acc: 0.9934\n",
      "Epoch 16/20\n",
      "48s - loss: 0.0209 - acc: 0.9936\n",
      "Epoch 17/20\n",
      "46s - loss: 0.0192 - acc: 0.9937\n",
      "Epoch 18/20\n",
      "46s - loss: 0.0186 - acc: 0.9943\n",
      "Epoch 19/20\n",
      "48s - loss: 0.0181 - acc: 0.9942\n",
      "Epoch 20/20\n",
      "46s - loss: 0.0170 - acc: 0.9948\n",
      "10000/10000 [==============================] - 6s     \n",
      "Test loss 0.0178005866235\n",
      "Test accuracy 0.9946\n"
     ]
    }
   ],
   "source": [
    "img_rows = 28\n",
    "img_cols = 28\n",
    "kernel_size = 5 # Size of the kernel for the convolution layers\n",
    "pool_size = 2 # Size of the pooling region for the pooling layers\n",
    "stride=2\n",
    "\n",
    "model = Sequential()\n",
    "\n",
    "model.add(Convolution2D(20, # Number convolution channels to generate\n",
    "                        kernel_size, kernel_size, # Size of convolution kernels\n",
    "                        border_mode='valid', # Strategy to deal with borders\n",
    "                        subsample=(1, 1), #stride\n",
    "                        input_shape=(img_rows, img_cols, 1))) # Size = image rows x image columns x channels\n",
    "model.add(Activation('relu'))\n",
    "model.add(MaxPooling2D(pool_size=(pool_size, pool_size)))\n",
    "model.add(Dropout(0.25))\n",
    "model.add(Convolution2D(50, # Number convolution channels to generate\n",
    "                        kernel_size, kernel_size, # Size of convolution kernels\n",
    "                        border_mode='valid', # Strategy to deal with borders\n",
    "                        subsample=(1, 1),\n",
    "                        input_shape=(img_rows, img_cols, 1))) # Size = image rows x image columns x channels\n",
    "model.add(Activation('relu'))\n",
    "model.add(MaxPooling2D(pool_size=(pool_size, pool_size)))\n",
    "model.add(Dropout(0.25))\n",
    "\n",
    "model.add(Flatten())\n",
    "model.add(Dense(500))\n",
    "model.add(Activation('relu'))\n",
    "model.add(Dropout(0.5))\n",
    "model.add(Dense(10))\n",
    "model.add(Activation('softmax'))\n",
    "\n",
    "model.compile(loss='categorical_crossentropy', optimizer='adam', metrics=['accuracy'])\n",
    "\n",
    "model.fit(\n",
    "    traintensor, # Training data\n",
    "    Y_train, # Labels of training data\n",
    "    batch_size=128, # Batch size for the optimizer algorithm\n",
    "    nb_epoch=20, # Number of epochs to run the optimizer algorithm\n",
    "    verbose=2 # Level of verbosity of the log messages\n",
    ")\n",
    "\n",
    "score=model.evaluate(testtensor,Y_test)\n",
    "\n",
    "print(\"Test loss\", score[0])\n",
    "print(\"Test accuracy\", score[1])\n"
   ]
  },
  {
   "cell_type": "markdown",
   "metadata": {},
   "source": [
    "<center>\n",
    "~.~.~.~.~.~.~.~.~.~.~.~.~.~.~.~.~.~.~.~.~.~.~.~.~.~.~.~.~.~.~.~.~.~.~.~.~.~.~.~.~.~.~.~.<br>\n",
    "                          THIS IS THE END OF THE ASSIGNMENT<br>\n",
    "~.~.~.~.~.~.~.~.~.~.~.~.~.~.~.~.~.~.~.~.~.~.~.~.~.~.~.~.~.~.~.~.~.~.~.~.~.~.~.~.~.~.~.~.<br>\n",
    "</center>"
   ]
  },
  {
   "cell_type": "markdown",
   "metadata": {},
   "source": [
    "## Bonus rounds"
   ]
  },
  {
   "cell_type": "markdown",
   "metadata": {},
   "source": [
    "<table>\n",
    " <tr><td><img src=\"img/pro.png\" style=\"width:80px;height:80px;\"></td><td>\n",
    "Rebuild the LeNet network with a larger number of training epochs. What is the best test error you can achieve?\n",
    " </td></tr>\n",
    "</table>"
   ]
  },
  {
   "cell_type": "code",
   "execution_count": 75,
   "metadata": {
    "collapsed": false
   },
   "outputs": [
    {
     "name": "stdout",
     "output_type": "stream",
     "text": [
      "Epoch 1/30\n",
      "47s - loss: 0.2646 - acc: 0.9162\n",
      "Epoch 2/30\n",
      "46s - loss: 0.0833 - acc: 0.9741\n",
      "Epoch 3/30\n",
      "46s - loss: 0.0630 - acc: 0.9805\n",
      "Epoch 4/30\n",
      "46s - loss: 0.0520 - acc: 0.9839\n",
      "Epoch 5/30\n",
      "46s - loss: 0.0438 - acc: 0.9864\n",
      "Epoch 6/30\n",
      "46s - loss: 0.0401 - acc: 0.9875\n",
      "Epoch 7/30\n",
      "47s - loss: 0.0363 - acc: 0.9883\n",
      "Epoch 8/30\n",
      "48s - loss: 0.0323 - acc: 0.9897\n",
      "Epoch 9/30\n",
      "46s - loss: 0.0300 - acc: 0.9910\n",
      "Epoch 10/30\n",
      "46s - loss: 0.0277 - acc: 0.9908\n",
      "Epoch 11/30\n",
      "46s - loss: 0.0270 - acc: 0.9913\n",
      "Epoch 12/30\n",
      "46s - loss: 0.0263 - acc: 0.9919\n",
      "Epoch 13/30\n",
      "46s - loss: 0.0228 - acc: 0.9926\n",
      "Epoch 14/30\n",
      "46s - loss: 0.0213 - acc: 0.9932\n",
      "Epoch 15/30\n",
      "46s - loss: 0.0220 - acc: 0.9928\n",
      "Epoch 16/30\n",
      "46s - loss: 0.0193 - acc: 0.9936\n",
      "Epoch 17/30\n",
      "46s - loss: 0.0199 - acc: 0.9935\n",
      "Epoch 18/30\n",
      "46s - loss: 0.0185 - acc: 0.9941\n",
      "Epoch 19/30\n",
      "46s - loss: 0.0190 - acc: 0.9939\n",
      "Epoch 20/30\n",
      "46s - loss: 0.0165 - acc: 0.9950\n",
      "Epoch 21/30\n",
      "46s - loss: 0.0189 - acc: 0.9938\n",
      "Epoch 22/30\n",
      "46s - loss: 0.0161 - acc: 0.9948\n",
      "Epoch 23/30\n",
      "46s - loss: 0.0156 - acc: 0.9948\n",
      "Epoch 24/30\n",
      "46s - loss: 0.0155 - acc: 0.9950\n",
      "Epoch 25/30\n",
      "46s - loss: 0.0164 - acc: 0.9944\n",
      "Epoch 26/30\n",
      "46s - loss: 0.0150 - acc: 0.9953\n",
      "Epoch 27/30\n",
      "48s - loss: 0.0144 - acc: 0.9951\n",
      "Epoch 28/30\n",
      "46s - loss: 0.0135 - acc: 0.9957\n",
      "Epoch 29/30\n",
      "46s - loss: 0.0131 - acc: 0.9958\n",
      "Epoch 30/30\n",
      "46s - loss: 0.0140 - acc: 0.9953\n",
      " 9984/10000 [============================>.] - ETA: 0sTest loss 0.0210825349203\n",
      "Test accuracy 0.9938\n"
     ]
    }
   ],
   "source": [
    "#new convolutional network with epoch=30\n",
    "img_rows = 28\n",
    "img_cols = 28\n",
    "kernel_size = 5 # Size of the kernel for the convolution layers\n",
    "pool_size = 2 # Size of the pooling region for the pooling layers\n",
    "stride=2\n",
    "\n",
    "model = Sequential()\n",
    "\n",
    "model.add(Convolution2D(20, # Number convolution channels to generate\n",
    "                        kernel_size, kernel_size, # Size of convolution kernels\n",
    "                        border_mode='valid', # Strategy to deal with borders\n",
    "                        subsample=(1, 1), #stride\n",
    "                        input_shape=(img_rows, img_cols, 1))) # Size = image rows x image columns x channels\n",
    "model.add(Activation('relu'))\n",
    "model.add(MaxPooling2D(pool_size=(pool_size, pool_size)))\n",
    "model.add(Dropout(0.25))\n",
    "model.add(Convolution2D(50, # Number convolution channels to generate\n",
    "                        kernel_size, kernel_size, # Size of convolution kernels\n",
    "                        border_mode='valid', # Strategy to deal with borders\n",
    "                        subsample=(1, 1),\n",
    "                        input_shape=(img_rows, img_cols, 1))) # Size = image rows x image columns x channels\n",
    "model.add(Activation('relu'))\n",
    "model.add(MaxPooling2D(pool_size=(pool_size, pool_size)))\n",
    "model.add(Dropout(0.25))\n",
    "\n",
    "model.add(Flatten())\n",
    "model.add(Dense(500))\n",
    "model.add(Activation('relu'))\n",
    "model.add(Dropout(0.5))\n",
    "model.add(Dense(10))\n",
    "model.add(Activation('softmax'))\n",
    "\n",
    "model.compile(loss='categorical_crossentropy', optimizer='adam', metrics=['accuracy'])\n",
    "\n",
    "model.fit(\n",
    "    traintensor, # Training data\n",
    "    Y_train, # Labels of training data\n",
    "    batch_size=128, # Batch size for the optimizer algorithm\n",
    "    nb_epoch=30, # Number of epochs to run the optimizer algorithm\n",
    "    verbose=2 # Level of verbosity of the log messages\n",
    ")\n",
    "\n",
    "score=model.evaluate(testtensor,Y_test)\n",
    "\n",
    "print(\"Test loss\", score[0])\n",
    "print(\"Test accuracy\", score[1])\n"
   ]
  },
  {
   "cell_type": "markdown",
   "metadata": {},
   "source": [
    "<table>\n",
    " <tr><td><img src=\"img/pro.png\" style=\"width:80px;height:80px;\"></td><td>\n",
    "If your PC has a CUDA-compatible GPU card you can take advantage of it to significanly accelerate training times. You are encouraged to configure Keras to make use of your GPU.\n",
    " </td></tr>\n",
    "</table>"
   ]
  },
  {
   "cell_type": "code",
   "execution_count": null,
   "metadata": {
    "collapsed": true
   },
   "outputs": [],
   "source": []
  }
 ],
 "metadata": {
  "anaconda-cloud": {},
  "kernelspec": {
   "display_name": "Python [Root]",
   "language": "python",
   "name": "Python [Root]"
  },
  "language_info": {
   "codemirror_mode": {
    "name": "ipython",
    "version": 3
   },
   "file_extension": ".py",
   "mimetype": "text/x-python",
   "name": "python",
   "nbconvert_exporter": "python",
   "pygments_lexer": "ipython3",
   "version": "3.5.2"
  }
 },
 "nbformat": 4,
 "nbformat_minor": 0
}
