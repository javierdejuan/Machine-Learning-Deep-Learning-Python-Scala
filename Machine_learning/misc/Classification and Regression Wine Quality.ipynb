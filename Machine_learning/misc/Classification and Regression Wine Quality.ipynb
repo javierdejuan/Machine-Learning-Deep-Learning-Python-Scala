{
 "cells": [
  {
   "cell_type": "markdown",
   "metadata": {},
   "source": [
    "# Wine Classification and Regression"
   ]
  },
  {
   "cell_type": "markdown",
   "metadata": {},
   "source": [
    "```\n",
    "Citation Request:\n",
    "  This dataset is public available for research. The details are described in [Cortez et al., 2009]. \n",
    "  Please include this citation if you plan to use this database:\n",
    "\n",
    "  P. Cortez, A. Cerdeira, F. Almeida, T. Matos and J. Reis. \n",
    "  Modeling wine preferences by data mining from physicochemical properties.\n",
    "  In Decision Support Systems, Elsevier, 47(4):547-553. ISSN: 0167-9236.\n",
    "\n",
    "  Available at: [@Elsevier] http://dx.doi.org/10.1016/j.dss.2009.05.016\n",
    "                [Pre-press (pdf)] http://www3.dsi.uminho.pt/pcortez/winequality09.pdf\n",
    "                [bib] http://www3.dsi.uminho.pt/pcortez/dss09.bib\n",
    "\n",
    "1. Title: Wine Quality \n",
    "\n",
    "2. Sources\n",
    "   Created by: Paulo Cortez (Univ. Minho), Antonio Cerdeira, Fernando Almeida, Telmo Matos and Jose Reis (CVRVV) @ 2009\n",
    "   \n",
    "3. Past Usage:\n",
    "\n",
    "  P. Cortez, A. Cerdeira, F. Almeida, T. Matos and J. Reis. \n",
    "  Modeling wine preferences by data mining from physicochemical properties.\n",
    "  In Decision Support Systems, Elsevier, 47(4):547-553. ISSN: 0167-9236.\n",
    "\n",
    "  In the above reference, two datasets were created, using red and white wine samples.\n",
    "  The inputs include objective tests (e.g. PH values) and the output is based on sensory data\n",
    "  (median of at least 3 evaluations made by wine experts). Each expert graded the wine quality \n",
    "  between 0 (very bad) and 10 (very excellent). Several data mining methods were applied to model\n",
    "  these datasets under a regression approach. The support vector machine model achieved the\n",
    "  best results. Several metrics were computed: MAD, confusion matrix for a fixed error tolerance (T),\n",
    "  etc. Also, we plot the relative importances of the input variables (as measured by a sensitivity\n",
    "  analysis procedure).\n",
    " \n",
    "4. Relevant Information:\n",
    "\n",
    "   The two datasets are related to red and white variants of the Portuguese \"Vinho Verde\" wine.\n",
    "   For more details, consult: http://www.vinhoverde.pt/en/ or the reference [Cortez et al., 2009].\n",
    "   Due to privacy and logistic issues, only physicochemical (inputs) and sensory (the output) variables \n",
    "   are available (e.g. there is no data about grape types, wine brand, wine selling price, etc.).\n",
    "\n",
    "   These datasets can be viewed as classification or regression tasks.\n",
    "   The classes are ordered and not balanced (e.g. there are munch more normal wines than\n",
    "   excellent or poor ones). Outlier detection algorithms could be used to detect the few excellent\n",
    "   or poor wines. Also, we are not sure if all input variables are relevant. So\n",
    "   it could be interesting to test feature selection methods. \n",
    "\n",
    "5. Number of Instances: red wine - 1599; white wine - 4898. \n",
    "\n",
    "6. Number of Attributes: 11 + output attribute\n",
    "  \n",
    "   Note: several of the attributes may be correlated, thus it makes sense to apply some sort of\n",
    "   feature selection.\n",
    "\n",
    "7. Attribute information:\n",
    "\n",
    "   For more information, read [Cortez et al., 2009].\n",
    "\n",
    "   Input variables (based on physicochemical tests):\n",
    "   1 - fixed acidity\n",
    "   2 - volatile acidity\n",
    "   3 - citric acid\n",
    "   4 - residual sugar\n",
    "   5 - chlorides\n",
    "   6 - free sulfur dioxide\n",
    "   7 - total sulfur dioxide\n",
    "   8 - density\n",
    "   9 - pH\n",
    "   10 - sulphates\n",
    "   11 - alcohol\n",
    "   Output variable (based on sensory data): \n",
    "   12 - quality (score between 0 and 10)\n",
    "\n",
    "8. Missing Attribute Values: None\n",
    "```"
   ]
  },
  {
   "cell_type": "markdown",
   "metadata": {},
   "source": [
    "Además de las 12 variables descritas, el dataset que utilizarás tiene otra: si el vino es blanco o rojo. Dicho esto, los objetivos son:\n",
    "\n",
    "1. Separar el dataset en training (+ validación si no vas a hacer validación cruzada) y testing, haciendo antes (o después) las transformaciones de los datos que consideres oportunas, así como selección de variables, reducción de dimensionalidad... Puede que decidas usar los datos tal cual vienen también...\n",
    "2. Hacer un modelo capaz de clasificar lo mejor posible si un vino es blanco o rojo a partir del resto de variables (vas a ver que está chupado conseguir un muy buen resultado).\n",
    "3. Hacer un modelo regresor que prediga lo mejor posible la calidad de los vinos.\n",
    "\n",
    "El fichero csv a utilizar `winequality.csv` tiene las cabeceras de cuál es cada variable, y los datos están separados por punto y coma.\n",
    "\n",
    "Siéntete libre de hacer todo el análisis exploratorio y estadístico (así como gráficos) que quieras antes de lanzarte a hacer modelos.\n",
    "\n",
    "Y nada más. ¡Ánimo!"
   ]
  },
  {
   "cell_type": "markdown",
   "metadata": {
    "collapsed": true
   },
   "source": [
    "## cargar librerias"
   ]
  },
  {
   "cell_type": "code",
   "execution_count": 1,
   "metadata": {
    "collapsed": true
   },
   "outputs": [],
   "source": [
    "import pandas as pd\n",
    "import numpy as np"
   ]
  },
  {
   "cell_type": "markdown",
   "metadata": {},
   "source": [
    "## cargar el dataset"
   ]
  },
  {
   "cell_type": "code",
   "execution_count": 2,
   "metadata": {
    "collapsed": false
   },
   "outputs": [],
   "source": [
    "dataset=pd.read_csv(\"winequality.csv\",sep=\";\")"
   ]
  },
  {
   "cell_type": "code",
   "execution_count": 3,
   "metadata": {
    "collapsed": false
   },
   "outputs": [
    {
     "data": {
      "text/html": [
       "<div>\n",
       "<table border=\"1\" class=\"dataframe\">\n",
       "  <thead>\n",
       "    <tr style=\"text-align: right;\">\n",
       "      <th></th>\n",
       "      <th>fixed acidity</th>\n",
       "      <th>volatile acidity</th>\n",
       "      <th>citric acid</th>\n",
       "      <th>residual sugar</th>\n",
       "      <th>chlorides</th>\n",
       "      <th>free sulfur dioxide</th>\n",
       "      <th>total sulfur dioxide</th>\n",
       "      <th>density</th>\n",
       "      <th>pH</th>\n",
       "      <th>sulphates</th>\n",
       "      <th>alcohol</th>\n",
       "      <th>quality</th>\n",
       "    </tr>\n",
       "  </thead>\n",
       "  <tbody>\n",
       "    <tr>\n",
       "      <th>count</th>\n",
       "      <td>6497.000000</td>\n",
       "      <td>6497.000000</td>\n",
       "      <td>6497.000000</td>\n",
       "      <td>6497.000000</td>\n",
       "      <td>6497.000000</td>\n",
       "      <td>6497.000000</td>\n",
       "      <td>6497.000000</td>\n",
       "      <td>6497.000000</td>\n",
       "      <td>6497.000000</td>\n",
       "      <td>6497.000000</td>\n",
       "      <td>6497.000000</td>\n",
       "      <td>6497.000000</td>\n",
       "    </tr>\n",
       "    <tr>\n",
       "      <th>mean</th>\n",
       "      <td>7.215307</td>\n",
       "      <td>0.339666</td>\n",
       "      <td>0.318633</td>\n",
       "      <td>5.443235</td>\n",
       "      <td>0.056034</td>\n",
       "      <td>30.525319</td>\n",
       "      <td>115.744574</td>\n",
       "      <td>0.994697</td>\n",
       "      <td>3.218501</td>\n",
       "      <td>0.531268</td>\n",
       "      <td>10.491801</td>\n",
       "      <td>5.818378</td>\n",
       "    </tr>\n",
       "    <tr>\n",
       "      <th>std</th>\n",
       "      <td>1.296434</td>\n",
       "      <td>0.164636</td>\n",
       "      <td>0.145318</td>\n",
       "      <td>4.757804</td>\n",
       "      <td>0.035034</td>\n",
       "      <td>17.749400</td>\n",
       "      <td>56.521855</td>\n",
       "      <td>0.002999</td>\n",
       "      <td>0.160787</td>\n",
       "      <td>0.148806</td>\n",
       "      <td>1.192712</td>\n",
       "      <td>0.873255</td>\n",
       "    </tr>\n",
       "    <tr>\n",
       "      <th>min</th>\n",
       "      <td>3.800000</td>\n",
       "      <td>0.080000</td>\n",
       "      <td>0.000000</td>\n",
       "      <td>0.600000</td>\n",
       "      <td>0.009000</td>\n",
       "      <td>1.000000</td>\n",
       "      <td>6.000000</td>\n",
       "      <td>0.987110</td>\n",
       "      <td>2.720000</td>\n",
       "      <td>0.220000</td>\n",
       "      <td>8.000000</td>\n",
       "      <td>3.000000</td>\n",
       "    </tr>\n",
       "    <tr>\n",
       "      <th>25%</th>\n",
       "      <td>6.400000</td>\n",
       "      <td>0.230000</td>\n",
       "      <td>0.250000</td>\n",
       "      <td>1.800000</td>\n",
       "      <td>0.038000</td>\n",
       "      <td>17.000000</td>\n",
       "      <td>77.000000</td>\n",
       "      <td>0.992340</td>\n",
       "      <td>3.110000</td>\n",
       "      <td>0.430000</td>\n",
       "      <td>9.500000</td>\n",
       "      <td>5.000000</td>\n",
       "    </tr>\n",
       "    <tr>\n",
       "      <th>50%</th>\n",
       "      <td>7.000000</td>\n",
       "      <td>0.290000</td>\n",
       "      <td>0.310000</td>\n",
       "      <td>3.000000</td>\n",
       "      <td>0.047000</td>\n",
       "      <td>29.000000</td>\n",
       "      <td>118.000000</td>\n",
       "      <td>0.994890</td>\n",
       "      <td>3.210000</td>\n",
       "      <td>0.510000</td>\n",
       "      <td>10.300000</td>\n",
       "      <td>6.000000</td>\n",
       "    </tr>\n",
       "    <tr>\n",
       "      <th>75%</th>\n",
       "      <td>7.700000</td>\n",
       "      <td>0.400000</td>\n",
       "      <td>0.390000</td>\n",
       "      <td>8.100000</td>\n",
       "      <td>0.065000</td>\n",
       "      <td>41.000000</td>\n",
       "      <td>156.000000</td>\n",
       "      <td>0.996990</td>\n",
       "      <td>3.320000</td>\n",
       "      <td>0.600000</td>\n",
       "      <td>11.300000</td>\n",
       "      <td>6.000000</td>\n",
       "    </tr>\n",
       "    <tr>\n",
       "      <th>max</th>\n",
       "      <td>15.900000</td>\n",
       "      <td>1.580000</td>\n",
       "      <td>1.660000</td>\n",
       "      <td>65.800000</td>\n",
       "      <td>0.611000</td>\n",
       "      <td>289.000000</td>\n",
       "      <td>440.000000</td>\n",
       "      <td>1.038980</td>\n",
       "      <td>4.010000</td>\n",
       "      <td>2.000000</td>\n",
       "      <td>14.900000</td>\n",
       "      <td>9.000000</td>\n",
       "    </tr>\n",
       "  </tbody>\n",
       "</table>\n",
       "</div>"
      ],
      "text/plain": [
       "       fixed acidity  volatile acidity  citric acid  residual sugar  \\\n",
       "count    6497.000000       6497.000000  6497.000000     6497.000000   \n",
       "mean        7.215307          0.339666     0.318633        5.443235   \n",
       "std         1.296434          0.164636     0.145318        4.757804   \n",
       "min         3.800000          0.080000     0.000000        0.600000   \n",
       "25%         6.400000          0.230000     0.250000        1.800000   \n",
       "50%         7.000000          0.290000     0.310000        3.000000   \n",
       "75%         7.700000          0.400000     0.390000        8.100000   \n",
       "max        15.900000          1.580000     1.660000       65.800000   \n",
       "\n",
       "         chlorides  free sulfur dioxide  total sulfur dioxide      density  \\\n",
       "count  6497.000000          6497.000000           6497.000000  6497.000000   \n",
       "mean      0.056034            30.525319            115.744574     0.994697   \n",
       "std       0.035034            17.749400             56.521855     0.002999   \n",
       "min       0.009000             1.000000              6.000000     0.987110   \n",
       "25%       0.038000            17.000000             77.000000     0.992340   \n",
       "50%       0.047000            29.000000            118.000000     0.994890   \n",
       "75%       0.065000            41.000000            156.000000     0.996990   \n",
       "max       0.611000           289.000000            440.000000     1.038980   \n",
       "\n",
       "                pH    sulphates      alcohol      quality  \n",
       "count  6497.000000  6497.000000  6497.000000  6497.000000  \n",
       "mean      3.218501     0.531268    10.491801     5.818378  \n",
       "std       0.160787     0.148806     1.192712     0.873255  \n",
       "min       2.720000     0.220000     8.000000     3.000000  \n",
       "25%       3.110000     0.430000     9.500000     5.000000  \n",
       "50%       3.210000     0.510000    10.300000     6.000000  \n",
       "75%       3.320000     0.600000    11.300000     6.000000  \n",
       "max       4.010000     2.000000    14.900000     9.000000  "
      ]
     },
     "execution_count": 3,
     "metadata": {},
     "output_type": "execute_result"
    }
   ],
   "source": [
    "dataset.describe()"
   ]
  },
  {
   "cell_type": "markdown",
   "metadata": {},
   "source": [
    "mmm vemos que no esta la columna color.. no debe ser numerica, preguntemos cuales son los tipos de variables.."
   ]
  },
  {
   "cell_type": "code",
   "execution_count": 4,
   "metadata": {
    "collapsed": false
   },
   "outputs": [
    {
     "data": {
      "text/plain": [
       "fixed acidity           float64\n",
       "volatile acidity        float64\n",
       "citric acid             float64\n",
       "residual sugar          float64\n",
       "chlorides               float64\n",
       "free sulfur dioxide     float64\n",
       "total sulfur dioxide    float64\n",
       "density                 float64\n",
       "pH                      float64\n",
       "sulphates               float64\n",
       "alcohol                 float64\n",
       "quality                   int64\n",
       "color                    object\n",
       "dtype: object"
      ]
     },
     "execution_count": 4,
     "metadata": {},
     "output_type": "execute_result"
    }
   ],
   "source": [
    "dataset.dtypes"
   ]
  },
  {
   "cell_type": "markdown",
   "metadata": {},
   "source": [
    "efectivamente, la _label_ \"color\" es de tipo object, pasemosla a una variable numerica (0 para blanco, 1 para tinto)"
   ]
  },
  {
   "cell_type": "code",
   "execution_count": 5,
   "metadata": {
    "collapsed": false
   },
   "outputs": [
    {
     "data": {
      "text/html": [
       "<div>\n",
       "<table border=\"1\" class=\"dataframe\">\n",
       "  <thead>\n",
       "    <tr style=\"text-align: right;\">\n",
       "      <th></th>\n",
       "      <th>fixed acidity</th>\n",
       "      <th>volatile acidity</th>\n",
       "      <th>citric acid</th>\n",
       "      <th>residual sugar</th>\n",
       "      <th>chlorides</th>\n",
       "      <th>free sulfur dioxide</th>\n",
       "      <th>total sulfur dioxide</th>\n",
       "      <th>density</th>\n",
       "      <th>pH</th>\n",
       "      <th>sulphates</th>\n",
       "      <th>alcohol</th>\n",
       "      <th>quality</th>\n",
       "      <th>color</th>\n",
       "    </tr>\n",
       "  </thead>\n",
       "  <tbody>\n",
       "    <tr>\n",
       "      <th>0</th>\n",
       "      <td>5.20</td>\n",
       "      <td>0.34</td>\n",
       "      <td>0.00</td>\n",
       "      <td>1.8</td>\n",
       "      <td>0.050</td>\n",
       "      <td>27.0</td>\n",
       "      <td>63.0</td>\n",
       "      <td>0.99160</td>\n",
       "      <td>3.68</td>\n",
       "      <td>0.79</td>\n",
       "      <td>14.0</td>\n",
       "      <td>6</td>\n",
       "      <td>1</td>\n",
       "    </tr>\n",
       "    <tr>\n",
       "      <th>1</th>\n",
       "      <td>6.20</td>\n",
       "      <td>0.55</td>\n",
       "      <td>0.45</td>\n",
       "      <td>12.0</td>\n",
       "      <td>0.049</td>\n",
       "      <td>27.0</td>\n",
       "      <td>186.0</td>\n",
       "      <td>0.99740</td>\n",
       "      <td>3.17</td>\n",
       "      <td>0.50</td>\n",
       "      <td>9.3</td>\n",
       "      <td>6</td>\n",
       "      <td>0</td>\n",
       "    </tr>\n",
       "    <tr>\n",
       "      <th>2</th>\n",
       "      <td>7.15</td>\n",
       "      <td>0.17</td>\n",
       "      <td>0.24</td>\n",
       "      <td>9.6</td>\n",
       "      <td>0.119</td>\n",
       "      <td>56.0</td>\n",
       "      <td>178.0</td>\n",
       "      <td>0.99578</td>\n",
       "      <td>3.15</td>\n",
       "      <td>0.44</td>\n",
       "      <td>10.2</td>\n",
       "      <td>6</td>\n",
       "      <td>0</td>\n",
       "    </tr>\n",
       "    <tr>\n",
       "      <th>3</th>\n",
       "      <td>6.70</td>\n",
       "      <td>0.64</td>\n",
       "      <td>0.23</td>\n",
       "      <td>2.1</td>\n",
       "      <td>0.080</td>\n",
       "      <td>11.0</td>\n",
       "      <td>119.0</td>\n",
       "      <td>0.99538</td>\n",
       "      <td>3.36</td>\n",
       "      <td>0.70</td>\n",
       "      <td>10.9</td>\n",
       "      <td>5</td>\n",
       "      <td>1</td>\n",
       "    </tr>\n",
       "    <tr>\n",
       "      <th>4</th>\n",
       "      <td>7.60</td>\n",
       "      <td>0.23</td>\n",
       "      <td>0.34</td>\n",
       "      <td>1.6</td>\n",
       "      <td>0.043</td>\n",
       "      <td>24.0</td>\n",
       "      <td>129.0</td>\n",
       "      <td>0.99305</td>\n",
       "      <td>3.12</td>\n",
       "      <td>0.70</td>\n",
       "      <td>10.4</td>\n",
       "      <td>5</td>\n",
       "      <td>0</td>\n",
       "    </tr>\n",
       "    <tr>\n",
       "      <th>5</th>\n",
       "      <td>5.70</td>\n",
       "      <td>0.22</td>\n",
       "      <td>0.20</td>\n",
       "      <td>16.0</td>\n",
       "      <td>0.044</td>\n",
       "      <td>41.0</td>\n",
       "      <td>113.0</td>\n",
       "      <td>0.99862</td>\n",
       "      <td>3.22</td>\n",
       "      <td>0.46</td>\n",
       "      <td>8.9</td>\n",
       "      <td>6</td>\n",
       "      <td>0</td>\n",
       "    </tr>\n",
       "    <tr>\n",
       "      <th>6</th>\n",
       "      <td>7.10</td>\n",
       "      <td>0.47</td>\n",
       "      <td>0.29</td>\n",
       "      <td>14.8</td>\n",
       "      <td>0.024</td>\n",
       "      <td>22.0</td>\n",
       "      <td>142.0</td>\n",
       "      <td>0.99518</td>\n",
       "      <td>3.12</td>\n",
       "      <td>0.48</td>\n",
       "      <td>12.0</td>\n",
       "      <td>8</td>\n",
       "      <td>0</td>\n",
       "    </tr>\n",
       "    <tr>\n",
       "      <th>7</th>\n",
       "      <td>9.70</td>\n",
       "      <td>0.31</td>\n",
       "      <td>0.47</td>\n",
       "      <td>1.6</td>\n",
       "      <td>0.062</td>\n",
       "      <td>13.0</td>\n",
       "      <td>33.0</td>\n",
       "      <td>0.99830</td>\n",
       "      <td>3.27</td>\n",
       "      <td>0.66</td>\n",
       "      <td>10.0</td>\n",
       "      <td>6</td>\n",
       "      <td>1</td>\n",
       "    </tr>\n",
       "    <tr>\n",
       "      <th>8</th>\n",
       "      <td>7.60</td>\n",
       "      <td>0.21</td>\n",
       "      <td>0.44</td>\n",
       "      <td>1.9</td>\n",
       "      <td>0.036</td>\n",
       "      <td>10.0</td>\n",
       "      <td>119.0</td>\n",
       "      <td>0.99130</td>\n",
       "      <td>3.01</td>\n",
       "      <td>0.70</td>\n",
       "      <td>12.8</td>\n",
       "      <td>6</td>\n",
       "      <td>0</td>\n",
       "    </tr>\n",
       "    <tr>\n",
       "      <th>9</th>\n",
       "      <td>5.80</td>\n",
       "      <td>0.32</td>\n",
       "      <td>0.28</td>\n",
       "      <td>4.3</td>\n",
       "      <td>0.032</td>\n",
       "      <td>46.0</td>\n",
       "      <td>115.0</td>\n",
       "      <td>0.98946</td>\n",
       "      <td>3.16</td>\n",
       "      <td>0.57</td>\n",
       "      <td>13.0</td>\n",
       "      <td>8</td>\n",
       "      <td>0</td>\n",
       "    </tr>\n",
       "  </tbody>\n",
       "</table>\n",
       "</div>"
      ],
      "text/plain": [
       "   fixed acidity  volatile acidity  citric acid  residual sugar  chlorides  \\\n",
       "0           5.20              0.34         0.00             1.8      0.050   \n",
       "1           6.20              0.55         0.45            12.0      0.049   \n",
       "2           7.15              0.17         0.24             9.6      0.119   \n",
       "3           6.70              0.64         0.23             2.1      0.080   \n",
       "4           7.60              0.23         0.34             1.6      0.043   \n",
       "5           5.70              0.22         0.20            16.0      0.044   \n",
       "6           7.10              0.47         0.29            14.8      0.024   \n",
       "7           9.70              0.31         0.47             1.6      0.062   \n",
       "8           7.60              0.21         0.44             1.9      0.036   \n",
       "9           5.80              0.32         0.28             4.3      0.032   \n",
       "\n",
       "   free sulfur dioxide  total sulfur dioxide  density    pH  sulphates  \\\n",
       "0                 27.0                  63.0  0.99160  3.68       0.79   \n",
       "1                 27.0                 186.0  0.99740  3.17       0.50   \n",
       "2                 56.0                 178.0  0.99578  3.15       0.44   \n",
       "3                 11.0                 119.0  0.99538  3.36       0.70   \n",
       "4                 24.0                 129.0  0.99305  3.12       0.70   \n",
       "5                 41.0                 113.0  0.99862  3.22       0.46   \n",
       "6                 22.0                 142.0  0.99518  3.12       0.48   \n",
       "7                 13.0                  33.0  0.99830  3.27       0.66   \n",
       "8                 10.0                 119.0  0.99130  3.01       0.70   \n",
       "9                 46.0                 115.0  0.98946  3.16       0.57   \n",
       "\n",
       "   alcohol  quality  color  \n",
       "0     14.0        6      1  \n",
       "1      9.3        6      0  \n",
       "2     10.2        6      0  \n",
       "3     10.9        5      1  \n",
       "4     10.4        5      0  \n",
       "5      8.9        6      0  \n",
       "6     12.0        8      0  \n",
       "7     10.0        6      1  \n",
       "8     12.8        6      0  \n",
       "9     13.0        8      0  "
      ]
     },
     "execution_count": 5,
     "metadata": {},
     "output_type": "execute_result"
    }
   ],
   "source": [
    "# convertimos el color del vino (blanco o tinto) en una variable numerica ( blanco = 0 , tinto = 1)\n",
    "dataset[\"color\"]=dataset[\"color\"].map(lambda color: 0 if(color==\"white\")else 1 )\n",
    "# y describamos el dataset de nuevo\n",
    "dataset[0:10]\n"
   ]
  },
  {
   "cell_type": "markdown",
   "metadata": {},
   "source": [
    "## conteo de nulos o cosas raras"
   ]
  },
  {
   "cell_type": "code",
   "execution_count": 6,
   "metadata": {
    "collapsed": false
   },
   "outputs": [
    {
     "data": {
      "text/plain": [
       "fixed acidity           0\n",
       "volatile acidity        0\n",
       "citric acid             0\n",
       "residual sugar          0\n",
       "chlorides               0\n",
       "free sulfur dioxide     0\n",
       "total sulfur dioxide    0\n",
       "density                 0\n",
       "pH                      0\n",
       "sulphates               0\n",
       "alcohol                 0\n",
       "quality                 0\n",
       "color                   0\n",
       "dtype: int64"
      ]
     },
     "execution_count": 6,
     "metadata": {},
     "output_type": "execute_result"
    }
   ],
   "source": [
    "# veamos si hay algunas celdas con valor Nan\n",
    "dataset.isnull().sum()"
   ]
  },
  {
   "cell_type": "markdown",
   "metadata": {},
   "source": [
    "bien, todas las celdas son numericas, podemos entonces proceder a crear los sets de _train_, _test_ y _validation_"
   ]
  },
  {
   "cell_type": "markdown",
   "metadata": {},
   "source": [
    "## veamos si existen features con varianza pequeña.."
   ]
  },
  {
   "cell_type": "code",
   "execution_count": 7,
   "metadata": {
    "collapsed": false
   },
   "outputs": [
    {
     "data": {
      "text/html": [
       "<div>\n",
       "<table border=\"1\" class=\"dataframe\">\n",
       "  <thead>\n",
       "    <tr style=\"text-align: right;\">\n",
       "      <th></th>\n",
       "      <th>fixed acidity</th>\n",
       "      <th>volatile acidity</th>\n",
       "      <th>citric acid</th>\n",
       "      <th>residual sugar</th>\n",
       "      <th>chlorides</th>\n",
       "      <th>free sulfur dioxide</th>\n",
       "      <th>total sulfur dioxide</th>\n",
       "      <th>density</th>\n",
       "      <th>pH</th>\n",
       "      <th>sulphates</th>\n",
       "      <th>alcohol</th>\n",
       "      <th>quality</th>\n",
       "      <th>color</th>\n",
       "    </tr>\n",
       "  </thead>\n",
       "  <tbody>\n",
       "    <tr>\n",
       "      <th>count</th>\n",
       "      <td>6497.000000</td>\n",
       "      <td>6497.000000</td>\n",
       "      <td>6497.000000</td>\n",
       "      <td>6497.000000</td>\n",
       "      <td>6497.000000</td>\n",
       "      <td>6497.000000</td>\n",
       "      <td>6497.000000</td>\n",
       "      <td>6497.000000</td>\n",
       "      <td>6497.000000</td>\n",
       "      <td>6497.000000</td>\n",
       "      <td>6497.000000</td>\n",
       "      <td>6497.000000</td>\n",
       "      <td>6497.000000</td>\n",
       "    </tr>\n",
       "    <tr>\n",
       "      <th>mean</th>\n",
       "      <td>7.215307</td>\n",
       "      <td>0.339666</td>\n",
       "      <td>0.318633</td>\n",
       "      <td>5.443235</td>\n",
       "      <td>0.056034</td>\n",
       "      <td>30.525319</td>\n",
       "      <td>115.744574</td>\n",
       "      <td>0.994697</td>\n",
       "      <td>3.218501</td>\n",
       "      <td>0.531268</td>\n",
       "      <td>10.491801</td>\n",
       "      <td>5.818378</td>\n",
       "      <td>0.246114</td>\n",
       "    </tr>\n",
       "    <tr>\n",
       "      <th>std</th>\n",
       "      <td>1.296434</td>\n",
       "      <td>0.164636</td>\n",
       "      <td>0.145318</td>\n",
       "      <td>4.757804</td>\n",
       "      <td>0.035034</td>\n",
       "      <td>17.749400</td>\n",
       "      <td>56.521855</td>\n",
       "      <td>0.002999</td>\n",
       "      <td>0.160787</td>\n",
       "      <td>0.148806</td>\n",
       "      <td>1.192712</td>\n",
       "      <td>0.873255</td>\n",
       "      <td>0.430779</td>\n",
       "    </tr>\n",
       "    <tr>\n",
       "      <th>min</th>\n",
       "      <td>3.800000</td>\n",
       "      <td>0.080000</td>\n",
       "      <td>0.000000</td>\n",
       "      <td>0.600000</td>\n",
       "      <td>0.009000</td>\n",
       "      <td>1.000000</td>\n",
       "      <td>6.000000</td>\n",
       "      <td>0.987110</td>\n",
       "      <td>2.720000</td>\n",
       "      <td>0.220000</td>\n",
       "      <td>8.000000</td>\n",
       "      <td>3.000000</td>\n",
       "      <td>0.000000</td>\n",
       "    </tr>\n",
       "    <tr>\n",
       "      <th>25%</th>\n",
       "      <td>6.400000</td>\n",
       "      <td>0.230000</td>\n",
       "      <td>0.250000</td>\n",
       "      <td>1.800000</td>\n",
       "      <td>0.038000</td>\n",
       "      <td>17.000000</td>\n",
       "      <td>77.000000</td>\n",
       "      <td>0.992340</td>\n",
       "      <td>3.110000</td>\n",
       "      <td>0.430000</td>\n",
       "      <td>9.500000</td>\n",
       "      <td>5.000000</td>\n",
       "      <td>0.000000</td>\n",
       "    </tr>\n",
       "    <tr>\n",
       "      <th>50%</th>\n",
       "      <td>7.000000</td>\n",
       "      <td>0.290000</td>\n",
       "      <td>0.310000</td>\n",
       "      <td>3.000000</td>\n",
       "      <td>0.047000</td>\n",
       "      <td>29.000000</td>\n",
       "      <td>118.000000</td>\n",
       "      <td>0.994890</td>\n",
       "      <td>3.210000</td>\n",
       "      <td>0.510000</td>\n",
       "      <td>10.300000</td>\n",
       "      <td>6.000000</td>\n",
       "      <td>0.000000</td>\n",
       "    </tr>\n",
       "    <tr>\n",
       "      <th>75%</th>\n",
       "      <td>7.700000</td>\n",
       "      <td>0.400000</td>\n",
       "      <td>0.390000</td>\n",
       "      <td>8.100000</td>\n",
       "      <td>0.065000</td>\n",
       "      <td>41.000000</td>\n",
       "      <td>156.000000</td>\n",
       "      <td>0.996990</td>\n",
       "      <td>3.320000</td>\n",
       "      <td>0.600000</td>\n",
       "      <td>11.300000</td>\n",
       "      <td>6.000000</td>\n",
       "      <td>0.000000</td>\n",
       "    </tr>\n",
       "    <tr>\n",
       "      <th>max</th>\n",
       "      <td>15.900000</td>\n",
       "      <td>1.580000</td>\n",
       "      <td>1.660000</td>\n",
       "      <td>65.800000</td>\n",
       "      <td>0.611000</td>\n",
       "      <td>289.000000</td>\n",
       "      <td>440.000000</td>\n",
       "      <td>1.038980</td>\n",
       "      <td>4.010000</td>\n",
       "      <td>2.000000</td>\n",
       "      <td>14.900000</td>\n",
       "      <td>9.000000</td>\n",
       "      <td>1.000000</td>\n",
       "    </tr>\n",
       "  </tbody>\n",
       "</table>\n",
       "</div>"
      ],
      "text/plain": [
       "       fixed acidity  volatile acidity  citric acid  residual sugar  \\\n",
       "count    6497.000000       6497.000000  6497.000000     6497.000000   \n",
       "mean        7.215307          0.339666     0.318633        5.443235   \n",
       "std         1.296434          0.164636     0.145318        4.757804   \n",
       "min         3.800000          0.080000     0.000000        0.600000   \n",
       "25%         6.400000          0.230000     0.250000        1.800000   \n",
       "50%         7.000000          0.290000     0.310000        3.000000   \n",
       "75%         7.700000          0.400000     0.390000        8.100000   \n",
       "max        15.900000          1.580000     1.660000       65.800000   \n",
       "\n",
       "         chlorides  free sulfur dioxide  total sulfur dioxide      density  \\\n",
       "count  6497.000000          6497.000000           6497.000000  6497.000000   \n",
       "mean      0.056034            30.525319            115.744574     0.994697   \n",
       "std       0.035034            17.749400             56.521855     0.002999   \n",
       "min       0.009000             1.000000              6.000000     0.987110   \n",
       "25%       0.038000            17.000000             77.000000     0.992340   \n",
       "50%       0.047000            29.000000            118.000000     0.994890   \n",
       "75%       0.065000            41.000000            156.000000     0.996990   \n",
       "max       0.611000           289.000000            440.000000     1.038980   \n",
       "\n",
       "                pH    sulphates      alcohol      quality        color  \n",
       "count  6497.000000  6497.000000  6497.000000  6497.000000  6497.000000  \n",
       "mean      3.218501     0.531268    10.491801     5.818378     0.246114  \n",
       "std       0.160787     0.148806     1.192712     0.873255     0.430779  \n",
       "min       2.720000     0.220000     8.000000     3.000000     0.000000  \n",
       "25%       3.110000     0.430000     9.500000     5.000000     0.000000  \n",
       "50%       3.210000     0.510000    10.300000     6.000000     0.000000  \n",
       "75%       3.320000     0.600000    11.300000     6.000000     0.000000  \n",
       "max       4.010000     2.000000    14.900000     9.000000     1.000000  "
      ]
     },
     "execution_count": 7,
     "metadata": {},
     "output_type": "execute_result"
    }
   ],
   "source": [
    "dataset.describe()"
   ]
  },
  {
   "cell_type": "markdown",
   "metadata": {},
   "source": [
    "## estandarizamos las features"
   ]
  },
  {
   "cell_type": "code",
   "execution_count": 8,
   "metadata": {
    "collapsed": false
   },
   "outputs": [
    {
     "data": {
      "text/html": [
       "<div>\n",
       "<table border=\"1\" class=\"dataframe\">\n",
       "  <thead>\n",
       "    <tr style=\"text-align: right;\">\n",
       "      <th></th>\n",
       "      <th>fixed acidity</th>\n",
       "      <th>volatile acidity</th>\n",
       "      <th>citric acid</th>\n",
       "      <th>residual sugar</th>\n",
       "      <th>chlorides</th>\n",
       "      <th>free sulfur dioxide</th>\n",
       "      <th>total sulfur dioxide</th>\n",
       "      <th>density</th>\n",
       "      <th>pH</th>\n",
       "      <th>sulphates</th>\n",
       "      <th>alcohol</th>\n",
       "      <th>quality</th>\n",
       "    </tr>\n",
       "  </thead>\n",
       "  <tbody>\n",
       "    <tr>\n",
       "      <th>count</th>\n",
       "      <td>6.497000e+03</td>\n",
       "      <td>6.497000e+03</td>\n",
       "      <td>6.497000e+03</td>\n",
       "      <td>6.497000e+03</td>\n",
       "      <td>6.497000e+03</td>\n",
       "      <td>6.497000e+03</td>\n",
       "      <td>6.497000e+03</td>\n",
       "      <td>6.497000e+03</td>\n",
       "      <td>6.497000e+03</td>\n",
       "      <td>6.497000e+03</td>\n",
       "      <td>6.497000e+03</td>\n",
       "      <td>6.497000e+03</td>\n",
       "    </tr>\n",
       "    <tr>\n",
       "      <th>mean</th>\n",
       "      <td>-4.211183e-16</td>\n",
       "      <td>-2.163231e-16</td>\n",
       "      <td>-5.579311e-18</td>\n",
       "      <td>8.373238e-19</td>\n",
       "      <td>7.566673e-17</td>\n",
       "      <td>-1.034629e-16</td>\n",
       "      <td>-5.259761e-17</td>\n",
       "      <td>-3.581405e-15</td>\n",
       "      <td>2.709238e-15</td>\n",
       "      <td>2.659358e-16</td>\n",
       "      <td>9.520714e-16</td>\n",
       "      <td>-5.872545e-16</td>\n",
       "    </tr>\n",
       "    <tr>\n",
       "      <th>std</th>\n",
       "      <td>1.000077e+00</td>\n",
       "      <td>1.000077e+00</td>\n",
       "      <td>1.000077e+00</td>\n",
       "      <td>1.000077e+00</td>\n",
       "      <td>1.000077e+00</td>\n",
       "      <td>1.000077e+00</td>\n",
       "      <td>1.000077e+00</td>\n",
       "      <td>1.000077e+00</td>\n",
       "      <td>1.000077e+00</td>\n",
       "      <td>1.000077e+00</td>\n",
       "      <td>1.000077e+00</td>\n",
       "      <td>1.000077e+00</td>\n",
       "    </tr>\n",
       "    <tr>\n",
       "      <th>min</th>\n",
       "      <td>-2.634589e+00</td>\n",
       "      <td>-1.577330e+00</td>\n",
       "      <td>-2.192833e+00</td>\n",
       "      <td>-1.018034e+00</td>\n",
       "      <td>-1.342639e+00</td>\n",
       "      <td>-1.663583e+00</td>\n",
       "      <td>-1.941780e+00</td>\n",
       "      <td>-2.530192e+00</td>\n",
       "      <td>-3.100615e+00</td>\n",
       "      <td>-2.091935e+00</td>\n",
       "      <td>-2.089350e+00</td>\n",
       "      <td>-3.227687e+00</td>\n",
       "    </tr>\n",
       "    <tr>\n",
       "      <th>25%</th>\n",
       "      <td>-6.289329e-01</td>\n",
       "      <td>-6.661613e-01</td>\n",
       "      <td>-4.723335e-01</td>\n",
       "      <td>-7.657978e-01</td>\n",
       "      <td>-5.147986e-01</td>\n",
       "      <td>-7.620742e-01</td>\n",
       "      <td>-6.855323e-01</td>\n",
       "      <td>-7.859527e-01</td>\n",
       "      <td>-6.748622e-01</td>\n",
       "      <td>-6.805919e-01</td>\n",
       "      <td>-8.316152e-01</td>\n",
       "      <td>-9.372296e-01</td>\n",
       "    </tr>\n",
       "    <tr>\n",
       "      <th>50%</th>\n",
       "      <td>-1.660892e-01</td>\n",
       "      <td>-3.016939e-01</td>\n",
       "      <td>-5.941375e-02</td>\n",
       "      <td>-5.135612e-01</td>\n",
       "      <td>-2.578826e-01</td>\n",
       "      <td>-8.594301e-02</td>\n",
       "      <td>3.990667e-02</td>\n",
       "      <td>6.448888e-02</td>\n",
       "      <td>-5.287424e-02</td>\n",
       "      <td>-1.429373e-01</td>\n",
       "      <td>-1.608231e-01</td>\n",
       "      <td>2.079990e-01</td>\n",
       "    </tr>\n",
       "    <tr>\n",
       "      <th>75%</th>\n",
       "      <td>3.738951e-01</td>\n",
       "      <td>3.664962e-01</td>\n",
       "      <td>4.911459e-01</td>\n",
       "      <td>5.584445e-01</td>\n",
       "      <td>2.559494e-01</td>\n",
       "      <td>5.901882e-01</td>\n",
       "      <td>7.122647e-01</td>\n",
       "      <td>7.648525e-01</td>\n",
       "      <td>6.313125e-01</td>\n",
       "      <td>4.619241e-01</td>\n",
       "      <td>6.776670e-01</td>\n",
       "      <td>2.079990e-01</td>\n",
       "    </tr>\n",
       "    <tr>\n",
       "      <th>max</th>\n",
       "      <td>6.699425e+00</td>\n",
       "      <td>7.534354e+00</td>\n",
       "      <td>9.231281e+00</td>\n",
       "      <td>1.268682e+01</td>\n",
       "      <td>1.584219e+01</td>\n",
       "      <td>1.456357e+01</td>\n",
       "      <td>5.737257e+00</td>\n",
       "      <td>1.476879e+01</td>\n",
       "      <td>4.923029e+00</td>\n",
       "      <td>9.870879e+00</td>\n",
       "      <td>3.696231e+00</td>\n",
       "      <td>3.643685e+00</td>\n",
       "    </tr>\n",
       "  </tbody>\n",
       "</table>\n",
       "</div>"
      ],
      "text/plain": [
       "       fixed acidity  volatile acidity   citric acid  residual sugar  \\\n",
       "count   6.497000e+03      6.497000e+03  6.497000e+03    6.497000e+03   \n",
       "mean   -4.211183e-16     -2.163231e-16 -5.579311e-18    8.373238e-19   \n",
       "std     1.000077e+00      1.000077e+00  1.000077e+00    1.000077e+00   \n",
       "min    -2.634589e+00     -1.577330e+00 -2.192833e+00   -1.018034e+00   \n",
       "25%    -6.289329e-01     -6.661613e-01 -4.723335e-01   -7.657978e-01   \n",
       "50%    -1.660892e-01     -3.016939e-01 -5.941375e-02   -5.135612e-01   \n",
       "75%     3.738951e-01      3.664962e-01  4.911459e-01    5.584445e-01   \n",
       "max     6.699425e+00      7.534354e+00  9.231281e+00    1.268682e+01   \n",
       "\n",
       "          chlorides  free sulfur dioxide  total sulfur dioxide       density  \\\n",
       "count  6.497000e+03         6.497000e+03          6.497000e+03  6.497000e+03   \n",
       "mean   7.566673e-17        -1.034629e-16         -5.259761e-17 -3.581405e-15   \n",
       "std    1.000077e+00         1.000077e+00          1.000077e+00  1.000077e+00   \n",
       "min   -1.342639e+00        -1.663583e+00         -1.941780e+00 -2.530192e+00   \n",
       "25%   -5.147986e-01        -7.620742e-01         -6.855323e-01 -7.859527e-01   \n",
       "50%   -2.578826e-01        -8.594301e-02          3.990667e-02  6.448888e-02   \n",
       "75%    2.559494e-01         5.901882e-01          7.122647e-01  7.648525e-01   \n",
       "max    1.584219e+01         1.456357e+01          5.737257e+00  1.476879e+01   \n",
       "\n",
       "                 pH     sulphates       alcohol       quality  \n",
       "count  6.497000e+03  6.497000e+03  6.497000e+03  6.497000e+03  \n",
       "mean   2.709238e-15  2.659358e-16  9.520714e-16 -5.872545e-16  \n",
       "std    1.000077e+00  1.000077e+00  1.000077e+00  1.000077e+00  \n",
       "min   -3.100615e+00 -2.091935e+00 -2.089350e+00 -3.227687e+00  \n",
       "25%   -6.748622e-01 -6.805919e-01 -8.316152e-01 -9.372296e-01  \n",
       "50%   -5.287424e-02 -1.429373e-01 -1.608231e-01  2.079990e-01  \n",
       "75%    6.313125e-01  4.619241e-01  6.776670e-01  2.079990e-01  \n",
       "max    4.923029e+00  9.870879e+00  3.696231e+00  3.643685e+00  "
      ]
     },
     "execution_count": 8,
     "metadata": {},
     "output_type": "execute_result"
    }
   ],
   "source": [
    "from sklearn.preprocessing import StandardScaler\n",
    "\n",
    "dataset[0:10]\n",
    "\n",
    "#no nos interesa normalizar el color, por lo tanto lo guardamos\n",
    "\n",
    "color=dataset[\"color\"]\n",
    "\n",
    "#y lo quitamos del dataset\n",
    "del dataset[\"color\"]\n",
    "\n",
    "dataset[0:10]\n",
    "\n",
    "\n",
    "# Creamos una instancia de StandardScaler:\n",
    "scaler = StandardScaler()\n",
    "\n",
    "# Aplicamos el método .fit(), pasando como\n",
    "# argumento nuestro dataset:\n",
    "scaler.fit(dataset)\n",
    "\n",
    "# Ese .fit() computa la media y desviación\n",
    "# típica de cada variable, dejando preparado\n",
    "# el escalador. Para aplicarlo sobre nuestros\n",
    "# datos, llamamos ahora al método .transform()\n",
    "# (ha de ser después de .fit(), claro):\n",
    "dataset_scaled = scaler.transform(dataset)\n",
    "dataset_scaled=pd.DataFrame(dataset_scaled)\n",
    "\n",
    "dataset_scaled.columns=dataset.columns\n",
    "dataset_scaled.describe()\n",
    "\n"
   ]
  },
  {
   "cell_type": "code",
   "execution_count": 9,
   "metadata": {
    "collapsed": false
   },
   "outputs": [],
   "source": [
    "#añadimos la serie color\n",
    "dataset_scaled[\"color\"]=color"
   ]
  },
  {
   "cell_type": "code",
   "execution_count": 10,
   "metadata": {
    "collapsed": false
   },
   "outputs": [
    {
     "data": {
      "text/plain": [
       "<matplotlib.axes._subplots.AxesSubplot at 0x7f51c1be9ba8>"
      ]
     },
     "execution_count": 10,
     "metadata": {},
     "output_type": "execute_result"
    },
    {
     "data": {
      "image/png": "[encoded data removed]",
      "text/plain": [
       "<matplotlib.figure.Figure at 0x7f51d12dafd0>"
      ]
     },
     "metadata": {},
     "output_type": "display_data"
    }
   ],
   "source": [
    "import matplotlib.pyplot as plt\n",
    "import seaborn as sns\n",
    "%matplotlib inline\n",
    "sns.set()\n",
    "sns.plt.title(\"Mapa de Calor de Correlaciones\")\n",
    "sns.heatmap(dataset_scaled.corr())  "
   ]
  },
  {
   "cell_type": "markdown",
   "metadata": {},
   "source": [
    "a priori, no observamos ninguna correlacion significativa entre las distintas variables. Todas parecen independientes entre si, por lo tanto, vamos a lanzar los modelos de clasificacion con __todas__ las columnas"
   ]
  },
  {
   "cell_type": "markdown",
   "metadata": {},
   "source": [
    "## creamos los dataset train, validation y test"
   ]
  },
  {
   "cell_type": "markdown",
   "metadata": {},
   "source": [
    "## investiguemos con graficos"
   ]
  },
  {
   "cell_type": "code",
   "execution_count": 11,
   "metadata": {
    "collapsed": true
   },
   "outputs": [],
   "source": [
    "from sklearn.model_selection import train_test_split\n",
    "\n",
    "datos_spliteados = train_test_split(dataset_scaled,\n",
    "                                    train_size=0.8, # 80% training\n",
    "                                    test_size=0.2   # 20% testing\n",
    "                                   )"
   ]
  },
  {
   "cell_type": "code",
   "execution_count": 12,
   "metadata": {
    "collapsed": true
   },
   "outputs": [],
   "source": [
    "test=datos_spliteados[1] #construimos el dataset test con el 20% de las observaciones"
   ]
  },
  {
   "cell_type": "code",
   "execution_count": 13,
   "metadata": {
    "collapsed": true
   },
   "outputs": [],
   "source": [
    "resto=datos_spliteados[0] #con el resto, construimos training y validacion"
   ]
  },
  {
   "cell_type": "code",
   "execution_count": 14,
   "metadata": {
    "collapsed": true
   },
   "outputs": [],
   "source": [
    "resto_split=train_test_split(resto,train_size=0.8,test_size=0.2) # lo troceamos de nuevo"
   ]
  },
  {
   "cell_type": "code",
   "execution_count": 15,
   "metadata": {
    "collapsed": false
   },
   "outputs": [],
   "source": [
    "training=resto_split[0] #tomamos el training"
   ]
  },
  {
   "cell_type": "code",
   "execution_count": 16,
   "metadata": {
    "collapsed": true
   },
   "outputs": [],
   "source": [
    "validation=resto_split[1] # finalmente, el test"
   ]
  },
  {
   "cell_type": "code",
   "execution_count": 17,
   "metadata": {
    "collapsed": false
   },
   "outputs": [
    {
     "data": {
      "text/plain": [
       "fixed acidity           4157\n",
       "volatile acidity        4157\n",
       "citric acid             4157\n",
       "residual sugar          4157\n",
       "chlorides               4157\n",
       "free sulfur dioxide     4157\n",
       "total sulfur dioxide    4157\n",
       "density                 4157\n",
       "pH                      4157\n",
       "sulphates               4157\n",
       "alcohol                 4157\n",
       "quality                 4157\n",
       "color                   4157\n",
       "dtype: int64"
      ]
     },
     "execution_count": 17,
     "metadata": {},
     "output_type": "execute_result"
    }
   ],
   "source": [
    "training.count()"
   ]
  },
  {
   "cell_type": "code",
   "execution_count": 18,
   "metadata": {
    "collapsed": false
   },
   "outputs": [
    {
     "data": {
      "text/plain": [
       "fixed acidity           1040\n",
       "volatile acidity        1040\n",
       "citric acid             1040\n",
       "residual sugar          1040\n",
       "chlorides               1040\n",
       "free sulfur dioxide     1040\n",
       "total sulfur dioxide    1040\n",
       "density                 1040\n",
       "pH                      1040\n",
       "sulphates               1040\n",
       "alcohol                 1040\n",
       "quality                 1040\n",
       "color                   1040\n",
       "dtype: int64"
      ]
     },
     "execution_count": 18,
     "metadata": {},
     "output_type": "execute_result"
    }
   ],
   "source": [
    "validation.count()"
   ]
  },
  {
   "cell_type": "code",
   "execution_count": 19,
   "metadata": {
    "collapsed": false
   },
   "outputs": [
    {
     "data": {
      "text/plain": [
       "fixed acidity           1300\n",
       "volatile acidity        1300\n",
       "citric acid             1300\n",
       "residual sugar          1300\n",
       "chlorides               1300\n",
       "free sulfur dioxide     1300\n",
       "total sulfur dioxide    1300\n",
       "density                 1300\n",
       "pH                      1300\n",
       "sulphates               1300\n",
       "alcohol                 1300\n",
       "quality                 1300\n",
       "color                   1300\n",
       "dtype: int64"
      ]
     },
     "execution_count": 19,
     "metadata": {},
     "output_type": "execute_result"
    }
   ],
   "source": [
    "test.count()"
   ]
  },
  {
   "cell_type": "markdown",
   "metadata": {
    "collapsed": false
   },
   "source": [
    "## lanzamos los modelos de clasificacion\n"
   ]
  },
  {
   "cell_type": "code",
   "execution_count": 20,
   "metadata": {
    "collapsed": true
   },
   "outputs": [],
   "source": [
    "#creo un dataset a partir del training con todas las columnas menos la columna color"
   ]
  },
  {
   "cell_type": "code",
   "execution_count": 21,
   "metadata": {
    "collapsed": false
   },
   "outputs": [
    {
     "name": "stdout",
     "output_type": "stream",
     "text": [
      "Bien clasificados en validacion: 0.9865384615384616\n"
     ]
    }
   ],
   "source": [
    "from sklearn.ensemble import RandomForestClassifier\n",
    "\n",
    "#preparo los dataset training ,validacion y test\n",
    "\n",
    "training_rf = training\n",
    "training_label_rf=training[\"color\"]\n",
    "\n",
    "validation_rf = validation\n",
    "validation_label_rf=validation[\"color\"]\n",
    "\n",
    "test_rf=test\n",
    "test_label_rf=test[\"color\"]\n",
    "\n",
    "\n",
    "#elimino la columna color y dejo preparados los datasets con todas las demas columnas para lanzar el modelo\n",
    "\n",
    "del training_rf[\"color\"]\n",
    "del validation_rf[\"color\"]\n",
    "del test_rf[\"color\"]\n",
    "\n",
    "# lanzamos el RandomForestClassifier\n",
    "\n",
    "rf = RandomForestClassifier(n_estimators=20, # 20 árboles\n",
    "                            criterion=\"entropy\", # Igual que en el DecisionTreeClassifier\n",
    "                            max_depth=3, # Igual que en el DecisionTreeClassifier\n",
    "                            min_samples_split=10,\n",
    "                            min_samples_leaf=5,\n",
    "                            bootstrap=True)\n",
    "\n",
    "rf.fit(X=training_rf,y=training_label_rf) # lo entrenamos\n",
    "\n",
    "print(\"Bien clasificados en validacion: %.16f\" % rf.score(X=validation_rf,y=validation_label_rf))"
   ]
  },
  {
   "cell_type": "markdown",
   "metadata": {},
   "source": [
    "obtenemos un magnífico resultado, probemos ahora con el dataset de Testing"
   ]
  },
  {
   "cell_type": "code",
   "execution_count": 22,
   "metadata": {
    "collapsed": false
   },
   "outputs": [
    {
     "name": "stdout",
     "output_type": "stream",
     "text": [
      "Bien clasificados en test: 0.9869230769230769\n"
     ]
    }
   ],
   "source": [
    "rf.fit(X=test_rf,y=test_label_rf) # lo entrenamos\n",
    "\n",
    "print(\"Bien clasificados en test: %.16f\" % rf.score(X=test_rf,y=test_label_rf))"
   ]
  },
  {
   "cell_type": "markdown",
   "metadata": {
    "collapsed": true
   },
   "source": [
    "## Grid Search"
   ]
  },
  {
   "cell_type": "markdown",
   "metadata": {},
   "source": [
    "vamos a lanzar una grid de RandomForests Classifiers a ver si encontramos una combinacion de parametros que nos de un resultado mejor"
   ]
  },
  {
   "cell_type": "code",
   "execution_count": 23,
   "metadata": {
    "collapsed": false
   },
   "outputs": [
    {
     "name": "stdout",
     "output_type": "stream",
     "text": [
      "Best parameters :\n",
      "{'class_weight': None, 'n_estimators': 20, 'max_depth': None, 'min_samples_leaf': 1}\n",
      "             precision    recall  f1-score   support\n",
      "\n",
      "          0       0.99      1.00      0.99       984\n",
      "          1       0.99      0.96      0.97       316\n",
      "\n",
      "avg / total       0.99      0.99      0.99      1300\n",
      "\n"
     ]
    }
   ],
   "source": [
    "from sklearn.model_selection import GridSearchCV\n",
    "from sklearn.metrics import classification_report\n",
    "\n",
    "tuned_parameters = [{\n",
    "        \"n_estimators\":[6,8,20],\n",
    "        \"max_depth\":[4,6,None],\n",
    "        \"min_samples_leaf\":[1,2,3],\n",
    "        \"class_weight\":[\"balanced\",None]\n",
    "    }]\n",
    "\n",
    "Grid_rf = GridSearchCV(RandomForestClassifier(n_jobs=-1), tuned_parameters, cv=5)\n",
    "Grid_rf.fit(X=training_rf,y=training_label_rf)\n",
    "print(\"Best parameters :\")\n",
    "print(Grid_rf.best_params_)\n",
    "print(classification_report(test_label_rf,rf.predict(test_rf)))"
   ]
  },
  {
   "cell_type": "markdown",
   "metadata": {},
   "source": [
    "## modelo regresor para la calidad del vino"
   ]
  },
  {
   "cell_type": "code",
   "execution_count": 24,
   "metadata": {
    "collapsed": false
   },
   "outputs": [
    {
     "name": "stdout",
     "output_type": "stream",
     "text": [
      "MSE: 0.000750160658694\n",
      "RMSE: 0.0273890609312\n"
     ]
    }
   ],
   "source": [
    "from sklearn.ensemble import RandomForestRegressor\n",
    "from sklearn.metrics  import mean_squared_error\n",
    "\n",
    "#como vamos a predecir la variable \"quality\" lo hacemos a partir del dataset orginal, sin necesidad de normalizar las columnas\n",
    "\n",
    "training_rf_reg = dataset # lanzamos el modelo regresor con el 100 % del dataset\n",
    "training_label_rf_reg=dataset[\"quality\"]\n",
    "\n",
    "# lanzamos el RandomForestRegressor\n",
    "\n",
    "rf_reg = RandomForestRegressor(n_estimators=20, # 20 árboles\n",
    "                            criterion=\"mse\", # segun lo que viene en la doc\n",
    "                            max_depth=3, # Igual que en el DecisionTreeClassifier\n",
    "                            min_samples_split=10,\n",
    "                            min_samples_leaf=5,\n",
    "                            bootstrap=True)\n",
    "\n",
    "rf_reg.fit(X=training_rf_reg,y=training_label_rf_reg) # lo entrenamos\n",
    "\n",
    "# Medimos:\n",
    "mse = mean_squared_error(y_true=training_label_rf_reg,\n",
    "                         y_pred=rf_reg.predict(training_rf_reg))\n",
    "rmse = np.sqrt(mse)\n",
    "print(\"MSE: \" + str(mse))\n",
    "print(\"RMSE: \" +  str(rmse))\n",
    "\n"
   ]
  },
  {
   "cell_type": "code",
   "execution_count": null,
   "metadata": {
    "collapsed": true
   },
   "outputs": [],
   "source": []
  }
 ],
 "metadata": {
  "anaconda-cloud": {},
  "kernelspec": {
   "display_name": "Python [Root]",
   "language": "python",
   "name": "Python [Root]"
  },
  "language_info": {
   "codemirror_mode": {
    "name": "ipython",
    "version": 3
   },
   "file_extension": ".py",
   "mimetype": "text/x-python",
   "name": "python",
   "nbconvert_exporter": "python",
   "pygments_lexer": "ipython3",
   "version": "3.5.2"
  }
 },
 "nbformat": 4,
 "nbformat_minor": 0
}
